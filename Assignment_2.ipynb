{
 "cells": [
  {
   "cell_type": "markdown",
   "id": "cfd5e8f8",
   "metadata": {},
   "source": [
    "# string based question"
   ]
  },
  {
   "cell_type": "markdown",
   "id": "98236a40",
   "metadata": {},
   "source": [
    "1. Write a program to reverse a string."
   ]
  },
  {
   "cell_type": "code",
   "execution_count": 1,
   "id": "eec73c7d",
   "metadata": {},
   "outputs": [
    {
     "data": {
      "text/plain": [
       "'nohtyp'"
      ]
     },
     "execution_count": 1,
     "metadata": {},
     "output_type": "execute_result"
    }
   ],
   "source": [
    "def reverse(string):\n",
    "    new_string=string[::-1]\n",
    "    return new_string\n",
    "reverse('python')    "
   ]
  },
  {
   "cell_type": "markdown",
   "id": "c3610ca8",
   "metadata": {},
   "source": [
    "2. Check if a string is a palindrome.\n"
   ]
  },
  {
   "cell_type": "code",
   "execution_count": 2,
   "id": "56233390",
   "metadata": {},
   "outputs": [
    {
     "name": "stdout",
     "output_type": "stream",
     "text": [
      "string is palidrome\n",
      "string is not palidrome\n"
     ]
    }
   ],
   "source": [
    "def palindrome(s):\n",
    "    string=s.lower()\n",
    "    if (string ==string[::-1]):\n",
    "        return ('string is palidrome')\n",
    "    else:\n",
    "        return ('string is not palidrome')\n",
    "\n",
    "print( palindrome('Pdp'))\n",
    "print(palindrome('pdf'))\n",
    "    "
   ]
  },
  {
   "cell_type": "markdown",
   "id": "629edb64",
   "metadata": {},
   "source": [
    "3. Convert a string to uppercase.\n"
   ]
  },
  {
   "cell_type": "code",
   "execution_count": 3,
   "id": "93f1f59d",
   "metadata": {},
   "outputs": [
    {
     "data": {
      "text/plain": [
       "'PIP'"
      ]
     },
     "execution_count": 3,
     "metadata": {},
     "output_type": "execute_result"
    }
   ],
   "source": [
    "def uppercase(string):\n",
    "     return string.upper()\n",
    "    \n",
    "uppercase('pip')"
   ]
  },
  {
   "cell_type": "markdown",
   "id": "95e577c5",
   "metadata": {},
   "source": [
    "4. Convert a string to lowercase.\n"
   ]
  },
  {
   "cell_type": "code",
   "execution_count": 4,
   "id": "0e61961f",
   "metadata": {},
   "outputs": [
    {
     "data": {
      "text/plain": [
       "'pip'"
      ]
     },
     "execution_count": 4,
     "metadata": {},
     "output_type": "execute_result"
    }
   ],
   "source": [
    "def lowercase(string):\n",
    "     return string.lower()\n",
    "lowercase(\"PIP\")"
   ]
  },
  {
   "cell_type": "markdown",
   "id": "7eade48d",
   "metadata": {},
   "source": [
    "5. Count the number of vowels in a string.\n"
   ]
  },
  {
   "cell_type": "code",
   "execution_count": 5,
   "id": "bcab7193",
   "metadata": {},
   "outputs": [
    {
     "name": "stdout",
     "output_type": "stream",
     "text": [
      "number of voewl is : 4\n"
     ]
    }
   ],
   "source": [
    "def vowel_count(string):\n",
    "    v=0\n",
    "    vowel='aeiouAEIOU'\n",
    "    for i in string:\n",
    "        if i in vowel:\n",
    "            v+=1\n",
    "        \n",
    "    return (print('number of voewl is :',v))\n",
    "vowel_count('aa bb ii')"
   ]
  },
  {
   "cell_type": "markdown",
   "id": "025c1b71",
   "metadata": {},
   "source": [
    "6. Count the number of consonants in a string."
   ]
  },
  {
   "cell_type": "code",
   "execution_count": 6,
   "id": "20910a89",
   "metadata": {},
   "outputs": [
    {
     "name": "stdout",
     "output_type": "stream",
     "text": [
      "Number of consonent is : 4\n"
     ]
    }
   ],
   "source": [
    "def consonant_count(string):\n",
    "    c=0\n",
    "    vowel='aeiouAEIOU'\n",
    "    for i in string:\n",
    "        if i not in vowel and i.isalpha():\n",
    "            c+=1\n",
    "        \n",
    "    return (print('Number of consonent is :',c))\n",
    "consonant_count('aa bb cc ii')"
   ]
  },
  {
   "cell_type": "markdown",
   "id": "7a6756c8",
   "metadata": {},
   "source": [
    "7. Remove all whitespaces from a string."
   ]
  },
  {
   "cell_type": "code",
   "execution_count": 7,
   "id": "2a43daf0",
   "metadata": {},
   "outputs": [
    {
     "name": "stdout",
     "output_type": "stream",
     "text": [
      "string without whitespaces : aabbccii\n"
     ]
    }
   ],
   "source": [
    "def remove_whitespace(s):\n",
    "    return (print('string without whitespaces :',s.replace(' ','')))\n",
    "remove_whitespace('aa bb cc ii')\n"
   ]
  },
  {
   "cell_type": "markdown",
   "id": "46e875e3",
   "metadata": {},
   "source": [
    "8. Find the length of a string without using the `len()` function.\n"
   ]
  },
  {
   "cell_type": "code",
   "execution_count": 8,
   "id": "a421b42f",
   "metadata": {},
   "outputs": [
    {
     "name": "stdout",
     "output_type": "stream",
     "text": [
      "length of string is :  6\n"
     ]
    }
   ],
   "source": [
    "def length(string):\n",
    "    s=0\n",
    "    for i in string:\n",
    "        s+=1\n",
    "    return (print('length of string is : ',s))\n",
    "length('string')"
   ]
  },
  {
   "cell_type": "markdown",
   "id": "ddf22395",
   "metadata": {},
   "source": [
    "9. Check if a string contains a specific word.\n"
   ]
  },
  {
   "cell_type": "code",
   "execution_count": 9,
   "id": "8984f38b",
   "metadata": {},
   "outputs": [
    {
     "name": "stdout",
     "output_type": "stream",
     "text": [
      "enter a string :i love my india\n",
      "enter a word you want check : my\n",
      "string contains a specific word  my\n"
     ]
    }
   ],
   "source": [
    "string=str(input('enter a string :'))\n",
    "word=str(input('enter a word you want check : '))\n",
    "\n",
    "if word in string:\n",
    "    print(f'string contains a specific word  {word}')\n",
    "else:\n",
    "    print(f'string contains not a specific word  {word}')\n",
    "        "
   ]
  },
  {
   "cell_type": "markdown",
   "id": "19d41927",
   "metadata": {},
   "source": [
    "10. Replace a word in a string with another word."
   ]
  },
  {
   "cell_type": "code",
   "execution_count": 10,
   "id": "bdf0b62c",
   "metadata": {},
   "outputs": [
    {
     "name": "stdout",
     "output_type": "stream",
     "text": [
      "enter a string :this is python and data science class\n",
      "enter a word you want replace : class\n",
      "enter a new word : lecture\n",
      "new string is : this is python and data science lecture\n"
     ]
    }
   ],
   "source": [
    "string=str(input('enter a string :'))\n",
    "word=str(input('enter a word you want replace : '))\n",
    "new_word=str(input('enter a new word : '))\n",
    "if word in string:\n",
    "    str1=string.replace(word,new_word)\n",
    "    print(f'new string is : {str1}')\n",
    "else:\n",
    "    ('word is not present in string')\n"
   ]
  },
  {
   "cell_type": "markdown",
   "id": "b2629285",
   "metadata": {},
   "source": [
    "11. Count the occurrences of a word in a string."
   ]
  },
  {
   "cell_type": "code",
   "execution_count": 11,
   "id": "703ca8dd",
   "metadata": {},
   "outputs": [
    {
     "name": "stdout",
     "output_type": "stream",
     "text": [
      "class is present  2 times in string\n"
     ]
    }
   ],
   "source": [
    "def occurrence_of_word(string,word):\n",
    "    count=0\n",
    "    s=string.split()\n",
    "    for i in s:\n",
    "        if i==word:\n",
    "            count+=1\n",
    "    return (print(f'{word} is present  {count} times in string'))\n",
    "occurrence_of_word('this is a python  class & i realy enjoy class','class')"
   ]
  },
  {
   "cell_type": "markdown",
   "id": "ea673c49",
   "metadata": {},
   "source": [
    "12. Find the first occurrence of a word in a string."
   ]
  },
  {
   "cell_type": "code",
   "execution_count": 12,
   "id": "c14fc00d",
   "metadata": {},
   "outputs": [
    {
     "name": "stdout",
     "output_type": "stream",
     "text": [
      "first occurrence of a 'class' in a string  18\n"
     ]
    }
   ],
   "source": [
    "string='this is a python  class & i realy enjoy class'\n",
    "word='class'\n",
    "print(f\"first occurrence of a '{word}' in a string  {string.find(word)}\")"
   ]
  },
  {
   "cell_type": "markdown",
   "id": "5ca0244c",
   "metadata": {},
   "source": [
    "13. Find the last occurrence of a word in a string."
   ]
  },
  {
   "cell_type": "code",
   "execution_count": 13,
   "id": "5643facb",
   "metadata": {},
   "outputs": [
    {
     "name": "stdout",
     "output_type": "stream",
     "text": [
      "first occurrence of a 'class' in a string  40\n"
     ]
    }
   ],
   "source": [
    "string='this is a python  class & i realy enjoy class'\n",
    "word='class'\n",
    "print(f\"first occurrence of a '{word}' in a string  {string.rfind(word)}\")"
   ]
  },
  {
   "cell_type": "markdown",
   "id": "1040a94a",
   "metadata": {},
   "source": [
    "14. Split a string into a list of words."
   ]
  },
  {
   "cell_type": "code",
   "execution_count": 14,
   "id": "f4f66c4e",
   "metadata": {},
   "outputs": [
    {
     "data": {
      "text/plain": [
       "['this', 'is', 'a', 'python', 'class', '&', 'i', 'realy', 'enjoy', 'class']"
      ]
     },
     "execution_count": 14,
     "metadata": {},
     "output_type": "execute_result"
    }
   ],
   "source": [
    "def split_string(string):\n",
    "    return string.split()\n",
    "split_string(string)"
   ]
  },
  {
   "cell_type": "markdown",
   "id": "78a88eab",
   "metadata": {},
   "source": [
    "15. Join a list of words into a string."
   ]
  },
  {
   "cell_type": "code",
   "execution_count": 15,
   "id": "76007fd9",
   "metadata": {},
   "outputs": [
    {
     "data": {
      "text/plain": [
       "'this is a python class & i realy enjoy class'"
      ]
     },
     "execution_count": 15,
     "metadata": {},
     "output_type": "execute_result"
    }
   ],
   "source": [
    "def join_a_string(string):\n",
    "    return ' '.join(string)\n",
    "word=['this', 'is', 'a', 'python', 'class', '&', 'i', 'realy', 'enjoy', 'class']\n",
    "join_a_string(word)"
   ]
  },
  {
   "cell_type": "markdown",
   "id": "63b6f0b6",
   "metadata": {},
   "source": [
    "16. Convert a string where words are separated by spaces to one where words are separated by underscores."
   ]
  },
  {
   "cell_type": "code",
   "execution_count": 16,
   "id": "044046ad",
   "metadata": {},
   "outputs": [
    {
     "data": {
      "text/plain": [
       "'this_is_a_python__class_&_i_realy_enjoy_class'"
      ]
     },
     "execution_count": 16,
     "metadata": {},
     "output_type": "execute_result"
    }
   ],
   "source": [
    "def convert_a_string(string):\n",
    "    underscore=string.replace(' ',\"_\")\n",
    "    return underscore\n",
    "string='this is a python  class & i realy enjoy class'\n",
    "convert_a_string(string)"
   ]
  },
  {
   "cell_type": "markdown",
   "id": "d78ec30c",
   "metadata": {},
   "source": [
    "17. Check if a string starts with a specific word or phrase."
   ]
  },
  {
   "cell_type": "code",
   "execution_count": 17,
   "id": "795873e5",
   "metadata": {},
   "outputs": [
    {
     "data": {
      "text/plain": [
       "True"
      ]
     },
     "execution_count": 17,
     "metadata": {},
     "output_type": "execute_result"
    }
   ],
   "source": [
    "def start_with(string,text):\n",
    "    start=string.startswith(text)\n",
    "    return start\n",
    "string='this is a python  class & i realy enjoy class'\n",
    "text='this'\n",
    "start_with(string,text)"
   ]
  },
  {
   "cell_type": "markdown",
   "id": "c5bbc341",
   "metadata": {},
   "source": [
    "18. Check if a string ends with a specific word or phrase."
   ]
  },
  {
   "cell_type": "code",
   "execution_count": 18,
   "id": "18c05b41",
   "metadata": {},
   "outputs": [
    {
     "data": {
      "text/plain": [
       "False"
      ]
     },
     "execution_count": 18,
     "metadata": {},
     "output_type": "execute_result"
    }
   ],
   "source": [
    "def ends_with(string,text):\n",
    "    start=string.endswith(text)\n",
    "    return start\n",
    "string='this is a python  class & i realy enjoy class'\n",
    "text='this'\n",
    "ends_with(string,text)"
   ]
  },
  {
   "cell_type": "markdown",
   "id": "e09b8d80",
   "metadata": {},
   "source": [
    "19. Convert a string to title case (e.g., \"hello world\" to \"Hello World\")."
   ]
  },
  {
   "cell_type": "code",
   "execution_count": 19,
   "id": "e9479e35",
   "metadata": {},
   "outputs": [
    {
     "data": {
      "text/plain": [
       "'Hello World'"
      ]
     },
     "execution_count": 19,
     "metadata": {},
     "output_type": "execute_result"
    }
   ],
   "source": [
    "def convert_a_string(string):\n",
    "    return string.title()\n",
    "string= \"hello world\" \n",
    "convert_a_string(string)"
   ]
  },
  {
   "cell_type": "markdown",
   "id": "232a7024",
   "metadata": {},
   "source": [
    "20. Find the longest word in a string.\n"
   ]
  },
  {
   "cell_type": "code",
   "execution_count": 20,
   "id": "61b7f721",
   "metadata": {},
   "outputs": [
    {
     "name": "stdout",
     "output_type": "stream",
     "text": [
      " longest word in a string  :   python\n"
     ]
    }
   ],
   "source": [
    "string='this is a python  class & i realy enjoy class'\n",
    "split_str=string.split()\n",
    "word = \"\"\n",
    "max_length = 0\n",
    "for i in split_str:\n",
    "        if len(i) > max_length:\n",
    "            max_length = len(i)\n",
    "            longest_word = i\n",
    "\n",
    "print(' longest word in a string  :  ',longest_word)"
   ]
  },
  {
   "cell_type": "markdown",
   "id": "a974ccbc",
   "metadata": {},
   "source": [
    "21. Find the shortest word in a string.\n"
   ]
  },
  {
   "cell_type": "code",
   "execution_count": 21,
   "id": "982c21b9",
   "metadata": {},
   "outputs": [
    {
     "name": "stdout",
     "output_type": "stream",
     "text": [
      "smallest word in a string  :   python\n"
     ]
    }
   ],
   "source": [
    "string='this is a python class'\n",
    "split_str=string.split()\n",
    "word = \"\"\n",
    "max_length = float('inf')\n",
    "for i in split_str:\n",
    "        if len(i) < max_length:\n",
    "            max_length = len(i)\n",
    "            smallest_word = i\n",
    "\n",
    "print('smallest word in a string  :  ',longest_word)"
   ]
  },
  {
   "cell_type": "markdown",
   "id": "765acd3d",
   "metadata": {},
   "source": [
    "22. Reverse the order of words in a string."
   ]
  },
  {
   "cell_type": "code",
   "execution_count": 22,
   "id": "db84e0e8",
   "metadata": {},
   "outputs": [
    {
     "name": "stdout",
     "output_type": "stream",
     "text": [
      "class python a is this\n"
     ]
    }
   ],
   "source": [
    "def reversed_word(string):\n",
    "    split_str=string.split()\n",
    "    s=reversed(split_str)\n",
    "    # s=split_str[::-1]\n",
    "    print(' '.join(s))\n",
    "string='this is a python class'\n",
    "reversed_word(string)"
   ]
  },
  {
   "cell_type": "markdown",
   "id": "0a9b73c7",
   "metadata": {},
   "source": [
    "23. Check if a string is alphanumeric."
   ]
  },
  {
   "cell_type": "code",
   "execution_count": 23,
   "id": "fc47a366",
   "metadata": {},
   "outputs": [
    {
     "data": {
      "text/plain": [
       "True"
      ]
     },
     "execution_count": 23,
     "metadata": {},
     "output_type": "execute_result"
    }
   ],
   "source": [
    "def alphanumeric(string):\n",
    "    return string.isalnum()\n",
    "alphanumeric('wgfy')"
   ]
  },
  {
   "cell_type": "markdown",
   "id": "97b675be",
   "metadata": {},
   "source": [
    "24. Extract all digits from a string."
   ]
  },
  {
   "cell_type": "code",
   "execution_count": 24,
   "id": "6d0e8b5a",
   "metadata": {},
   "outputs": [
    {
     "name": "stdout",
     "output_type": "stream",
     "text": [
      "35746998\n"
     ]
    }
   ],
   "source": [
    "def digit(string):\n",
    "    digit=''\n",
    "    for i in string:\n",
    "        if i.isdigit():\n",
    "            digit+=i\n",
    "    print(digit)\n",
    "string='this is a python class 35 74 6998'\n",
    "digit(string)"
   ]
  },
  {
   "cell_type": "markdown",
   "id": "c7c388d4",
   "metadata": {},
   "source": [
    "25. Extract all alphabets from a string."
   ]
  },
  {
   "cell_type": "code",
   "execution_count": 25,
   "id": "1250a6c9",
   "metadata": {},
   "outputs": [
    {
     "data": {
      "text/plain": [
       "'Thisisapythonclass'"
      ]
     },
     "execution_count": 25,
     "metadata": {},
     "output_type": "execute_result"
    }
   ],
   "source": [
    "def alpha(string):\n",
    "    alphabet=''\n",
    "    for i in string:\n",
    "        if i.isalpha():\n",
    "            alphabet+=i\n",
    "    return alphabet\n",
    "string='This is a python class 35 74 6998'\n",
    "alpha(string)"
   ]
  },
  {
   "cell_type": "markdown",
   "id": "d97175b3",
   "metadata": {},
   "source": [
    "26. Count the number of uppercase letters in a string."
   ]
  },
  {
   "cell_type": "code",
   "execution_count": 26,
   "id": "be4a29ef",
   "metadata": {},
   "outputs": [
    {
     "data": {
      "text/plain": [
       "('total number of uppercase', 5)"
      ]
     },
     "execution_count": 26,
     "metadata": {},
     "output_type": "execute_result"
    }
   ],
   "source": [
    "def count_uppercase(string):\n",
    "    count=0\n",
    "    for i in string:\n",
    "        if i.isupper():\n",
    "            count+=1\n",
    "    return 'total number of uppercase',count\n",
    "string='TTT NN dfhk'\n",
    "count_uppercase(string)"
   ]
  },
  {
   "cell_type": "markdown",
   "id": "a2630bb6",
   "metadata": {},
   "source": [
    "27. Count the number of lowercase letters in a string.\n"
   ]
  },
  {
   "cell_type": "code",
   "execution_count": 27,
   "id": "1596be6b",
   "metadata": {},
   "outputs": [
    {
     "data": {
      "text/plain": [
       "('total number of uppercase', 4)"
      ]
     },
     "execution_count": 27,
     "metadata": {},
     "output_type": "execute_result"
    }
   ],
   "source": [
    "def count_lowercase(string):\n",
    "    count=0\n",
    "    for i in string:\n",
    "        if i.islower():\n",
    "            count+=1\n",
    "    return 'total number of uppercase',count\n",
    "string='TTT NN dfhk'\n",
    "count_lowercase(string)"
   ]
  },
  {
   "cell_type": "markdown",
   "id": "0fd63073",
   "metadata": {},
   "source": [
    "28. Swap the case of each character in a string.\n"
   ]
  },
  {
   "cell_type": "code",
   "execution_count": 28,
   "id": "f5c9261d",
   "metadata": {},
   "outputs": [
    {
     "data": {
      "text/plain": [
       "'ttt nn DFHK'"
      ]
     },
     "execution_count": 28,
     "metadata": {},
     "output_type": "execute_result"
    }
   ],
   "source": [
    "def swap_case(string):\n",
    "    return string.swapcase()\n",
    "string='TTT NN dfhk'\n",
    "swap_case(string)    "
   ]
  },
  {
   "cell_type": "markdown",
   "id": "a47d0dba",
   "metadata": {},
   "source": [
    "29. Remove a specific word from a string.\n"
   ]
  },
  {
   "cell_type": "code",
   "execution_count": 29,
   "id": "35a15dba",
   "metadata": {},
   "outputs": [
    {
     "name": "stdout",
     "output_type": "stream",
     "text": [
      "modified string is :  this is a  class 35 74 6998\n"
     ]
    }
   ],
   "source": [
    "def remove_specific_word(string,word):\n",
    "        if word  in string :\n",
    "            return (print(\"modified string is : \",string.replace(word,'')))\n",
    "string='this is a python class 35 74 6998'\n",
    "word='python'\n",
    "remove_specific_word(string,word)\n",
    "        "
   ]
  },
  {
   "cell_type": "markdown",
   "id": "a8d37173",
   "metadata": {},
   "source": [
    "30. Check if a string is a valid email address"
   ]
  },
  {
   "cell_type": "code",
   "execution_count": 30,
   "id": "f4f9afaf",
   "metadata": {},
   "outputs": [
    {
     "name": "stdout",
     "output_type": "stream",
     "text": [
      "Valid Email\n",
      "Invalid Email\n",
      "Valid Email\n"
     ]
    }
   ],
   "source": [
    "import re\n",
    "\n",
    "def check(email):\n",
    "    pattern = '^[\\w.]+@+[\\w]+[.]+\\w{2,3}'\n",
    "\n",
    "    if(re.search(pattern,email)):\n",
    "        print(\"Valid Email\")\n",
    "    else:\n",
    "        print(\"Invalid Email\")\n",
    "email = \"rohit.gupta@mcnsolutions.net\"\n",
    "check(email)\n",
    "\n",
    "email = \"praveen@c-sharpcorner.com\"\n",
    "(check(email))\n",
    "\n",
    "\n",
    "email = \"inform2atul@gmail.com\"\n",
    "check(email)\n"
   ]
  },
  {
   "cell_type": "markdown",
   "id": "f6be4e7b",
   "metadata": {},
   "source": [
    "31. Extract the username from an email address string."
   ]
  },
  {
   "cell_type": "code",
   "execution_count": 31,
   "id": "5ab481de",
   "metadata": {},
   "outputs": [
    {
     "data": {
      "text/plain": [
       "'inform2atul'"
      ]
     },
     "execution_count": 31,
     "metadata": {},
     "output_type": "execute_result"
    }
   ],
   "source": [
    "def extract_username(email):\n",
    "    string=email.split('@')\n",
    "    return string[0]\n",
    "\n",
    "email = \"inform2atul@gmail.com\"\n",
    "extract_username(email)        "
   ]
  },
  {
   "cell_type": "markdown",
   "id": "2752ed7b",
   "metadata": {},
   "source": [
    "32. Extract the domain name from an email address string."
   ]
  },
  {
   "cell_type": "code",
   "execution_count": 32,
   "id": "526943d5",
   "metadata": {},
   "outputs": [
    {
     "data": {
      "text/plain": [
       "'gmail.com'"
      ]
     },
     "execution_count": 32,
     "metadata": {},
     "output_type": "execute_result"
    }
   ],
   "source": [
    "def extract_username(email):\n",
    "    string=email.split('@')\n",
    "    return string[1]\n",
    "email = \"inform2atul@gmail.com\"\n",
    "extract_username(email)"
   ]
  },
  {
   "cell_type": "markdown",
   "id": "7214fdf9",
   "metadata": {},
   "source": [
    "33. Replace multiple spaces in a string with a single space."
   ]
  },
  {
   "cell_type": "code",
   "execution_count": 33,
   "id": "cc1ecd9e",
   "metadata": {},
   "outputs": [
    {
     "data": {
      "text/plain": [
       "'remove multiple spaces'"
      ]
     },
     "execution_count": 33,
     "metadata": {},
     "output_type": "execute_result"
    }
   ],
   "source": [
    "def replace_multiple_spaces(str):\n",
    "    string=str.split()\n",
    "    return ' '.join(string)\n",
    "string='remove multiple    spaces' \n",
    "replace_multiple_spaces(string)"
   ]
  },
  {
   "cell_type": "markdown",
   "id": "0e74f42d",
   "metadata": {},
   "source": [
    "34. Check if a string is a valid URL."
   ]
  },
  {
   "cell_type": "code",
   "execution_count": 34,
   "id": "a59529ce",
   "metadata": {},
   "outputs": [
    {
     "name": "stdout",
     "output_type": "stream",
     "text": [
      "valid url \n"
     ]
    }
   ],
   "source": [
    "def check_url(string):\n",
    "    x=string.split()\n",
    "    for i in x:\n",
    "        if i.startswith(\"https:\") or i.startswith(\"http:\"):\n",
    "            print('valid url ')\n",
    "        else: \n",
    "            print('invalid url')\n",
    "string='http://google.com'\n",
    "check_url(string)"
   ]
  },
  {
   "cell_type": "code",
   "execution_count": null,
   "id": "b5064e89",
   "metadata": {},
   "outputs": [],
   "source": []
  },
  {
   "cell_type": "markdown",
   "id": "25eea268",
   "metadata": {},
   "source": [
    "35. Extract the protocol (http or https) from a URL string."
   ]
  },
  {
   "cell_type": "code",
   "execution_count": 35,
   "id": "18356573",
   "metadata": {},
   "outputs": [
    {
     "name": "stdout",
     "output_type": "stream",
     "text": [
      "ftp\n",
      "http\n"
     ]
    }
   ],
   "source": [
    "def extract_protocol(url):\n",
    "    string=url.split('://')\n",
    "    return string[0]\n",
    "url1 = \"ftp://www.myself.com\"\n",
    "url2 = \"http://google.com\"\n",
    "print(extract_protocol(url1))\n",
    "print(extract_protocol(url2))"
   ]
  },
  {
   "cell_type": "markdown",
   "id": "3d7c02ca",
   "metadata": {},
   "source": [
    "36. Find the frequency of each character in a string."
   ]
  },
  {
   "cell_type": "code",
   "execution_count": 36,
   "id": "5a948081",
   "metadata": {},
   "outputs": [
    {
     "name": "stdout",
     "output_type": "stream",
     "text": [
      "Count of  is  = 2\n",
      "Count of Twinkle, is  = 1\n",
      "Count of twinkle, is  = 1\n",
      "Count of little is  = 1\n",
      "Count of star, is  = 1\n",
      "Count of How is  = 1\n",
      "Count of I is  = 1\n",
      "Count of wonder is  = 1\n",
      "Count of what is  = 1\n",
      "Count of you is  = 1\n",
      "Count of are! is  = 1\n",
      "Count of Up is  = 1\n",
      "Count of above is  = 1\n",
      "Count of the is  = 2\n",
      "Count of world is  = 1\n",
      "Count of so is  = 1\n",
      "Count of high, is  = 1\n",
      "Count of Like is  = 1\n",
      "Count of a is  = 1\n",
      "Count of diamond is  = 1\n",
      "Count of in is  = 1\n",
      "Count of sky. is  = 1\n"
     ]
    }
   ],
   "source": [
    "string=''' Twinkle, twinkle, little star,\n",
    "\n",
    " How I wonder what you are!\n",
    "  Up above the world so high,\n",
    " Like a diamond in the sky.'''\n",
    "\n",
    "words=string.split(' ')\n",
    "new_list=[]\n",
    "for i in words:\n",
    "    if '\\n' in i:\n",
    "        new_list.append(i.replace('\\n',''))\n",
    "    else:\n",
    "        new_list.append(i)\n",
    "\n",
    "exist=[]\n",
    "for i in new_list:\n",
    "    if i not in exist:\n",
    "        print(f'Count of {i} is  = {new_list.count(i)}')\n",
    "        exist.append(i)"
   ]
  },
  {
   "cell_type": "markdown",
   "id": "ad53983f",
   "metadata": {},
   "source": [
    "37. Remove all punctuation from a string."
   ]
  },
  {
   "cell_type": "code",
   "execution_count": 37,
   "id": "412a4688",
   "metadata": {},
   "outputs": [
    {
     "name": "stdout",
     "output_type": "stream",
     "text": [
      "string after punctuation is :   Twinkle  twinkle  little star \n",
      "\n",
      " How I wonder what you are \n",
      "  Up above the world so high \n",
      " Like a diamond in the sky \n"
     ]
    }
   ],
   "source": [
    "def remove_punctuation(string):\n",
    "    punctuation='''`~!@#$%^&*';:'\"\"\\|,./?.-/'''\n",
    "    for i in string:\n",
    "        if i in punctuation:\n",
    "            string=string.replace(i,' ')\n",
    "    print('string after punctuation is : ' ,string)\n",
    "remove_punctuation(string)"
   ]
  },
  {
   "cell_type": "markdown",
   "id": "1c343048",
   "metadata": {},
   "source": [
    "38. Check if a string contains only digits."
   ]
  },
  {
   "cell_type": "code",
   "execution_count": 38,
   "id": "e7f7ea8b",
   "metadata": {},
   "outputs": [
    {
     "data": {
      "text/plain": [
       "False"
      ]
     },
     "execution_count": 38,
     "metadata": {},
     "output_type": "execute_result"
    }
   ],
   "source": [
    "def only_digit(string):\n",
    "    return string.isdigit()\n",
    "only_digit('12364r7')"
   ]
  },
  {
   "cell_type": "code",
   "execution_count": null,
   "id": "2ffc28df",
   "metadata": {},
   "outputs": [],
   "source": []
  },
  {
   "cell_type": "markdown",
   "id": "9d36126a",
   "metadata": {},
   "source": [
    "39. Check if a string contains only alphabets.\n"
   ]
  },
  {
   "cell_type": "code",
   "execution_count": 39,
   "id": "148d37a1",
   "metadata": {},
   "outputs": [
    {
     "data": {
      "text/plain": [
       "True"
      ]
     },
     "execution_count": 39,
     "metadata": {},
     "output_type": "execute_result"
    }
   ],
   "source": [
    "def only_alphabet(string):\n",
    "    return string.isalpha()\n",
    "string='hdslsifo'\n",
    "only_alphabet(string)"
   ]
  },
  {
   "cell_type": "markdown",
   "id": "09b69d40",
   "metadata": {},
   "source": [
    "40. Convert a string to a list of characters."
   ]
  },
  {
   "cell_type": "code",
   "execution_count": 40,
   "id": "8ad3188c",
   "metadata": {},
   "outputs": [
    {
     "data": {
      "text/plain": [
       "['2', '3', 'j', 'f', 'f', '8', '9', 'k', 'd']"
      ]
     },
     "execution_count": 40,
     "metadata": {},
     "output_type": "execute_result"
    }
   ],
   "source": [
    "string='23jff89kd'\n",
    "list(string)"
   ]
  },
  {
   "cell_type": "markdown",
   "id": "0f0c6b9c",
   "metadata": {},
   "source": [
    "41. Check if two strings are anagrams.\n"
   ]
  },
  {
   "cell_type": "code",
   "execution_count": 41,
   "id": "c5b8ad47",
   "metadata": {},
   "outputs": [
    {
     "name": "stdout",
     "output_type": "stream",
     "text": [
      "anagrams\n",
      "not anagram\n"
     ]
    }
   ],
   "source": [
    "def anagram(string1,string2):\n",
    "    string1=string1.lower().replace(\" \",\"\")\n",
    "    string1=string1.lower().replace(\" \",\"\")\n",
    "    if sorted(string1)==sorted(string2):\n",
    "        print('anagrams')\n",
    "    else:\n",
    "        print('not anagram')\n",
    "A='Brush'\n",
    "B='shrub'\n",
    "C='risk'\n",
    "D='king'\n",
    "anagram(A,B)\n",
    "anagram(C,D)   "
   ]
  },
  {
   "cell_type": "markdown",
   "id": "3aa74e8f",
   "metadata": {},
   "source": [
    "42. Encode a string using a Caesar cipher."
   ]
  },
  {
   "cell_type": "code",
   "execution_count": 42,
   "id": "78219f61",
   "metadata": {},
   "outputs": [
    {
     "name": "stdout",
     "output_type": "stream",
     "text": [
      "Encoded: Khoor, Zruog!\n"
     ]
    }
   ],
   "source": [
    "def caesar_cipher(text, shift):\n",
    "    encoded_text = ''\n",
    "    for char in text:\n",
    "        if char.isalpha():  \n",
    "            shifted = ord(char) + shift\n",
    "            if char.islower():\n",
    "                if shifted > ord('z'):\n",
    "                    shifted -= 26\n",
    "                elif shifted < ord('a'):\n",
    "                    shifted += 26\n",
    "            elif char.isupper():\n",
    "                if shifted > ord('Z'):\n",
    "                    shifted -= 26\n",
    "                elif shifted < ord('A'):\n",
    "                    shifted += 26\n",
    "            encoded_text += chr(shifted)\n",
    "        else:\n",
    "            encoded_text += char\n",
    "    return encoded_text\n",
    "\n",
    "\n",
    "text = \"Hello, World!\"\n",
    "shift = 3\n",
    "encoded_text = caesar_cipher(text, shift)\n",
    "print(\"Encoded:\", encoded_text)"
   ]
  },
  {
   "cell_type": "markdown",
   "id": "f43cb866",
   "metadata": {},
   "source": [
    "43. Decode a Caesar cipher encoded string."
   ]
  },
  {
   "cell_type": "code",
   "execution_count": 43,
   "id": "dcecec75",
   "metadata": {},
   "outputs": [
    {
     "name": "stdout",
     "output_type": "stream",
     "text": [
      "text :  Khoor, Zruog!\n",
      "Decoded: Hello, World!\n"
     ]
    }
   ],
   "source": [
    "def caesar_decipher(encoded_text, shift):\n",
    "    decoded_text = ''\n",
    "    for char in encoded_text:\n",
    "        if char.isalpha():  # Check if the character is an alphabet\n",
    "            shifted = ord(char) - shift\n",
    "            if char.islower():\n",
    "                if shifted < ord('a'):\n",
    "                    shifted += 26\n",
    "                elif shifted > ord('z'):\n",
    "                    shifted -= 26\n",
    "            elif char.isupper():\n",
    "                if shifted < ord('A'):\n",
    "                    shifted += 26\n",
    "                elif shifted > ord('Z'):\n",
    "                    shifted -= 26\n",
    "            decoded_text += chr(shifted)\n",
    "        else:\n",
    "            decoded_text += char\n",
    "    return decoded_text\n",
    "\n",
    "encoded_text = \"Khoor, Zruog!\"\n",
    "print(\"text : \",encoded_text)\n",
    "shift = 3\n",
    "decoded_text = caesar_decipher(encoded_text, shift)\n",
    "print(\"Decoded:\", decoded_text)  # Prints \"Hello, World!\"\n"
   ]
  },
  {
   "cell_type": "markdown",
   "id": "bc121729",
   "metadata": {},
   "source": [
    "44. Find the most frequent word in a string."
   ]
  },
  {
   "cell_type": "code",
   "execution_count": 44,
   "id": "331ce7a2",
   "metadata": {},
   "outputs": [
    {
     "name": "stdout",
     "output_type": "stream",
     "text": [
      "second most repeated word is 'a'  \n"
     ]
    }
   ],
   "source": [
    "string = \"india is my country and all Indians are my brothers and sisters. a a a a a a a b b b b b c c  c c  ?\"\n",
    "def most_frequent(string):\n",
    "    stringList = string.split()\n",
    "    a = 0\n",
    "    Most = 0\n",
    "    for i in stringList:\n",
    "        if stringList.count(i)>=a:\n",
    "            a = stringList.count(i)\n",
    "            Most = i\n",
    "    print(f\"second most repeated word is '{Most}'  \")\n",
    "most_frequent(string)"
   ]
  },
  {
   "cell_type": "markdown",
   "id": "e8ce286e",
   "metadata": {},
   "source": [
    "45. Find all unique words in a string."
   ]
  },
  {
   "cell_type": "code",
   "execution_count": 45,
   "id": "53793d12",
   "metadata": {},
   "outputs": [
    {
     "name": "stdout",
     "output_type": "stream",
     "text": [
      "{'abc', 'gds', 'asd', 'tyh'}\n"
     ]
    }
   ],
   "source": [
    "def find_unique(string):\n",
    "    word=string.split()\n",
    "    unique=''\n",
    "    for i in word: \n",
    "        unique=set(word)\n",
    "    print(unique)\n",
    "string=' abc abc asd gds tyh gds'\n",
    "find_unique(string)          "
   ]
  },
  {
   "cell_type": "markdown",
   "id": "9930fd3f",
   "metadata": {},
   "source": [
    "46. Count the number of syllables in a string."
   ]
  },
  {
   "cell_type": "code",
   "execution_count": 46,
   "id": "270ec6e7",
   "metadata": {},
   "outputs": [
    {
     "name": "stdout",
     "output_type": "stream",
     "text": [
      "number of syllable of syllable is : 3\n",
      "number of syllable of examination is : 5\n"
     ]
    }
   ],
   "source": [
    "def syllable_count(word):\n",
    "    count = 0\n",
    "    vowels = \"aeiouy\"\n",
    "    if word[0] in vowels:\n",
    "        count += 1\n",
    "    for i in range(1, len(word)):\n",
    "        if word[i] in vowels and word[i - 1] not in vowels:\n",
    "            count += 1\n",
    "            \n",
    "    if count == 0:\n",
    "        count += 1\n",
    "    return count\n",
    "word1='syllable'\n",
    "word2='examination'\n",
    "print(f'number of syllable of {word1} is : {syllable_count(word1)}')\n",
    "print(f'number of syllable of {word2} is : {syllable_count(word2)}')"
   ]
  },
  {
   "cell_type": "markdown",
   "id": "fdf645c5",
   "metadata": {},
   "source": [
    "47. Check if a string contains any special characters."
   ]
  },
  {
   "cell_type": "code",
   "execution_count": 47,
   "id": "33ebbb2d",
   "metadata": {},
   "outputs": [
    {
     "name": "stdout",
     "output_type": "stream",
     "text": [
      "string contains special character\n",
      "string not contains any special character\n"
     ]
    }
   ],
   "source": [
    "def special_char(str1):\n",
    "    str1.split()\n",
    "    char = 0\n",
    "    special = '[@_!#$%^&*()<>?/\\|}{~:]' \n",
    "    for i in range(len(str1)):\n",
    "        if str1[i] in special:\n",
    "            char+= 1  \n",
    "    if char:\n",
    "        print(\"string contains special character\")\n",
    "    else:\n",
    "        print(\"string not contains any special character\")\n",
    "string1 = \"hello , vikash!\"\n",
    "string2 = \"i love my india.\"\n",
    "special_char(string1)\n",
    "special_char(string2)"
   ]
  },
  {
   "cell_type": "markdown",
   "id": "9ef3ff4d",
   "metadata": {},
   "source": [
    "48. Remove the nth word from a string."
   ]
  },
  {
   "cell_type": "code",
   "execution_count": 48,
   "id": "205dfbe0",
   "metadata": {},
   "outputs": [
    {
     "name": "stdout",
     "output_type": "stream",
     "text": [
      "Hell, have a good day\n"
     ]
    }
   ],
   "source": [
    "def remove_nth_word(str1,n):\n",
    "    new_string=[]\n",
    "    for i in range(len(str1)):\n",
    "        if i==n:\n",
    "            pass\n",
    "        else:\n",
    "            new_string.append (str1[i])\n",
    "    print(''.join(new_string))\n",
    "string =\"Hello, have a good day\"\n",
    "n=4\n",
    "remove_nth_word(string,n)"
   ]
  },
  {
   "cell_type": "markdown",
   "id": "fedd0ab1",
   "metadata": {},
   "source": [
    "49. Insert a word at the nth position in a string."
   ]
  },
  {
   "cell_type": "code",
   "execution_count": 49,
   "id": "40f80805",
   "metadata": {},
   "outputs": [
    {
     "data": {
      "text/plain": [
       "'Hello, hii have a good day'"
      ]
     },
     "execution_count": 49,
     "metadata": {},
     "output_type": "execute_result"
    }
   ],
   "source": [
    "def insert_word(str1,n,str_to_insert):\n",
    "    return string[:n] + str_to_insert + ' '+ string[n:]\n",
    "    \n",
    "string =\"Hello, have a good day\"\n",
    "n=7\n",
    "insert_word(string,n,'hii')\n"
   ]
  },
  {
   "cell_type": "markdown",
   "id": "5d7b60ea",
   "metadata": {},
   "source": [
    "50. Convert a CSV string to a list of lists."
   ]
  },
  {
   "cell_type": "code",
   "execution_count": 50,
   "id": "31838380",
   "metadata": {},
   "outputs": [
    {
     "data": {
      "text/plain": [
       "[['Name', ' emp_Id', ' Salary'],\n",
       " ['aditya', ' 001', ' 60000'],\n",
       " [' ajay', ' 004', ' 70000'],\n",
       " ['ramesh', ' 0022', ' 45000']]"
      ]
     },
     "execution_count": 50,
     "metadata": {},
     "output_type": "execute_result"
    }
   ],
   "source": [
    "def csv_string_to_list(string):\n",
    "    str1=string.split('\\n')\n",
    "    result = []\n",
    "    for i in str1:\n",
    "        x = i.split(',')\n",
    "        result.append(x)\n",
    "\n",
    "    return result\n",
    "\n",
    "\n",
    "data = \"Name, emp_Id, Salary\\naditya, 001, 60000\\n ajay, 004, 70000\\nramesh, 0022, 45000\"\n",
    "\n",
    "csv_string_to_list(data)"
   ]
  },
  {
   "cell_type": "markdown",
   "id": "8dd6c524",
   "metadata": {},
   "source": [
    "# list based question"
   ]
  },
  {
   "cell_type": "markdown",
   "id": "d5cbc90f",
   "metadata": {},
   "source": [
    "1. Create a list with integers from 1 to 10."
   ]
  },
  {
   "cell_type": "code",
   "execution_count": 51,
   "id": "71c59d53",
   "metadata": {},
   "outputs": [
    {
     "data": {
      "text/plain": [
       "[1, 2, 3, 4, 5, 6, 7, 8, 9, 10]"
      ]
     },
     "execution_count": 51,
     "metadata": {},
     "output_type": "execute_result"
    }
   ],
   "source": [
    "lis=list(range(1,11))\n",
    "lis\n",
    "    "
   ]
  },
  {
   "cell_type": "markdown",
   "id": "267b0eb6",
   "metadata": {},
   "source": [
    "2. Find the length of a list without using the `len()` function."
   ]
  },
  {
   "cell_type": "code",
   "execution_count": 52,
   "id": "e8318377",
   "metadata": {},
   "outputs": [
    {
     "name": "stdout",
     "output_type": "stream",
     "text": [
      "10\n"
     ]
    }
   ],
   "source": [
    "count=0\n",
    "for i in lis:\n",
    "    count+=1\n",
    "print(count)"
   ]
  },
  {
   "cell_type": "markdown",
   "id": "68d41578",
   "metadata": {},
   "source": [
    "3. Append an element to the end of a list."
   ]
  },
  {
   "cell_type": "code",
   "execution_count": 53,
   "id": "dc8a88fd",
   "metadata": {},
   "outputs": [
    {
     "data": {
      "text/plain": [
       "[1, 2, 3, 4, 5, 6, 7, 8, 9, 10, 12]"
      ]
     },
     "execution_count": 53,
     "metadata": {},
     "output_type": "execute_result"
    }
   ],
   "source": [
    "lis=[1, 2, 3, 4, 5, 6, 7, 8, 9, 10]\n",
    "lis.append(12)\n",
    "lis"
   ]
  },
  {
   "cell_type": "markdown",
   "id": "5293ca32",
   "metadata": {},
   "source": [
    "4. Insert an element at a specific index in a list."
   ]
  },
  {
   "cell_type": "code",
   "execution_count": 54,
   "id": "3fca32ae",
   "metadata": {},
   "outputs": [
    {
     "data": {
      "text/plain": [
       "[10, 45, 20, 50, 60, 40]"
      ]
     },
     "execution_count": 54,
     "metadata": {},
     "output_type": "execute_result"
    }
   ],
   "source": [
    "lis=[10,45,50,60,40]\n",
    "index=2\n",
    "lis.insert(index,20)\n",
    "lis"
   ]
  },
  {
   "cell_type": "markdown",
   "id": "a68d3e1f",
   "metadata": {},
   "source": [
    "5. Remove an element from a list by its value."
   ]
  },
  {
   "cell_type": "code",
   "execution_count": 55,
   "id": "42a50867",
   "metadata": {},
   "outputs": [
    {
     "data": {
      "text/plain": [
       "[10, 45, 60, 40]"
      ]
     },
     "execution_count": 55,
     "metadata": {},
     "output_type": "execute_result"
    }
   ],
   "source": [
    "lis=[10,45,50,60,40]\n",
    "value=50\n",
    "lis.remove(value)\n",
    "lis"
   ]
  },
  {
   "cell_type": "markdown",
   "id": "3f7a6928",
   "metadata": {},
   "source": [
    "6. Remove an element from a list by its index."
   ]
  },
  {
   "cell_type": "code",
   "execution_count": 56,
   "id": "aff3c66d",
   "metadata": {},
   "outputs": [
    {
     "data": {
      "text/plain": [
       "[10, 50, 60, 40]"
      ]
     },
     "execution_count": 56,
     "metadata": {},
     "output_type": "execute_result"
    }
   ],
   "source": [
    "lis=[10,45,50,60,40]\n",
    "index=1\n",
    "lis.pop(index)\n",
    "lis"
   ]
  },
  {
   "cell_type": "markdown",
   "id": "4a507491",
   "metadata": {},
   "source": [
    "7. Check if an element exists in a list."
   ]
  },
  {
   "cell_type": "code",
   "execution_count": 57,
   "id": "2c4208ba",
   "metadata": {},
   "outputs": [
    {
     "name": "stdout",
     "output_type": "stream",
     "text": [
      "element present list\n"
     ]
    }
   ],
   "source": [
    "def  element_exists(l1,n):\n",
    "    if n in l1:\n",
    "        print('element present list')\n",
    "    else:\n",
    "        print('element not present list')\n",
    "lis=[10,45,50,60,40]\n",
    "n=45\n",
    "element_exists(lis,n)\n",
    "    \n",
    "        "
   ]
  },
  {
   "cell_type": "markdown",
   "id": "13c2c1aa",
   "metadata": {},
   "source": [
    "8. Find the index of the first occurrence of an element in a list."
   ]
  },
  {
   "cell_type": "code",
   "execution_count": 58,
   "id": "7c220dc0",
   "metadata": {},
   "outputs": [
    {
     "data": {
      "text/plain": [
       "1"
      ]
     },
     "execution_count": 58,
     "metadata": {},
     "output_type": "execute_result"
    }
   ],
   "source": [
    "lis=[10,45,50,60,40,45]\n",
    "lis.index(45)"
   ]
  },
  {
   "cell_type": "markdown",
   "id": "8c3333d1",
   "metadata": {},
   "source": [
    "9. Count the occurrences of an element in a list."
   ]
  },
  {
   "cell_type": "code",
   "execution_count": 59,
   "id": "0ebb6d81",
   "metadata": {},
   "outputs": [
    {
     "data": {
      "text/plain": [
       "3"
      ]
     },
     "execution_count": 59,
     "metadata": {},
     "output_type": "execute_result"
    }
   ],
   "source": [
    "lis=[1,0,4,5,6,5,9,8,4,5]\n",
    "lis.count(5)"
   ]
  },
  {
   "cell_type": "markdown",
   "id": "c9ffd31f",
   "metadata": {},
   "source": [
    "10. Reverse the order of elements in a list."
   ]
  },
  {
   "cell_type": "code",
   "execution_count": 60,
   "id": "2d7f79f9",
   "metadata": {},
   "outputs": [
    {
     "data": {
      "text/plain": [
       "[40, 60, 50, 45, 10]"
      ]
     },
     "execution_count": 60,
     "metadata": {},
     "output_type": "execute_result"
    }
   ],
   "source": [
    "lis=[10,45,50,60,40]\n",
    "lis[::-1]"
   ]
  },
  {
   "cell_type": "markdown",
   "id": "56d77bb5",
   "metadata": {},
   "source": [
    "11. Sort a list in ascending order.\n"
   ]
  },
  {
   "cell_type": "code",
   "execution_count": 61,
   "id": "8544e20a",
   "metadata": {},
   "outputs": [
    {
     "name": "stdout",
     "output_type": "stream",
     "text": [
      "sorted list in ascending order is: [10, 40, 45, 50, 60]\n"
     ]
    }
   ],
   "source": [
    "lis=[10,45,50,60,40]\n",
    "lis.sort()\n",
    "print('sorted list in ascending order is:', lis)"
   ]
  },
  {
   "cell_type": "markdown",
   "id": "f6dbb868",
   "metadata": {},
   "source": [
    "12. Sort a list in descending order.\n"
   ]
  },
  {
   "cell_type": "code",
   "execution_count": 62,
   "id": "8899cda8",
   "metadata": {},
   "outputs": [
    {
     "name": "stdout",
     "output_type": "stream",
     "text": [
      "sorted list in decending order is: [60, 50, 45, 40, 10]\n"
     ]
    }
   ],
   "source": [
    "lis=[10,45,50,60,40]\n",
    "lis.sort()\n",
    "print('sorted list in decending order is:', lis[::-1])"
   ]
  },
  {
   "cell_type": "markdown",
   "id": "9a4c4a9b",
   "metadata": {},
   "source": [
    "13. Create a list of even numbers from 1 to 20.\n"
   ]
  },
  {
   "cell_type": "code",
   "execution_count": 63,
   "id": "6849b616",
   "metadata": {},
   "outputs": [
    {
     "name": "stdout",
     "output_type": "stream",
     "text": [
      "list of even number from 1,20  [2, 4, 6, 8, 10, 12, 14, 16, 18, 20]\n"
     ]
    }
   ],
   "source": [
    "even=[]\n",
    "for i in range(1,21):\n",
    "    if i%2==0:\n",
    "        even.append(i)\n",
    "print('list of even number from 1,20 ',even)\n",
    "        "
   ]
  },
  {
   "cell_type": "markdown",
   "id": "411a47ec",
   "metadata": {},
   "source": [
    "14. Create a list of odd numbers from 1 to 20.\n"
   ]
  },
  {
   "cell_type": "code",
   "execution_count": 64,
   "id": "8a06be80",
   "metadata": {},
   "outputs": [
    {
     "name": "stdout",
     "output_type": "stream",
     "text": [
      "list of odd number from 1,20  [1, 3, 5, 7, 9, 11, 13, 15, 17, 19]\n"
     ]
    }
   ],
   "source": [
    "odd=[]\n",
    "for i in range(1,21):\n",
    "    if i%2==1:\n",
    "        odd.append(i)\n",
    "print('list of odd number from 1,20 ',odd)\n",
    "        "
   ]
  },
  {
   "cell_type": "markdown",
   "id": "71297746",
   "metadata": {},
   "source": [
    "15. Find the sum of all elements in a list.\n"
   ]
  },
  {
   "cell_type": "code",
   "execution_count": 65,
   "id": "31c568ba",
   "metadata": {},
   "outputs": [
    {
     "data": {
      "text/plain": [
       "110"
      ]
     },
     "execution_count": 65,
     "metadata": {},
     "output_type": "execute_result"
    }
   ],
   "source": [
    "list1=[2, 4, 6, 8, 10, 12, 14, 16, 18, 20]\n",
    "sum(list1)"
   ]
  },
  {
   "cell_type": "markdown",
   "id": "5ca6e168",
   "metadata": {},
   "source": [
    "16. Find the maximum value in a list.\n"
   ]
  },
  {
   "cell_type": "code",
   "execution_count": 66,
   "id": "087f16c9",
   "metadata": {},
   "outputs": [
    {
     "data": {
      "text/plain": [
       "21"
      ]
     },
     "execution_count": 66,
     "metadata": {},
     "output_type": "execute_result"
    }
   ],
   "source": [
    "list1=[2, 4, 6, 8, 10, 21, 14, 16, 18, 20]\n",
    "max(list1)"
   ]
  },
  {
   "cell_type": "markdown",
   "id": "10d6310d",
   "metadata": {},
   "source": [
    "17. Find the minimum value in a list.\n"
   ]
  },
  {
   "cell_type": "code",
   "execution_count": 67,
   "id": "a736d264",
   "metadata": {},
   "outputs": [
    {
     "data": {
      "text/plain": [
       "10"
      ]
     },
     "execution_count": 67,
     "metadata": {},
     "output_type": "execute_result"
    }
   ],
   "source": [
    "lis=[10,45,50,60,40]\n",
    "min(lis)"
   ]
  },
  {
   "cell_type": "markdown",
   "id": "64f48dcb",
   "metadata": {},
   "source": [
    "18. Create a list of squares of numbers from 1 to 10.\n"
   ]
  },
  {
   "cell_type": "code",
   "execution_count": 68,
   "id": "54cba4a0",
   "metadata": {},
   "outputs": [
    {
     "name": "stdout",
     "output_type": "stream",
     "text": [
      "list of squares of numbers from 1 to 10 is [1, 4, 9, 16, 25, 36, 49, 64, 81, 100]\n"
     ]
    }
   ],
   "source": [
    "square=[i*i for i in range(1,11)]\n",
    "print('list of squares of numbers from 1 to 10 is',square)   "
   ]
  },
  {
   "cell_type": "markdown",
   "id": "6d5bc2dc",
   "metadata": {},
   "source": [
    "19. Create a list of random numbers.\n"
   ]
  },
  {
   "cell_type": "code",
   "execution_count": 69,
   "id": "ea076d2c",
   "metadata": {},
   "outputs": [
    {
     "name": "stdout",
     "output_type": "stream",
     "text": [
      "random list is :  [43, 31, 24, 36, 24, 32, 33, 32, 46, 27]\n"
     ]
    }
   ],
   "source": [
    "import random\n",
    " \n",
    "random_list=[]\n",
    "for i in range(10):\n",
    "    random_list.append(random.randint(20,50))\n",
    "print('random list is : ',random_list)"
   ]
  },
  {
   "cell_type": "markdown",
   "id": "878f2ffe",
   "metadata": {},
   "source": [
    "20. Remove duplicates from a list.\n"
   ]
  },
  {
   "cell_type": "code",
   "execution_count": 70,
   "id": "c13f0b5b",
   "metadata": {},
   "outputs": [
    {
     "name": "stdout",
     "output_type": "stream",
     "text": [
      "list after removing duplicate :  [34, 42, 43, 46, 48, 20, 26, 27]\n"
     ]
    }
   ],
   "source": [
    "l1=[43, 46, 27, 27, 26, 42, 20, 48, 34, 26]\n",
    "l2=list(set(l1))\n",
    "print('list after removing duplicate : ',l2)"
   ]
  },
  {
   "cell_type": "markdown",
   "id": "624a2e0e",
   "metadata": {},
   "source": [
    "21. Find the common elements between two lists.\n"
   ]
  },
  {
   "cell_type": "code",
   "execution_count": 71,
   "id": "9923535b",
   "metadata": {},
   "outputs": [
    {
     "name": "stdout",
     "output_type": "stream",
     "text": [
      "common item in two list  [43, 42, 34]\n"
     ]
    }
   ],
   "source": [
    "l1=[43, 46, 27, 32, 26, 42, 20, 48, 34, 26]\n",
    "l2=[34, 42, 43,78,56]\n",
    "l3=[]\n",
    "for i in l1:\n",
    "    if i in l2:\n",
    "        l3.append(i)\n",
    "print(\"common item in two list \", l3)"
   ]
  },
  {
   "cell_type": "markdown",
   "id": "40c8eb70",
   "metadata": {},
   "source": [
    "22. Find the difference between two lists.\n"
   ]
  },
  {
   "cell_type": "code",
   "execution_count": 72,
   "id": "f37f5c45",
   "metadata": {},
   "outputs": [
    {
     "name": "stdout",
     "output_type": "stream",
     "text": [
      "different of two list :  [46, 27, 32, 26, 20, 48, 26]\n"
     ]
    }
   ],
   "source": [
    "l1=[43, 46, 27, 32, 26, 42, 20, 48, 34, 26]\n",
    "l2=[34, 42, 43,78,56]\n",
    "l3=[]\n",
    "for i  in l1:\n",
    "    if i not in l2:\n",
    "        l3.append(i)\n",
    "print(\"different of two list : \",l3)"
   ]
  },
  {
   "cell_type": "markdown",
   "id": "eca6faef",
   "metadata": {},
   "source": [
    "23. Merge two lists.\n"
   ]
  },
  {
   "cell_type": "code",
   "execution_count": 73,
   "id": "a973f40e",
   "metadata": {},
   "outputs": [
    {
     "name": "stdout",
     "output_type": "stream",
     "text": [
      "merged list is :  [43, 46, 27, 32, 26, 42, 20, 48, 34, 26, 34, 42, 43, 78, 56]\n"
     ]
    }
   ],
   "source": [
    "l1=[43, 46, 27, 32, 26, 42, 20, 48, 34, 26]\n",
    "l2=[34, 42, 43,78,56]\n",
    "merge_list=l1+l2\n",
    "print('merged list is : ',merge_list)"
   ]
  },
  {
   "cell_type": "markdown",
   "id": "9981391e",
   "metadata": {},
   "source": [
    "24. Multiply all elements in a list by 2.\n"
   ]
  },
  {
   "cell_type": "code",
   "execution_count": 74,
   "id": "c485a1f0",
   "metadata": {},
   "outputs": [
    {
     "name": "stdout",
     "output_type": "stream",
     "text": [
      "[68, 84, 86, 156, 112]\n"
     ]
    }
   ],
   "source": [
    "l2=[34, 42, 43,78,56]\n",
    "new_list=[i*2 for i in l2]\n",
    "print((new_list))"
   ]
  },
  {
   "cell_type": "markdown",
   "id": "50ff19de",
   "metadata": {},
   "source": [
    "25. Filter out all even numbers from a list"
   ]
  },
  {
   "cell_type": "code",
   "execution_count": 75,
   "id": "bfcbda61",
   "metadata": {},
   "outputs": [
    {
     "name": "stdout",
     "output_type": "stream",
     "text": [
      "[41, 43]\n"
     ]
    }
   ],
   "source": [
    "l2=[34, 41, 43,78,56]\n",
    "new_list=[]\n",
    "for i in l2:\n",
    "    if i %2==1:\n",
    "        new_list.append(i)\n",
    "        \n",
    "print((new_list))"
   ]
  },
  {
   "cell_type": "markdown",
   "id": "b98d3b21",
   "metadata": {},
   "source": [
    "26. Convert a list of strings to a list of integers."
   ]
  },
  {
   "cell_type": "code",
   "execution_count": 76,
   "id": "c6c2319c",
   "metadata": {},
   "outputs": [
    {
     "name": "stdout",
     "output_type": "stream",
     "text": [
      "List of integers: [34, 41, 43, 78, 56]\n"
     ]
    }
   ],
   "source": [
    "l1=['34', '41', '43','78','56']\n",
    "\n",
    "l2 = [int(i) for i in l1]\n",
    "\n",
    "print(\"List of integers:\", l2)"
   ]
  },
  {
   "cell_type": "markdown",
   "id": "ab64a538",
   "metadata": {},
   "source": [
    "27. Convert a list of integers to a list of strings.\n"
   ]
  },
  {
   "cell_type": "code",
   "execution_count": 77,
   "id": "338c14b4",
   "metadata": {},
   "outputs": [
    {
     "name": "stdout",
     "output_type": "stream",
     "text": [
      "List of integers: ['34', '41', '43', '78', '56']\n"
     ]
    }
   ],
   "source": [
    "l1=[34, 41, 43,78,56]\n",
    "\n",
    "l2 = [str(i) for i in l1]\n",
    "\n",
    "print(\"List of integers:\", l2)"
   ]
  },
  {
   "cell_type": "markdown",
   "id": "91d75fa4",
   "metadata": {},
   "source": [
    "28. Flatten a nested list.\n"
   ]
  },
  {
   "cell_type": "code",
   "execution_count": 78,
   "id": "f8fd2b89",
   "metadata": {},
   "outputs": [
    {
     "name": "stdout",
     "output_type": "stream",
     "text": [
      "[3, 6, 3, 12, 13, 15, 11, 21, 31, 23, 32, 24]\n"
     ]
    }
   ],
   "source": [
    "originl_list=[[3,6,3],[12,13,15],[11,21,31],[23,32,24]]\n",
    "flatten_list=[]\n",
    "for i in originl_list:\n",
    "    for j in i:\n",
    "        flatten_list.append(j)\n",
    "print(flatten_list)"
   ]
  },
  {
   "cell_type": "markdown",
   "id": "9cacabd4",
   "metadata": {},
   "source": [
    "29. Create a list of the first 10 Fibonacci numbers.\n"
   ]
  },
  {
   "cell_type": "code",
   "execution_count": 79,
   "id": "73795b56",
   "metadata": {},
   "outputs": [
    {
     "data": {
      "text/plain": [
       "[0, 1, 1, 2, 3, 5, 8, 13, 21, 34]"
      ]
     },
     "execution_count": 79,
     "metadata": {},
     "output_type": "execute_result"
    }
   ],
   "source": [
    "def fibonacci_numbers(n):\n",
    "    fibo= [0,1]\n",
    "    for i in range(n-2):\n",
    "        fibo.append(fibo[i]+fibo[i+1])\n",
    "    return fibo\n",
    "n=10\n",
    "fibonacci_numbers(n)"
   ]
  },
  {
   "cell_type": "markdown",
   "id": "26d94989",
   "metadata": {},
   "source": [
    "30. Check if a list is sorted.\n"
   ]
  },
  {
   "cell_type": "code",
   "execution_count": 80,
   "id": "c8ebeeb4",
   "metadata": {},
   "outputs": [
    {
     "data": {
      "text/plain": [
       "True"
      ]
     },
     "execution_count": 80,
     "metadata": {},
     "output_type": "execute_result"
    }
   ],
   "source": [
    "def list_is_soted(l1):\n",
    "    for i in range(1,len(l1)):\n",
    "        if l1[i] < l1[i-1]:\n",
    "            return False\n",
    "        else:\n",
    "            return True\n",
    "l1=[8, 13, 21, 34]\n",
    "list_is_soted(l1)        "
   ]
  },
  {
   "cell_type": "markdown",
   "id": "bc5a541c",
   "metadata": {},
   "source": [
    "31. Rotate a list to the left by `n` positions.\n"
   ]
  },
  {
   "cell_type": "code",
   "execution_count": 81,
   "id": "ccd3d532",
   "metadata": {},
   "outputs": [
    {
     "data": {
      "text/plain": [
       "[40, 60, 70, 90, 10, 20, 30]"
      ]
     },
     "execution_count": 81,
     "metadata": {},
     "output_type": "execute_result"
    }
   ],
   "source": [
    "l1=[10,20,30,40,60,70,90]\n",
    "n=3\n",
    "rotate=l1[n:]+l1[:n]\n",
    "rotate"
   ]
  },
  {
   "cell_type": "markdown",
   "id": "66aa2bef",
   "metadata": {},
   "source": [
    "32. Rotate a list to the right by `n` positions.\n"
   ]
  },
  {
   "cell_type": "code",
   "execution_count": 82,
   "id": "e9376d74",
   "metadata": {},
   "outputs": [
    {
     "data": {
      "text/plain": [
       "[60, 70, 90, 10, 20, 30, 40]"
      ]
     },
     "execution_count": 82,
     "metadata": {},
     "output_type": "execute_result"
    }
   ],
   "source": [
    "l1=[10,20,30,40,60,70,90]\n",
    "n=3\n",
    "rotate=l1[-n:]+l1[:-n]\n",
    "rotate"
   ]
  },
  {
   "cell_type": "markdown",
   "id": "dcf376b3",
   "metadata": {},
   "source": [
    "33. Create a list of prime numbers up to 50.\n"
   ]
  },
  {
   "cell_type": "code",
   "execution_count": 83,
   "id": "837316a6",
   "metadata": {},
   "outputs": [
    {
     "data": {
      "text/plain": [
       "[2, 3, 5, 7, 11, 13, 17, 19, 23, 29, 31, 37, 41, 43, 47]"
      ]
     },
     "execution_count": 83,
     "metadata": {},
     "output_type": "execute_result"
    }
   ],
   "source": [
    "def prime_numbers(n):\n",
    "    primes = []\n",
    "    for i in range(2, n + 1):\n",
    "        for j in range(2, int(i ** 0.5) + 1):\n",
    "            if i%j == 0:\n",
    "                break\n",
    "        else:\n",
    "            primes.append(i)\n",
    "    return primes\n",
    "prime_numbers(50)\n"
   ]
  },
  {
   "cell_type": "markdown",
   "id": "bb31ac5f",
   "metadata": {},
   "source": [
    "34. Split a list into chunks of size `n`.\n"
   ]
  },
  {
   "cell_type": "code",
   "execution_count": 84,
   "id": "9f2d5118",
   "metadata": {},
   "outputs": [
    {
     "data": {
      "text/plain": [
       "[[2, 3, 5], [7, 11, 13], [17, 19, 23], [29, 31, 37], [41, 43, 47]]"
      ]
     },
     "execution_count": 84,
     "metadata": {},
     "output_type": "execute_result"
    }
   ],
   "source": [
    "def split_chunks(lst,n):\n",
    "    for i in range(0,len(lst),n):\n",
    "        yield lst[i:i+n]\n",
    "lst=[2, 3, 5, 7, 11, 13, 17, 19, 23, 29, 31, 37, 41, 43, 47]\n",
    "n=3\n",
    "list(split_chunks(lst,n))\n"
   ]
  },
  {
   "cell_type": "markdown",
   "id": "78f7ca39",
   "metadata": {},
   "source": [
    "35. Find the second largest number in a list.\n"
   ]
  },
  {
   "cell_type": "code",
   "execution_count": 85,
   "id": "b7911dcf",
   "metadata": {},
   "outputs": [
    {
     "name": "stdout",
     "output_type": "stream",
     "text": [
      "second laegst number is : 53\n"
     ]
    }
   ],
   "source": [
    "lst=[2, 3, 5, 7, 11, 53, 87, 19, 23, 29, 31, 37, 41, 43, 47]\n",
    "second_most=sorted(lst)\n",
    "print('second laegst number is :',second_most[-2])"
   ]
  },
  {
   "cell_type": "markdown",
   "id": "7b0925eb",
   "metadata": {},
   "source": [
    "36. Replace every element in a list with its square.\n"
   ]
  },
  {
   "cell_type": "code",
   "execution_count": 86,
   "id": "24442f4d",
   "metadata": {},
   "outputs": [
    {
     "name": "stdout",
     "output_type": "stream",
     "text": [
      "[4, 9, 25, 49, 121, 169, 289, 361, 529, 841, 961, 1369, 1681, 1849, 2209]\n"
     ]
    }
   ],
   "source": [
    "lst=[2, 3, 5, 7, 11, 13, 17, 19, 23, 29, 31, 37, 41, 43, 47]\n",
    "lst=[i*i for i in lst]\n",
    "print(lst)"
   ]
  },
  {
   "cell_type": "markdown",
   "id": "32280768",
   "metadata": {},
   "source": [
    "37. Convert a list to a dictionary where list elements become keys and their\n",
    "indices become values.\n"
   ]
  },
  {
   "cell_type": "code",
   "execution_count": 87,
   "id": "4cd84841",
   "metadata": {},
   "outputs": [
    {
     "data": {
      "text/plain": [
       "{'ram': 50, 'shyam': 50, 'mohan': 50, 'krishna': 50}"
      ]
     },
     "execution_count": 87,
     "metadata": {},
     "output_type": "execute_result"
    }
   ],
   "source": [
    "def list_to_dict_with_index(lst):\n",
    "    dict_with_index = {key: value for key, key in enumerate(lst)}\n",
    "    return dict_with_index\n",
    "\n",
    "lst=['ram','shyam','mohan','krishna']\n",
    "list_to_dict_with_index(lst)"
   ]
  },
  {
   "cell_type": "markdown",
   "id": "1c383d28",
   "metadata": {},
   "source": [
    "38. Shuffle the elements of a list randomly.\n"
   ]
  },
  {
   "cell_type": "code",
   "execution_count": 88,
   "id": "2aac60b5",
   "metadata": {},
   "outputs": [
    {
     "name": "stdout",
     "output_type": "stream",
     "text": [
      "randomly suffle list :  [3, 43, 31, 37, 17, 5, 11, 7, 23, 19, 29, 13, 47, 41, 2]\n"
     ]
    }
   ],
   "source": [
    "lst=[2, 3, 5, 7, 11, 13, 17, 19, 23, 29, 31, 37, 41, 43, 47]\n",
    "random.shuffle(lst)\n",
    "print('randomly suffle list : ',lst)\n"
   ]
  },
  {
   "cell_type": "markdown",
   "id": "4fe6b86d",
   "metadata": {},
   "source": [
    "39. Create a list of the first 10 factorial numbers.\n"
   ]
  },
  {
   "cell_type": "code",
   "execution_count": 89,
   "id": "4c306679",
   "metadata": {},
   "outputs": [
    {
     "data": {
      "text/plain": [
       "[1, 1, 2, 6, 24, 120, 720, 5040, 40320, 362880]"
      ]
     },
     "execution_count": 89,
     "metadata": {},
     "output_type": "execute_result"
    }
   ],
   "source": [
    "def factorial(n):\n",
    "    fact = 1\n",
    "    for factor in range(1, n + 1):\n",
    "        fact *= factor\n",
    "    return fact\n",
    "factorial_numbers = [factorial(i) for i in range(10)]        \n",
    "factorial_numbers"
   ]
  },
  {
   "cell_type": "markdown",
   "id": "0a289503",
   "metadata": {},
   "source": [
    "40. Check if two lists have at least one element in common.\n"
   ]
  },
  {
   "cell_type": "code",
   "execution_count": 90,
   "id": "14c01582",
   "metadata": {},
   "outputs": [
    {
     "name": "stdout",
     "output_type": "stream",
     "text": [
      "list have common element \n"
     ]
    }
   ],
   "source": [
    "l1=[2, 6, 24, 120, 720]\n",
    "l2=[3,4,24]\n",
    "def check_elemnt(l1,l2):\n",
    "    for i in l1:\n",
    "        if i in l2:\n",
    "            return print('list have common element ')\n",
    "    return print( \"list don't have common element\")\n",
    "check_elemnt(l1,l2)"
   ]
  },
  {
   "cell_type": "markdown",
   "id": "53ac2254",
   "metadata": {},
   "source": [
    "41. Remove all elements from a list.\n"
   ]
  },
  {
   "cell_type": "code",
   "execution_count": 91,
   "id": "2c749236",
   "metadata": {},
   "outputs": [
    {
     "data": {
      "text/plain": [
       "[]"
      ]
     },
     "execution_count": 91,
     "metadata": {},
     "output_type": "execute_result"
    }
   ],
   "source": [
    "l1=[2, 6, 24, 120, 720]\n",
    "l1.clear()\n",
    "l1"
   ]
  },
  {
   "cell_type": "markdown",
   "id": "e045fc74",
   "metadata": {},
   "source": [
    "42. Replace negative numbers in a list with 0.\n"
   ]
  },
  {
   "cell_type": "code",
   "execution_count": 92,
   "id": "45947134",
   "metadata": {},
   "outputs": [
    {
     "data": {
      "text/plain": [
       "[2, 6, 0, 0, 720]"
      ]
     },
     "execution_count": 92,
     "metadata": {},
     "output_type": "execute_result"
    }
   ],
   "source": [
    "l1=[2, 6, -24, -120, 720]\n",
    "for i in range(len(l1)):\n",
    "    if l1[i]<0:\n",
    "        l1[i]=0\n",
    "l1"
   ]
  },
  {
   "cell_type": "markdown",
   "id": "b2f46568",
   "metadata": {},
   "source": [
    "43. Convert a string into a list of words.\n"
   ]
  },
  {
   "cell_type": "code",
   "execution_count": 93,
   "id": "f774606d",
   "metadata": {},
   "outputs": [
    {
     "data": {
      "text/plain": [
       "['Convert', 'a', 'string', 'into', 'a', 'list', 'of', 'words']"
      ]
     },
     "execution_count": 93,
     "metadata": {},
     "output_type": "execute_result"
    }
   ],
   "source": [
    "string = \"Convert a string into a list of words\"\n",
    "lst = string.split()\n",
    "lst"
   ]
  },
  {
   "cell_type": "markdown",
   "id": "fbfdbdb5",
   "metadata": {},
   "source": [
    "44. Convert a list of words into a string."
   ]
  },
  {
   "cell_type": "code",
   "execution_count": 94,
   "id": "8e1518df",
   "metadata": {},
   "outputs": [
    {
     "data": {
      "text/plain": [
       "'Convert a string into a list of words'"
      ]
     },
     "execution_count": 94,
     "metadata": {},
     "output_type": "execute_result"
    }
   ],
   "source": [
    "lst=['Convert', 'a', 'string', 'into', 'a', 'list', 'of', 'words']\n",
    "string=' '.join(lst)\n",
    "string"
   ]
  },
  {
   "cell_type": "markdown",
   "id": "3684048f",
   "metadata": {},
   "source": [
    "45. Create a list of the first `n` powers of 2.\n"
   ]
  },
  {
   "cell_type": "code",
   "execution_count": 95,
   "id": "a2494ab8",
   "metadata": {},
   "outputs": [
    {
     "name": "stdout",
     "output_type": "stream",
     "text": [
      "list of the first 4 powers of 2   [1, 2, 4, 8]\n"
     ]
    }
   ],
   "source": [
    "n=4\n",
    "lst=[2**i for i in range(n)]\n",
    "print( f'list of the first {n} powers of 2   {lst}')"
   ]
  },
  {
   "cell_type": "markdown",
   "id": "27920354",
   "metadata": {},
   "source": [
    "46. Find the longest string in a list of strings.\n"
   ]
  },
  {
   "cell_type": "code",
   "execution_count": 96,
   "id": "c59c0097",
   "metadata": {},
   "outputs": [
    {
     "name": "stdout",
     "output_type": "stream",
     "text": [
      " longest string in a list :  Convert\n"
     ]
    }
   ],
   "source": [
    "string=['Convert', 'a', 'string', 'into', 'a', 'list', 'of', 'words']\n",
    "longest_string=max(string, key=len)\n",
    "print(' longest string in a list : ',longest_string)"
   ]
  },
  {
   "cell_type": "markdown",
   "id": "4523dee6",
   "metadata": {},
   "source": [
    "47. Find the shortest string in a list of strings.\n"
   ]
  },
  {
   "cell_type": "code",
   "execution_count": 97,
   "id": "411bcb5e",
   "metadata": {},
   "outputs": [
    {
     "name": "stdout",
     "output_type": "stream",
     "text": [
      " shortest string in a list :  a\n"
     ]
    }
   ],
   "source": [
    "string=['Convert', 'a', 'string', 'into', 'a', 'list', 'of', 'words']\n",
    "shortest_string=min(string, key=len)\n",
    "print(' shortest string in a list : ',shortest_string)"
   ]
  },
  {
   "cell_type": "markdown",
   "id": "9c3fe325",
   "metadata": {},
   "source": [
    "48. Create a list of the first `n` triangular numbers.\n"
   ]
  },
  {
   "cell_type": "code",
   "execution_count": 98,
   "id": "bc7f1a9d",
   "metadata": {},
   "outputs": [
    {
     "name": "stdout",
     "output_type": "stream",
     "text": [
      " triangular numbers of first 5 is [0, 1, 3, 6, 10]\n"
     ]
    }
   ],
   "source": [
    "def traingular_number(n):\n",
    "    lst=[int((i*(i+1))/2) for i in range(n)]\n",
    "    print(f' triangular numbers of first {n} is {lst}')\n",
    "n=5\n",
    "traingular_number(n)"
   ]
  },
  {
   "cell_type": "markdown",
   "id": "add22b3b",
   "metadata": {},
   "source": [
    "49. Check if a list contains another list as a subsequence.\n"
   ]
  },
  {
   "cell_type": "code",
   "execution_count": 99,
   "id": "0132f6dd",
   "metadata": {},
   "outputs": [
    {
     "data": {
      "text/plain": [
       "True"
      ]
     },
     "execution_count": 99,
     "metadata": {},
     "output_type": "execute_result"
    }
   ],
   "source": [
    "def subsequence(subset, lst):\n",
    "    subset_index = 0  \n",
    "    for i in lst:\n",
    "        if i == subset[subset_index]:\n",
    "            subset_index += 1\n",
    "            if subset_index== len(subset):\n",
    "                return True\n",
    "    return False\n",
    "\n",
    "lst = [1, 2, 3, 4, 5, 6, 7, 8, 9, 10]\n",
    "subset = [2, 3, 8]\n",
    "subsequence(subset,lst)"
   ]
  },
  {
   "cell_type": "markdown",
   "id": "4b43315e",
   "metadata": {},
   "source": [
    "50. Swap two elements in a list by their indices."
   ]
  },
  {
   "cell_type": "code",
   "execution_count": 100,
   "id": "1592def8",
   "metadata": {},
   "outputs": [
    {
     "data": {
      "text/plain": [
       "[1, 6, 3, 4, 5, 2, 7, 8, 9, 10]"
      ]
     },
     "execution_count": 100,
     "metadata": {},
     "output_type": "execute_result"
    }
   ],
   "source": [
    "lst = [1, 2, 3, 4, 5, 6, 7, 8, 9, 10]#swap index 1 & 5\n",
    "lst[1],lst[5]=lst[5],lst[1]\n",
    "lst"
   ]
  },
  {
   "cell_type": "markdown",
   "id": "eeabbfe5",
   "metadata": {},
   "source": [
    "# Tuple Based Practice Problem :"
   ]
  },
  {
   "cell_type": "markdown",
   "id": "96ebcf5b",
   "metadata": {},
   "source": [
    "1. Create a tuple with integers from 1 to 5.\n"
   ]
  },
  {
   "cell_type": "code",
   "execution_count": 101,
   "id": "0c5be5de",
   "metadata": {},
   "outputs": [
    {
     "name": "stdout",
     "output_type": "stream",
     "text": [
      "tuple is :  (1, 2, 3, 4, 5)\n"
     ]
    }
   ],
   "source": [
    "Tuple=1,2,3,4,5\n",
    "print('tuple is : ',Tuple)"
   ]
  },
  {
   "cell_type": "markdown",
   "id": "cbc1d5dc",
   "metadata": {},
   "source": [
    "2. Access the third element of a tuple.\n"
   ]
  },
  {
   "cell_type": "code",
   "execution_count": 102,
   "id": "951eef24",
   "metadata": {},
   "outputs": [
    {
     "name": "stdout",
     "output_type": "stream",
     "text": [
      "third element of tuple is :  3\n"
     ]
    }
   ],
   "source": [
    "Tuple=1,2,3,4,5\n",
    "print('third element of tuple is : ',Tuple[2])"
   ]
  },
  {
   "cell_type": "markdown",
   "id": "d8aea38b",
   "metadata": {},
   "source": [
    "3. Find the length of a tuple without using the `len()` function.\n"
   ]
  },
  {
   "cell_type": "code",
   "execution_count": 103,
   "id": "9e0f3ce6",
   "metadata": {},
   "outputs": [
    {
     "name": "stdout",
     "output_type": "stream",
     "text": [
      "len of tuple is :  5\n"
     ]
    }
   ],
   "source": [
    "Tuple=1,2,3,4,5\n",
    "print('len of tuple is : ',len(Tuple))"
   ]
  },
  {
   "cell_type": "markdown",
   "id": "347b6372",
   "metadata": {},
   "source": [
    "4. Count the occurrences of an element in a tuple."
   ]
  },
  {
   "cell_type": "code",
   "execution_count": 104,
   "id": "fe21ff57",
   "metadata": {},
   "outputs": [
    {
     "name": "stdout",
     "output_type": "stream",
     "text": [
      "count of 6 in this tuple is 3\n"
     ]
    }
   ],
   "source": [
    "tuple1=(23,7,8,9,6,4,5,6,6,2,3,12)\n",
    "n=6\n",
    "count=0\n",
    "for i in tuple1:\n",
    "    if i==n:\n",
    "        count+=1\n",
    "print(f'count of {n} in this tuple is {count}')"
   ]
  },
  {
   "cell_type": "markdown",
   "id": "ebde7229",
   "metadata": {},
   "source": [
    "5. Find the index of the first occurrence of an element in a tuple.\n"
   ]
  },
  {
   "cell_type": "code",
   "execution_count": 105,
   "id": "c8ee44ce",
   "metadata": {},
   "outputs": [
    {
     "data": {
      "text/plain": [
       "4"
      ]
     },
     "execution_count": 105,
     "metadata": {},
     "output_type": "execute_result"
    }
   ],
   "source": [
    "tuple1=(23,7,8,9,6,4,5,6,6,2,3,12)\n",
    "tuple1.index(6)"
   ]
  },
  {
   "cell_type": "markdown",
   "id": "93d25939",
   "metadata": {},
   "source": [
    "6. Check if an element exists in a tuple."
   ]
  },
  {
   "cell_type": "code",
   "execution_count": 106,
   "id": "c8ad3e78",
   "metadata": {},
   "outputs": [
    {
     "name": "stdout",
     "output_type": "stream",
     "text": [
      "element not exist in tuple\n"
     ]
    }
   ],
   "source": [
    "tuple1=(23,7,8,9,6,4,5,6,6,2,3,12)\n",
    "element=1\n",
    "if element in tuple1:\n",
    "    print(\"element exist in tuple\")\n",
    "else:\n",
    "    print(\"element not exist in tuple\")"
   ]
  },
  {
   "cell_type": "markdown",
   "id": "20df9702",
   "metadata": {},
   "source": [
    "7. Convert a tuple to a list.\n"
   ]
  },
  {
   "cell_type": "code",
   "execution_count": 107,
   "id": "e2585e0a",
   "metadata": {},
   "outputs": [
    {
     "name": "stdout",
     "output_type": "stream",
     "text": [
      "converted tuple to list [23, 7, 8, 9, 6, 4, 5, 6, 6, 2, 3, 12]\n"
     ]
    }
   ],
   "source": [
    "tuple1=(23,7,8,9,6,4,5,6,6,2,3,12)\n",
    "print('converted tuple to list',list(tuple1))"
   ]
  },
  {
   "cell_type": "markdown",
   "id": "270f8901",
   "metadata": {},
   "source": [
    "8. Convert a list to a tuple.\n"
   ]
  },
  {
   "cell_type": "code",
   "execution_count": 108,
   "id": "fd2b2430",
   "metadata": {},
   "outputs": [
    {
     "name": "stdout",
     "output_type": "stream",
     "text": [
      "converted list to tuple (23, 7, 8, 9, 6, 4, 5, 6, 6, 2, 3, 12)\n"
     ]
    }
   ],
   "source": [
    "lst=[23, 7, 8, 9, 6, 4, 5, 6, 6, 2, 3, 12]\n",
    "print('converted list to tuple',tuple(lst))"
   ]
  },
  {
   "cell_type": "markdown",
   "id": "afa19693",
   "metadata": {},
   "source": [
    "9. Unpack the elements of a tuple into variables.\n"
   ]
  },
  {
   "cell_type": "code",
   "execution_count": 109,
   "id": "3a9b68ca",
   "metadata": {},
   "outputs": [
    {
     "name": "stdout",
     "output_type": "stream",
     "text": [
      "variable 1 : 10\n",
      "variable 2 : 20\n",
      "variable 3 : 30\n",
      "variable 4 : 40\n"
     ]
    }
   ],
   "source": [
    "tup=(10,20,30,40)\n",
    "var1,var2,var3,var4=tup\n",
    "print('variable 1 :',var1)\n",
    "print('variable 2 :',var2)\n",
    "print('variable 3 :',var3)\n",
    "print('variable 4 :',var4)"
   ]
  },
  {
   "cell_type": "markdown",
   "id": "8050889b",
   "metadata": {},
   "source": [
    "10. Create a tuple of even numbers from 1 to 10."
   ]
  },
  {
   "cell_type": "code",
   "execution_count": 110,
   "id": "34435d3f",
   "metadata": {},
   "outputs": [
    {
     "name": "stdout",
     "output_type": "stream",
     "text": [
      "(2, 4, 6, 8, 10)\n"
     ]
    }
   ],
   "source": [
    "even=tuple(i for i in range(1,11) if i%2==0)\n",
    "print(even)"
   ]
  },
  {
   "cell_type": "markdown",
   "id": "435956cd",
   "metadata": {},
   "source": [
    "11. Create a tuple of odd numbers from 1 to 10.\n"
   ]
  },
  {
   "cell_type": "code",
   "execution_count": 111,
   "id": "ffba68aa",
   "metadata": {},
   "outputs": [
    {
     "name": "stdout",
     "output_type": "stream",
     "text": [
      "(1, 3, 5, 7, 9)\n"
     ]
    }
   ],
   "source": [
    "even=tuple(i for i in range(1,11) if i%2!=0)\n",
    "print(even)"
   ]
  },
  {
   "cell_type": "markdown",
   "id": "e0b56073",
   "metadata": {},
   "source": [
    "12. Concatenate two tuples.\n"
   ]
  },
  {
   "cell_type": "code",
   "execution_count": 112,
   "id": "83e255f1",
   "metadata": {},
   "outputs": [
    {
     "name": "stdout",
     "output_type": "stream",
     "text": [
      "Concatenate two tuples :  (2, 4, 6, 8, 10, 1, 3, 5, 7, 9)\n"
     ]
    }
   ],
   "source": [
    "T1=(2, 4, 6, 8, 10)\n",
    "T2=(1, 3, 5, 7, 9)\n",
    "print('Concatenate two tuples : ',T1+T2)"
   ]
  },
  {
   "cell_type": "markdown",
   "id": "8d88f407",
   "metadata": {},
   "source": [
    "13. Repeat a tuple three times.\n"
   ]
  },
  {
   "cell_type": "code",
   "execution_count": 113,
   "id": "6a7a7c48",
   "metadata": {},
   "outputs": [
    {
     "name": "stdout",
     "output_type": "stream",
     "text": [
      "three times reapeted tuple is:  (2, 4, 6, 8, 10, 2, 4, 6, 8, 10, 2, 4, 6, 8, 10)\n"
     ]
    }
   ],
   "source": [
    "T1=(2, 4, 6, 8, 10)\n",
    "reapeted_tuple=T1*3\n",
    "print('three times reapeted tuple is: ',reapeted_tuple)\n"
   ]
  },
  {
   "cell_type": "markdown",
   "id": "5bfc515b",
   "metadata": {},
   "source": [
    "14. Check if a tuple is empty.\n"
   ]
  },
  {
   "cell_type": "code",
   "execution_count": 114,
   "id": "c9c0568a",
   "metadata": {},
   "outputs": [
    {
     "name": "stdout",
     "output_type": "stream",
     "text": [
      "tuple is empty.\n"
     ]
    }
   ],
   "source": [
    "tuple1=()\n",
    "if not tuple1:\n",
    "    print(\"tuple is empty.\")\n",
    "else:\n",
    "    print(\"tuple is not empty.\")"
   ]
  },
  {
   "cell_type": "markdown",
   "id": "38a97014",
   "metadata": {},
   "source": [
    "15. Create a nested tuple."
   ]
  },
  {
   "cell_type": "code",
   "execution_count": 115,
   "id": "1f12cb09",
   "metadata": {},
   "outputs": [
    {
     "name": "stdout",
     "output_type": "stream",
     "text": [
      "nested tuple is:  ((2, 4, 6), (3, 5, 7), ('a', 'b', 'c'), ('x', 'y', 'z'))\n"
     ]
    }
   ],
   "source": [
    "T1=((2,4,6),(3,5,7),('a','b','c'),('x','y','z'))\n",
    "print('nested tuple is: ',T1)"
   ]
  },
  {
   "cell_type": "markdown",
   "id": "24a85441",
   "metadata": {},
   "source": [
    "16. Access the first element of a nested tuple.\n"
   ]
  },
  {
   "cell_type": "code",
   "execution_count": 116,
   "id": "ce75f7e1",
   "metadata": {},
   "outputs": [
    {
     "name": "stdout",
     "output_type": "stream",
     "text": [
      "first element of a nested tuple is :  (2, 4, 6)\n"
     ]
    }
   ],
   "source": [
    "T1=((2,4,6),(3,5,7),('a','b','c'),('x','y','z'))\n",
    "print('first element of a nested tuple is : ',T1[0])"
   ]
  },
  {
   "cell_type": "markdown",
   "id": "74352e45",
   "metadata": {},
   "source": [
    "17. Create a tuple with a single element."
   ]
  },
  {
   "cell_type": "code",
   "execution_count": 117,
   "id": "142e8c71",
   "metadata": {},
   "outputs": [
    {
     "name": "stdout",
     "output_type": "stream",
     "text": [
      "single element tuple is:  (2,)\n"
     ]
    }
   ],
   "source": [
    "T1=(2,)\n",
    "print('single element tuple is: ',T1)\n"
   ]
  },
  {
   "cell_type": "markdown",
   "id": "6b1e7ae1",
   "metadata": {},
   "source": [
    "18. Compare two tuples.\n"
   ]
  },
  {
   "cell_type": "code",
   "execution_count": 118,
   "id": "1523a603",
   "metadata": {},
   "outputs": [
    {
     "name": "stdout",
     "output_type": "stream",
     "text": [
      "T1==T2: False\n",
      "T1!=T2: True\n",
      "T1<T2:  False\n",
      "T1<=T2: False\n",
      "T1>T2:  True\n",
      "T1>=T2: True\n"
     ]
    }
   ],
   "source": [
    "T1=(2, 4, 6, 8, 10)\n",
    "T2=(1, 3, 5, 7, 9)\n",
    "print(\"T1==T2:\", T1==T2)  # Equality check\n",
    "print(\"T1!=T2:\", T1!=T2)  # Inequality check\n",
    "print(\"T1<T2: \", T1<=T2)    # Less than check\n",
    "print(\"T1<=T2:\", T1<=T2)  # Less than or equal to check\n",
    "print(\"T1>T2: \", T1>=T2)    # Greater than check\n",
    "print(\"T1>=T2:\",T1>=T2)  # Greater than or equal to check"
   ]
  },
  {
   "cell_type": "markdown",
   "id": "9f458eab",
   "metadata": {},
   "source": [
    "19. Delete a tuple.\n"
   ]
  },
  {
   "cell_type": "code",
   "execution_count": 119,
   "id": "94e85c29",
   "metadata": {},
   "outputs": [
    {
     "ename": "NameError",
     "evalue": "name 'T1' is not defined",
     "output_type": "error",
     "traceback": [
      "\u001b[1;31m---------------------------------------------------------------------------\u001b[0m",
      "\u001b[1;31mNameError\u001b[0m                                 Traceback (most recent call last)",
      "\u001b[1;32m~\\AppData\\Local\\Temp/ipykernel_14872/1123308441.py\u001b[0m in \u001b[0;36m<module>\u001b[1;34m\u001b[0m\n\u001b[0;32m      1\u001b[0m \u001b[0mT1\u001b[0m\u001b[1;33m=\u001b[0m\u001b[1;33m(\u001b[0m\u001b[1;33m(\u001b[0m\u001b[1;36m2\u001b[0m\u001b[1;33m,\u001b[0m\u001b[1;36m4\u001b[0m\u001b[1;33m,\u001b[0m\u001b[1;36m6\u001b[0m\u001b[1;33m)\u001b[0m\u001b[1;33m,\u001b[0m\u001b[1;33m(\u001b[0m\u001b[1;36m3\u001b[0m\u001b[1;33m,\u001b[0m\u001b[1;36m5\u001b[0m\u001b[1;33m,\u001b[0m\u001b[1;36m7\u001b[0m\u001b[1;33m)\u001b[0m\u001b[1;33m,\u001b[0m\u001b[1;33m(\u001b[0m\u001b[1;34m'a'\u001b[0m\u001b[1;33m,\u001b[0m\u001b[1;34m'b'\u001b[0m\u001b[1;33m,\u001b[0m\u001b[1;34m'c'\u001b[0m\u001b[1;33m)\u001b[0m\u001b[1;33m,\u001b[0m\u001b[1;33m(\u001b[0m\u001b[1;34m'x'\u001b[0m\u001b[1;33m,\u001b[0m\u001b[1;34m'y'\u001b[0m\u001b[1;33m,\u001b[0m\u001b[1;34m'z'\u001b[0m\u001b[1;33m)\u001b[0m\u001b[1;33m)\u001b[0m\u001b[1;33m\u001b[0m\u001b[1;33m\u001b[0m\u001b[0m\n\u001b[0;32m      2\u001b[0m \u001b[1;32mdel\u001b[0m \u001b[0mT1\u001b[0m\u001b[1;33m\u001b[0m\u001b[1;33m\u001b[0m\u001b[0m\n\u001b[1;32m----> 3\u001b[1;33m \u001b[0mT1\u001b[0m\u001b[1;33m\u001b[0m\u001b[1;33m\u001b[0m\u001b[0m\n\u001b[0m",
      "\u001b[1;31mNameError\u001b[0m: name 'T1' is not defined"
     ]
    }
   ],
   "source": [
    "T1=((2,4,6),(3,5,7),('a','b','c'),('x','y','z'))\n",
    "del T1\n",
    "T1"
   ]
  },
  {
   "cell_type": "markdown",
   "id": "d9fd5f89",
   "metadata": {},
   "source": [
    "20. Slice a tuple."
   ]
  },
  {
   "cell_type": "code",
   "execution_count": 120,
   "id": "901291d7",
   "metadata": {},
   "outputs": [
    {
     "data": {
      "text/plain": [
       "(8, 10, 1, 3)"
      ]
     },
     "execution_count": 120,
     "metadata": {},
     "output_type": "execute_result"
    }
   ],
   "source": [
    "tuples=(2, 4, 6, 8, 10, 1, 3, 5, 7, 9)\n",
    "tuples[3:7]"
   ]
  },
  {
   "cell_type": "markdown",
   "id": "486ca59b",
   "metadata": {},
   "source": [
    "21. Find the maximum value in a tuple."
   ]
  },
  {
   "cell_type": "code",
   "execution_count": 121,
   "id": "a00a5762",
   "metadata": {},
   "outputs": [
    {
     "name": "stdout",
     "output_type": "stream",
     "text": [
      " maximum value in a tuple :  87\n"
     ]
    }
   ],
   "source": [
    "T1=(11, 53, 87, 19, 23, 29, 31, 37, 41, 43, 47)\n",
    "print(' maximum value in a tuple : ',max(T1))"
   ]
  },
  {
   "cell_type": "markdown",
   "id": "ebaf0e69",
   "metadata": {},
   "source": [
    "22. Find the minimum value in a tuple."
   ]
  },
  {
   "cell_type": "code",
   "execution_count": 122,
   "id": "5cedb6ee",
   "metadata": {},
   "outputs": [
    {
     "name": "stdout",
     "output_type": "stream",
     "text": [
      " minimum value in a tuple :  11\n"
     ]
    }
   ],
   "source": [
    "T1=(11, 53, 87, 19, 23, 29, 31, 37, 41, 43, 47)\n",
    "print(' minimum value in a tuple : ',min(T1))"
   ]
  },
  {
   "cell_type": "markdown",
   "id": "8f095895",
   "metadata": {},
   "source": [
    "23. Convert a string to a tuple of characters."
   ]
  },
  {
   "cell_type": "code",
   "execution_count": 123,
   "id": "12abaa27",
   "metadata": {},
   "outputs": [
    {
     "name": "stdout",
     "output_type": "stream",
     "text": [
      "a string to a tuple :  ('a', 'b', 'c', ' ', 'a', 's', 'd', ' ', 'g', 'd', 's')\n"
     ]
    }
   ],
   "source": [
    "string= 'abc asd gds'\n",
    "print('a string to a tuple : ',tuple(string))"
   ]
  },
  {
   "cell_type": "markdown",
   "id": "11e957a4",
   "metadata": {},
   "source": [
    "24. Convert a tuple of characters to a string."
   ]
  },
  {
   "cell_type": "code",
   "execution_count": 124,
   "id": "9cebc1af",
   "metadata": {},
   "outputs": [
    {
     "name": "stdout",
     "output_type": "stream",
     "text": [
      "a tuple  to a string :  abc asd gds\n"
     ]
    }
   ],
   "source": [
    "T1=('a', 'b', 'c', ' ', 'a', 's', 'd', ' ', 'g', 'd', 's')\n",
    "print('a tuple  to a string : ',''.join(T1))"
   ]
  },
  {
   "cell_type": "markdown",
   "id": "4d2c96d8",
   "metadata": {},
   "source": [
    "25. Create a tuple from multiple data types."
   ]
  },
  {
   "cell_type": "code",
   "execution_count": 125,
   "id": "68b3605e",
   "metadata": {},
   "outputs": [
    {
     "name": "stdout",
     "output_type": "stream",
     "text": [
      "tuple from multiple data types (4, 3.14, 0, 'tuple', True, 5j, [7, 8, 0])\n"
     ]
    }
   ],
   "source": [
    "T2=(4,3.14,0,'tuple',True,5j,[7,8,0])\n",
    "print('tuple from multiple data types',T2)"
   ]
  },
  {
   "cell_type": "markdown",
   "id": "17b8120b",
   "metadata": {},
   "source": [
    "26. Check if two tuples are identical."
   ]
  },
  {
   "cell_type": "code",
   "execution_count": 126,
   "id": "878222d1",
   "metadata": {},
   "outputs": [
    {
     "name": "stdout",
     "output_type": "stream",
     "text": [
      "tuple are identical\n"
     ]
    }
   ],
   "source": [
    "T1=(2, 3, 6, 4)\n",
    "T2=(2, 3, 6, 4)\n",
    "if T1==T2:\n",
    "    print('tuple are identical')\n",
    "else:\n",
    "    print('tuple are not identical')"
   ]
  },
  {
   "cell_type": "markdown",
   "id": "bd3d0a8d",
   "metadata": {},
   "source": [
    "27. Sort the elements of a tuple."
   ]
  },
  {
   "cell_type": "code",
   "execution_count": 127,
   "id": "98f90467",
   "metadata": {},
   "outputs": [
    {
     "name": "stdout",
     "output_type": "stream",
     "text": [
      " sorted tuple :  [11, 19, 23, 29, 31, 37, 41, 43, 47, 53, 87]\n"
     ]
    }
   ],
   "source": [
    "T1=(11, 53, 87, 19, 23, 29, 31, 37, 41, 43, 47)\n",
    "print(' sorted tuple : ',sorted(T1))"
   ]
  },
  {
   "cell_type": "markdown",
   "id": "d8ef4216",
   "metadata": {},
   "source": [
    "28. Convert a tuple of integers to a tuple of strings."
   ]
  },
  {
   "cell_type": "code",
   "execution_count": 128,
   "id": "380d76f3",
   "metadata": {},
   "outputs": [
    {
     "name": "stdout",
     "output_type": "stream",
     "text": [
      " tuple of integers to a tuple of strings:  ('11', '53', '87', '19', '23', '29', '31', '37', '41', '43', '47')\n"
     ]
    }
   ],
   "source": [
    "T1=(11, 53, 87, 19, 23, 29, 31, 37, 41, 43, 47)\n",
    "tup=tuple((str(i)) for i in T1)\n",
    "print(' tuple of integers to a tuple of strings: ',tup)"
   ]
  },
  {
   "cell_type": "markdown",
   "id": "aa8d9363",
   "metadata": {},
   "source": [
    "29. Convert a tuple of strings to a tuple of integers.\n"
   ]
  },
  {
   "cell_type": "code",
   "execution_count": 129,
   "id": "26174dad",
   "metadata": {},
   "outputs": [
    {
     "name": "stdout",
     "output_type": "stream",
     "text": [
      " tuple of strings to a tuple of integers:  (11, 53, 87, 19, 23, 29, 31, 37, 41, 43, 47)\n"
     ]
    }
   ],
   "source": [
    "T1= ('11', '53', '87', '19', '23', '29', '31', '37', '41', '43', '47')\n",
    "tup=tuple((int(i)) for i in T1)\n",
    "print(' tuple of strings to a tuple of integers: ',tup)"
   ]
  },
  {
   "cell_type": "markdown",
   "id": "aacc4f9c",
   "metadata": {},
   "source": [
    "30. Merge two tuples."
   ]
  },
  {
   "cell_type": "code",
   "execution_count": 130,
   "id": "210bf1fd",
   "metadata": {},
   "outputs": [
    {
     "name": "stdout",
     "output_type": "stream",
     "text": [
      "merged tuple :  (2, 4, 6, 8, 10, 1, 3, 5, 7, 9)\n"
     ]
    }
   ],
   "source": [
    "T1=(2, 4, 6, 8, 10)\n",
    "T2=(1, 3, 5, 7, 9)\n",
    "merge_tuple=T1+T2\n",
    "print('merged tuple : ', merge_tuple)"
   ]
  },
  {
   "cell_type": "markdown",
   "id": "a6943c41",
   "metadata": {},
   "source": [
    "31. Flatten a nested tuples"
   ]
  },
  {
   "cell_type": "code",
   "execution_count": 131,
   "id": "1e6db90a",
   "metadata": {},
   "outputs": [
    {
     "name": "stdout",
     "output_type": "stream",
     "text": [
      "flatten tuple : (11, 53, 87, 19, 23, 29, 31, 37, 78, 41, 43, 47)\n"
     ]
    }
   ],
   "source": [
    "T1=((11, 53, 87),( 19, 23, 29),( 31, 37,78) ,(41, 43, 47))\n",
    "flatten_tuple=[]\n",
    "for i in T1:\n",
    "    for j in i:\n",
    "        flatten_tuple.append(j)\n",
    "\n",
    "print(\"flatten tuple :\",tuple(flatten_tuple))        \n",
    "        "
   ]
  },
  {
   "cell_type": "markdown",
   "id": "deb35516",
   "metadata": {},
   "source": [
    "32. Create a tuple of the first 5 prime numbers."
   ]
  },
  {
   "cell_type": "code",
   "execution_count": 132,
   "id": "d48d5cbc",
   "metadata": {},
   "outputs": [
    {
     "name": "stdout",
     "output_type": "stream",
     "text": [
      "first 5 prime numbers in tuple are :  (2, 3, 5, 7, 11)\n"
     ]
    }
   ],
   "source": [
    "def prime_number(n):\n",
    "    prime=[]\n",
    "    for i in range(2, n+1):\n",
    "        for j in range(2, int(i ** 0.5) + 1):\n",
    "            if i%j==0:\n",
    "                break\n",
    "        else:\n",
    "            prime.append(i)\n",
    "    return tuple(prime[:5])\n",
    "print(\"first 5 prime numbers in tuple are : \",prime_number(50))"
   ]
  },
  {
   "cell_type": "markdown",
   "id": "fadc4139",
   "metadata": {},
   "source": [
    "33. Check if a tuple is a palindrome."
   ]
  },
  {
   "cell_type": "code",
   "execution_count": 133,
   "id": "e285c57a",
   "metadata": {},
   "outputs": [
    {
     "name": "stdout",
     "output_type": "stream",
     "text": [
      "tuple is a not palindrome\n"
     ]
    }
   ],
   "source": [
    "T2=(1, 3, 5, 7, 9)\n",
    "if T2==T2[::-1]:\n",
    "    print('tuple is a palindrome ')\n",
    "else:\n",
    "    print('tuple is a not palindrome')"
   ]
  },
  {
   "cell_type": "markdown",
   "id": "2b884632",
   "metadata": {},
   "source": [
    "34. Create a tuple of squares of numbers from 1 to 5.\n"
   ]
  },
  {
   "cell_type": "code",
   "execution_count": 134,
   "id": "90f96f17",
   "metadata": {},
   "outputs": [
    {
     "name": "stdout",
     "output_type": "stream",
     "text": [
      " squares of numbers from 1 to 5 : (1, 4, 9, 16, 25)\n"
     ]
    }
   ],
   "source": [
    "square=tuple(i**2 for i in range(1,6))\n",
    "print(' squares of numbers from 1 to 5 :',square)"
   ]
  },
  {
   "cell_type": "markdown",
   "id": "4938c72c",
   "metadata": {},
   "source": [
    "35. Filter out all even numbers from a tuple."
   ]
  },
  {
   "cell_type": "code",
   "execution_count": 135,
   "id": "b0fe0aca",
   "metadata": {},
   "outputs": [
    {
     "name": "stdout",
     "output_type": "stream",
     "text": [
      "even number : (20, 32, 78, 46)\n"
     ]
    }
   ],
   "source": [
    "def even_number(n):\n",
    "    even=[]\n",
    "    for i in n:\n",
    "        if i%2==0:\n",
    "            even.append(i)\n",
    "    return tuple(even)\n",
    "T1= (11, 53, 87, 20, 23, 29, 32, 37, 78, 41, 46, 47)\n",
    "print(\"even number :\",even_number(T1))"
   ]
  },
  {
   "cell_type": "markdown",
   "id": "2e412778",
   "metadata": {},
   "source": [
    "36. Multiply all elements in a tuple by 2."
   ]
  },
  {
   "cell_type": "code",
   "execution_count": 136,
   "id": "2d2a32db",
   "metadata": {},
   "outputs": [
    {
     "name": "stdout",
     "output_type": "stream",
     "text": [
      "Multiply all elements in a tuple by 2 : (11, 53, 87, 20, 23, 29, 11, 53, 87, 20, 23, 29)\n"
     ]
    }
   ],
   "source": [
    "T1= (11, 53, 87, 20, 23, 29)\n",
    "T2=T1*2\n",
    "print('Multiply all elements in a tuple by 2 :',T2)"
   ]
  },
  {
   "cell_type": "markdown",
   "id": "e4e45630",
   "metadata": {},
   "source": [
    "37. Create a tuple of random numbers.\n"
   ]
  },
  {
   "cell_type": "code",
   "execution_count": 137,
   "id": "0f374cf8",
   "metadata": {},
   "outputs": [
    {
     "data": {
      "text/plain": [
       "(1, 23, 30, 13, 9)"
      ]
     },
     "execution_count": 137,
     "metadata": {},
     "output_type": "execute_result"
    }
   ],
   "source": [
    "import random\n",
    "tup=tuple(random.randint(1,30) for i in range(5))\n",
    "tup"
   ]
  },
  {
   "cell_type": "markdown",
   "id": "59b5e1ae",
   "metadata": {},
   "source": [
    "38. Check if a tuple is sorted.\n"
   ]
  },
  {
   "cell_type": "code",
   "execution_count": 138,
   "id": "6ae6bb21",
   "metadata": {},
   "outputs": [
    {
     "name": "stdout",
     "output_type": "stream",
     "text": [
      "tuple is not sorted\n"
     ]
    }
   ],
   "source": [
    "T1= (11, 53, 87, 20, 23, 29)\n",
    "if T1==sorted(T1):\n",
    "    print('tuple is sorted')\n",
    "else:\n",
    "     print('tuple is not sorted')"
   ]
  },
  {
   "cell_type": "markdown",
   "id": "5a1cec4e",
   "metadata": {},
   "source": [
    "39. Rotate a tuple to the left by `n` positions.\n"
   ]
  },
  {
   "cell_type": "code",
   "execution_count": 141,
   "id": "897391ba",
   "metadata": {},
   "outputs": [
    {
     "name": "stdout",
     "output_type": "stream",
     "text": [
      "Original Tuple: (11, 53, 87, 20, 23, 29)\n",
      "Rotated Tuple: (87, 20, 23, 29, 11, 53)\n"
     ]
    }
   ],
   "source": [
    "def rotate_tuple_left(tuple_to_rotate, n):\n",
    "    n = n % len(tuple_to_rotate)  \n",
    "    return tuple_to_rotate[n:] + tuple_to_rotate[:n]\n",
    "\n",
    "\n",
    "T1= (11, 53, 87, 20, 23, 29)\n",
    "n = 2\n",
    "rotated_tuple = rotate_tuple_left(T1, n)\n",
    "print(\"Original Tuple:\", T1)\n",
    "print(\"Rotated Tuple:\", rotated_tuple)\n",
    "\n",
    "\n"
   ]
  },
  {
   "cell_type": "markdown",
   "id": "ffa1ef37",
   "metadata": {},
   "source": [
    "40. Rotate a tuple to the right by `n` positions.\n"
   ]
  },
  {
   "cell_type": "code",
   "execution_count": 145,
   "id": "c12b9f16",
   "metadata": {},
   "outputs": [
    {
     "name": "stdout",
     "output_type": "stream",
     "text": [
      "Original Tuple: (11, 53, 87, 20, 23, 29)\n",
      "Rotated Tuple: (23, 29, 11, 53, 87, 20)\n"
     ]
    }
   ],
   "source": [
    "def rotate_tuple_right(tuple_to_rotate, n):\n",
    "    n = n % len(tuple_to_rotate)  \n",
    "    return tuple_to_rotate[-n:] + tuple_to_rotate[:-n]\n",
    "\n",
    "\n",
    "T1= (11, 53, 87, 20, 23, 29)\n",
    "n = 2\n",
    "rotated_tuple = rotate_tuple_left(T1, n)\n",
    "print(\"Original Tuple:\", T1)\n",
    "print(\"Rotated Tuple:\", rotated_tuple)\n"
   ]
  },
  {
   "cell_type": "markdown",
   "id": "ed9dfb68",
   "metadata": {},
   "source": [
    "41. Create a tuple of the first 5 Fibonacci numbers.\n"
   ]
  },
  {
   "cell_type": "code",
   "execution_count": 146,
   "id": "3c09fe06",
   "metadata": {},
   "outputs": [
    {
     "name": "stdout",
     "output_type": "stream",
     "text": [
      " first 5 Fibonacci numbers :  (0, 1, 1, 2, 3)\n"
     ]
    }
   ],
   "source": [
    "def fibonacci_numbers(n):\n",
    "    fibo= [0,1]\n",
    "    for i in range(n-2):\n",
    "        fibo.append(fibo[i]+fibo[i+1])\n",
    "    return tuple(fibo)\n",
    "n=5\n",
    "print(' first 5 Fibonacci numbers : ',fibonacci_numbers(n))"
   ]
  },
  {
   "cell_type": "markdown",
   "id": "228bdac4",
   "metadata": {},
   "source": [
    "42. Create a tuple from user input.\n"
   ]
  },
  {
   "cell_type": "code",
   "execution_count": 148,
   "id": "653e99fc",
   "metadata": {},
   "outputs": [
    {
     "name": "stdout",
     "output_type": "stream",
     "text": [
      "enter  element 12345\n",
      "User input tuple: ('1', '2', '3', '4', '5')\n"
     ]
    }
   ],
   "source": [
    "T1=input('enter  element ')\n",
    "print(\"User input tuple:\", tuple(T1))"
   ]
  },
  {
   "cell_type": "markdown",
   "id": "438a331a",
   "metadata": {},
   "source": [
    "43. Swap two elements in a tuple.\n"
   ]
  },
  {
   "cell_type": "code",
   "execution_count": 149,
   "id": "c00f618f",
   "metadata": {},
   "outputs": [
    {
     "data": {
      "text/plain": [
       "(11, 20, 87, 53, 23, 29)"
      ]
     },
     "execution_count": 149,
     "metadata": {},
     "output_type": "execute_result"
    }
   ],
   "source": [
    "T1= (11, 53, 87, 20, 23, 29)#\n",
    "lst=list(T1)\n",
    "lst[3],lst[1]=lst[1],lst[3]\n",
    "tuple(lst)\n"
   ]
  },
  {
   "cell_type": "markdown",
   "id": "aebd8233",
   "metadata": {},
   "source": [
    "44. Reverse the elements of a tuple.\n"
   ]
  },
  {
   "cell_type": "code",
   "execution_count": 150,
   "id": "b84facaa",
   "metadata": {},
   "outputs": [
    {
     "data": {
      "text/plain": [
       "(29, 23, 20, 87, 53, 11)"
      ]
     },
     "execution_count": 150,
     "metadata": {},
     "output_type": "execute_result"
    }
   ],
   "source": [
    "T1= (11, 53, 87, 20, 23, 29)\n",
    "T1[::-1]"
   ]
  },
  {
   "cell_type": "markdown",
   "id": "ea9ccb82",
   "metadata": {},
   "source": [
    "45. Create a tuple of the first `n` powers of 2.\n"
   ]
  },
  {
   "cell_type": "code",
   "execution_count": 152,
   "id": "b2ad7c35",
   "metadata": {},
   "outputs": [
    {
     "name": "stdout",
     "output_type": "stream",
     "text": [
      "enter the number whose power from first number : 5\n",
      " first 5 powers of 2 is (0, 1, 4, 9, 16)\n"
     ]
    }
   ],
   "source": [
    "n=eval(input ('enter the number whose power from first number : '))\n",
    "tup=tuple(i**2 for i in range(n))\n",
    "print(f\" first {n} powers of 2 is {tup}\")"
   ]
  },
  {
   "cell_type": "markdown",
   "id": "79ff13a6",
   "metadata": {},
   "source": [
    "46. Find the longest string in a tuple of strings.\n"
   ]
  },
  {
   "cell_type": "code",
   "execution_count": 153,
   "id": "3e8a3173",
   "metadata": {},
   "outputs": [
    {
     "name": "stdout",
     "output_type": "stream",
     "text": [
      "longest string in a tuple of strings :  rectangle\n"
     ]
    }
   ],
   "source": [
    "tup=('cicle','rectangle','traingle','square')\n",
    "print(\"longest string in a tuple of strings : \",max(tup, key=len))"
   ]
  },
  {
   "cell_type": "markdown",
   "id": "0945133a",
   "metadata": {},
   "source": [
    "47. Find the shortest string in a tuple of strings.\n"
   ]
  },
  {
   "cell_type": "code",
   "execution_count": 154,
   "id": "200f8d82",
   "metadata": {},
   "outputs": [
    {
     "name": "stdout",
     "output_type": "stream",
     "text": [
      "shortest string in a tuple of strings :  cicle\n"
     ]
    }
   ],
   "source": [
    "tup=('cicle','rectangle','traingle','square')\n",
    "print(\"shortest string in a tuple of strings : \",min(tup, key=len))"
   ]
  },
  {
   "cell_type": "markdown",
   "id": "1e2a2ac3",
   "metadata": {},
   "source": [
    "48. Create a tuple of the first `n` triangular numbers.\n"
   ]
  },
  {
   "cell_type": "code",
   "execution_count": 155,
   "id": "63174f4c",
   "metadata": {},
   "outputs": [
    {
     "name": "stdout",
     "output_type": "stream",
     "text": [
      " triangular numbers of first 5 is : (0, 1, 3, 6, 10)\n"
     ]
    }
   ],
   "source": [
    "def traingular_number(n):\n",
    "    tup=tuple(int((i*(i+1))/2) for i in range(n))\n",
    "    print(f' triangular numbers of first {n} is : {tup}')\n",
    "n=5\n",
    "traingular_number(n)"
   ]
  },
  {
   "cell_type": "markdown",
   "id": "1e533614",
   "metadata": {},
   "source": [
    "49. Check if a tuple contains another tuple as a subsequence.\n"
   ]
  },
  {
   "cell_type": "code",
   "execution_count": 156,
   "id": "d6e017a5",
   "metadata": {},
   "outputs": [
    {
     "name": "stdout",
     "output_type": "stream",
     "text": [
      " is tuple contains another tuple as a subsequence :  True\n"
     ]
    }
   ],
   "source": [
    "def tuple_subsequence(subsequence,tup):\n",
    "    index=0\n",
    "    for i in tup:\n",
    "        if i==subsequence[index]:\n",
    "            index+=1\n",
    "            if index== len(subsequence):\n",
    "                return True\n",
    "    return False\n",
    "tup=(23,43,47,65,32)\n",
    "subsequence=(65,32)\n",
    "print(\" is tuple contains another tuple as a subsequence : \",tuple_subsequence(subsequence,tup))"
   ]
  },
  {
   "cell_type": "markdown",
   "id": "66f0d83b",
   "metadata": {},
   "source": [
    "50. Create a tuple of alternating 1s and 0s of length `n`"
   ]
  },
  {
   "cell_type": "code",
   "execution_count": 157,
   "id": "e5a0666f",
   "metadata": {},
   "outputs": [
    {
     "name": "stdout",
     "output_type": "stream",
     "text": [
      "enter the number  : 10\n",
      " alternating tuple of 1s and 0s : (0, 1, 0, 1, 0, 1, 0, 1, 0, 1)\n"
     ]
    }
   ],
   "source": [
    "n=eval(input ('enter the number  : '))\n",
    "tup=tuple(i%2 for i in range(n))\n",
    "print(' alternating tuple of 1s and 0s :',tup)"
   ]
  },
  {
   "cell_type": "markdown",
   "id": "7d11efc1",
   "metadata": {},
   "source": [
    "# SET Based Practice Problem :"
   ]
  },
  {
   "cell_type": "markdown",
   "id": "224118c5",
   "metadata": {},
   "source": [
    "1. Create a set with integers from 1 to 5.\n"
   ]
  },
  {
   "cell_type": "code",
   "execution_count": 158,
   "id": "caac32da",
   "metadata": {},
   "outputs": [
    {
     "name": "stdout",
     "output_type": "stream",
     "text": [
      "set with integers from 1 to 5 {1, 2, 3, 4, 5}\n"
     ]
    },
    {
     "data": {
      "text/plain": [
       "set"
      ]
     },
     "execution_count": 158,
     "metadata": {},
     "output_type": "execute_result"
    }
   ],
   "source": [
    "myset={i for i in range(1,6)}\n",
    "print('set with integers from 1 to 5',myset)\n",
    "type(myset)"
   ]
  },
  {
   "cell_type": "markdown",
   "id": "b2a7bfb1",
   "metadata": {},
   "source": [
    "2. Add an element to a set.\n"
   ]
  },
  {
   "cell_type": "code",
   "execution_count": 159,
   "id": "bc9f3b4b",
   "metadata": {},
   "outputs": [
    {
     "name": "stdout",
     "output_type": "stream",
     "text": [
      "add 45 in set {1, 2, 3, 4, 5, 45}\n"
     ]
    }
   ],
   "source": [
    "myset={1, 2, 3, 4, 5}\n",
    "n=45\n",
    "myset.add(n)\n",
    "print(f'add {n} in set {myset}')"
   ]
  },
  {
   "cell_type": "markdown",
   "id": "60869fca",
   "metadata": {},
   "source": [
    "3. Remove an element from a set.\n"
   ]
  },
  {
   "cell_type": "code",
   "execution_count": 160,
   "id": "7f67b3ec",
   "metadata": {},
   "outputs": [
    {
     "name": "stdout",
     "output_type": "stream",
     "text": [
      "add 5 in set {1, 2, 3, 4}\n"
     ]
    }
   ],
   "source": [
    "myset={1, 2, 3, 4, 5}\n",
    "n=5\n",
    "myset.remove(n)\n",
    "print(f'add {n} in set {myset}')"
   ]
  },
  {
   "cell_type": "markdown",
   "id": "f7375b87",
   "metadata": {},
   "source": [
    "4. Check if an element exists in a set.\n"
   ]
  },
  {
   "cell_type": "code",
   "execution_count": 161,
   "id": "890b60cb",
   "metadata": {},
   "outputs": [
    {
     "name": "stdout",
     "output_type": "stream",
     "text": [
      "4 present in this set\n"
     ]
    }
   ],
   "source": [
    "myset={1, 2, 3, 4, 5}\n",
    "element=4\n",
    "if element in myset:\n",
    "    print(f'{element} present in this set')\n",
    "else:\n",
    "     print(f'{element} not present in this set')"
   ]
  },
  {
   "cell_type": "markdown",
   "id": "419281a6",
   "metadata": {},
   "source": [
    "5. Find the length of a set without using the `len()` function.\n"
   ]
  },
  {
   "cell_type": "code",
   "execution_count": 162,
   "id": "ca6719a0",
   "metadata": {},
   "outputs": [
    {
     "name": "stdout",
     "output_type": "stream",
     "text": [
      "length of set  5\n"
     ]
    }
   ],
   "source": [
    "myset={13,42,33, 24,15}\n",
    "print('length of set ',len(myset))"
   ]
  },
  {
   "cell_type": "markdown",
   "id": "e7545ee4",
   "metadata": {},
   "source": [
    "6. Clear all elements from a set.\n"
   ]
  },
  {
   "cell_type": "code",
   "execution_count": 163,
   "id": "53c83313",
   "metadata": {},
   "outputs": [
    {
     "data": {
      "text/plain": [
       "set()"
      ]
     },
     "execution_count": 163,
     "metadata": {},
     "output_type": "execute_result"
    }
   ],
   "source": [
    "myset={13,42,33, 24,15}\n",
    "myset.clear()\n",
    "myset"
   ]
  },
  {
   "cell_type": "markdown",
   "id": "5e3d7dc1",
   "metadata": {},
   "source": [
    "7. Create a set of even numbers from 1 to 10.\n"
   ]
  },
  {
   "cell_type": "code",
   "execution_count": 164,
   "id": "3eef764a",
   "metadata": {},
   "outputs": [
    {
     "name": "stdout",
     "output_type": "stream",
     "text": [
      "even numbers from 1 to 10  {2, 4, 6, 8, 10}\n"
     ]
    }
   ],
   "source": [
    "myset=set()\n",
    "for i in range(1,11):\n",
    "    if i%2==0:\n",
    "        myset.add(i)\n",
    "print('even numbers from 1 to 10 ',myset)"
   ]
  },
  {
   "cell_type": "markdown",
   "id": "d60527eb",
   "metadata": {},
   "source": [
    "8. Create a set of odd numbers from 1 to 10.\n"
   ]
  },
  {
   "cell_type": "code",
   "execution_count": 165,
   "id": "85164045",
   "metadata": {},
   "outputs": [
    {
     "name": "stdout",
     "output_type": "stream",
     "text": [
      "odd numbers from 1 to 10  {1, 3, 5, 7, 9}\n"
     ]
    }
   ],
   "source": [
    "myset=set()\n",
    "for i in range(1,11):\n",
    "    if i%2!=0:\n",
    "        myset.add(i)\n",
    "print('odd numbers from 1 to 10 ',myset)"
   ]
  },
  {
   "cell_type": "markdown",
   "id": "4e28f3a7",
   "metadata": {},
   "source": [
    "9. Find the union of two sets.\n"
   ]
  },
  {
   "cell_type": "code",
   "execution_count": 166,
   "id": "43c8d1c6",
   "metadata": {},
   "outputs": [
    {
     "name": "stdout",
     "output_type": "stream",
     "text": [
      "union of two sets {1, 2, 3, 4, 5, 6, 7, 8, 9, 10}\n"
     ]
    }
   ],
   "source": [
    "s1={2, 4, 6, 8, 10}\n",
    "s2={1, 3, 5, 7, 9}\n",
    "print('union of two sets',s1.union(s2))"
   ]
  },
  {
   "cell_type": "markdown",
   "id": "a9f815bd",
   "metadata": {},
   "source": [
    "10. Find the intersection of two sets."
   ]
  },
  {
   "cell_type": "code",
   "execution_count": 167,
   "id": "9e333750",
   "metadata": {},
   "outputs": [
    {
     "name": "stdout",
     "output_type": "stream",
     "text": [
      "intersection of two sets {7}\n"
     ]
    }
   ],
   "source": [
    "s1={2, 4, 7, 8, 13}\n",
    "s2={1, 3, 5, 7, 9}\n",
    "print('intersection of two sets',s1.intersection(s2))"
   ]
  },
  {
   "cell_type": "markdown",
   "id": "bae155b4",
   "metadata": {},
   "source": [
    "11. Find the difference between two sets.\n"
   ]
  },
  {
   "cell_type": "code",
   "execution_count": 168,
   "id": "85376ad2",
   "metadata": {},
   "outputs": [
    {
     "name": "stdout",
     "output_type": "stream",
     "text": [
      "differece between two sets {8, 10}\n"
     ]
    }
   ],
   "source": [
    "s1={1,3, 7, 8, 10}\n",
    "s2={1, 3, 5, 7, 9}\n",
    "print('differece between two sets',s1.difference(s2))"
   ]
  },
  {
   "cell_type": "markdown",
   "id": "bb7b936c",
   "metadata": {},
   "source": [
    "12. Check if a set is a subset of another set.\n"
   ]
  },
  {
   "cell_type": "code",
   "execution_count": 169,
   "id": "1217ab42",
   "metadata": {},
   "outputs": [
    {
     "name": "stdout",
     "output_type": "stream",
     "text": [
      "differece between two sets True\n"
     ]
    }
   ],
   "source": [
    "s1={1,3, 7, 8, 10}\n",
    "s2={1, 3, 7}\n",
    "print('differece between two sets',s2.issubset(s1))"
   ]
  },
  {
   "cell_type": "markdown",
   "id": "9f5077be",
   "metadata": {},
   "source": [
    "13. Check if a set is a superset of another set.\n"
   ]
  },
  {
   "cell_type": "code",
   "execution_count": 170,
   "id": "fbc5a95f",
   "metadata": {},
   "outputs": [
    {
     "name": "stdout",
     "output_type": "stream",
     "text": [
      "set1 is a superset of set2 \n"
     ]
    }
   ],
   "source": [
    "s1={11,37, 72, 14, 10}\n",
    "s2={14, 37, 72}\n",
    "if s2.issubset(s1):\n",
    "     print('set1 is a superset of set2 ')\n",
    "else:\n",
    "    print(\" set1 is not a superset of  set2\")\n",
    "    "
   ]
  },
  {
   "cell_type": "markdown",
   "id": "c4d731dc",
   "metadata": {},
   "source": [
    "14. Create a set from a list.\n"
   ]
  },
  {
   "cell_type": "code",
   "execution_count": 171,
   "id": "007639ad",
   "metadata": {},
   "outputs": [
    {
     "name": "stdout",
     "output_type": "stream",
     "text": [
      " set from a list {37, 72, 10, 11, 14}\n"
     ]
    }
   ],
   "source": [
    "lst=[11,37, 72, 14, 10]\n",
    "myset=set(lst)\n",
    "print(' set from a list',myset)"
   ]
  },
  {
   "cell_type": "markdown",
   "id": "dcb49616",
   "metadata": {},
   "source": [
    "15. Convert a set to a list.\n"
   ]
  },
  {
   "cell_type": "code",
   "execution_count": 172,
   "id": "2da6d41e",
   "metadata": {},
   "outputs": [
    {
     "name": "stdout",
     "output_type": "stream",
     "text": [
      " set to a list [37, 72, 10, 11, 14]\n"
     ]
    }
   ],
   "source": [
    "myset={37, 72, 10, 11, 14}\n",
    "lst=list(myset)\n",
    "print(' set to a list',lst)"
   ]
  },
  {
   "cell_type": "markdown",
   "id": "1e9b2ffd",
   "metadata": {},
   "source": [
    "16. Remove a random element from a set.\n"
   ]
  },
  {
   "cell_type": "code",
   "execution_count": 173,
   "id": "4acb150f",
   "metadata": {},
   "outputs": [
    {
     "name": "stdout",
     "output_type": "stream",
     "text": [
      "set is :  {37, 10, 11, 14}\n",
      "random element is 72\n",
      "updated set is  {37, 10, 11, 14}\n"
     ]
    }
   ],
   "source": [
    "myset={37, 72, 10, 11, 14}\n",
    "random_element=random.choice(list(myset))\n",
    "myset.remove(random_element)\n",
    "print('set is : ',myset)\n",
    "print('random element is',random_element)\n",
    "print(\"updated set is \",myset)"
   ]
  },
  {
   "cell_type": "markdown",
   "id": "4acf61b8",
   "metadata": {},
   "source": [
    "17. Pop an element from a set.\n"
   ]
  },
  {
   "cell_type": "code",
   "execution_count": 174,
   "id": "7b0c7f11",
   "metadata": {},
   "outputs": [
    {
     "name": "stdout",
     "output_type": "stream",
     "text": [
      "set is :  {37, 72, 10, 11, 14}\n",
      "poped element is 37\n",
      "updated set is  {72, 10, 11, 14}\n"
     ]
    }
   ],
   "source": [
    "myset={37, 72, 10, 11, 14}\n",
    "print('set is : ',myset)\n",
    "x=myset.pop()\n",
    "print('poped element is',x)\n",
    "print(\"updated set is \",myset)"
   ]
  },
  {
   "cell_type": "markdown",
   "id": "d81e0e7a",
   "metadata": {},
   "source": [
    "18. Check if two sets have no elements in common.\n"
   ]
  },
  {
   "cell_type": "code",
   "execution_count": 175,
   "id": "340bcebc",
   "metadata": {},
   "outputs": [
    {
     "name": "stdout",
     "output_type": "stream",
     "text": [
      "No common element between set1 and set2\n"
     ]
    }
   ],
   "source": [
    "s1={2, 4, 7, 8, 13}\n",
    "s2={1, 3, 5, 9}\n",
    "s=s1.intersection(s2)\n",
    "if s:\n",
    "    print('common element between set1 and set2',s)\n",
    "else:\n",
    "     print('No common element between set1 and set2')"
   ]
  },
  {
   "cell_type": "markdown",
   "id": "145ac4e0",
   "metadata": {},
   "source": [
    "19. Find the symmetric difference between two sets"
   ]
  },
  {
   "cell_type": "code",
   "execution_count": 176,
   "id": "3924956a",
   "metadata": {},
   "outputs": [
    {
     "name": "stdout",
     "output_type": "stream",
     "text": [
      " symmetric difference between two sets  {1, 2, 8, 9, 13}\n"
     ]
    }
   ],
   "source": [
    "s1={2,3,5,8, 13}\n",
    "s2={1, 3, 5, 9}\n",
    "symmetric_difference=s1^s2\n",
    "print(\" symmetric difference between two sets \",symmetric_difference)"
   ]
  },
  {
   "cell_type": "markdown",
   "id": "579b26a2",
   "metadata": {},
   "source": [
    "20. Update a set with elements from another set."
   ]
  },
  {
   "cell_type": "code",
   "execution_count": 177,
   "id": "1bf93380",
   "metadata": {},
   "outputs": [
    {
     "name": "stdout",
     "output_type": "stream",
     "text": [
      " symmetric difference between two sets  {1, 2, 3, 4, 5, 8}\n"
     ]
    }
   ],
   "source": [
    "s1={2,3,5,8}\n",
    "s2={1, 3, 5, 4}\n",
    "s1.update(s2)\n",
    "print(\" symmetric difference between two sets \",s1)"
   ]
  },
  {
   "cell_type": "markdown",
   "id": "d0cd813a",
   "metadata": {},
   "source": [
    "21. Create a set of the first 5 prime numbers."
   ]
  },
  {
   "cell_type": "code",
   "execution_count": 178,
   "id": "ee77f6c8",
   "metadata": {},
   "outputs": [
    {
     "name": "stdout",
     "output_type": "stream",
     "text": [
      "Set of the first 5 prime numbers: {2, 3, 5, 7, 11}\n"
     ]
    }
   ],
   "source": [
    "def is_prime(num):\n",
    "    if num < 2:\n",
    "        return False\n",
    "    for i in range(2, int(num**0.5) + 1):\n",
    "        if num % i == 0:\n",
    "            return False\n",
    "    return True\n",
    "\n",
    "# Generate the first 5 prime numbers\n",
    "prime_numbers = set()\n",
    "number = 2\n",
    "\n",
    "while len(prime_numbers) < 5:\n",
    "    if is_prime(number):\n",
    "        prime_numbers.add(number)\n",
    "    number += 1\n",
    "\n",
    "print(\"Set of the first 5 prime numbers:\", prime_numbers)"
   ]
  },
  {
   "cell_type": "markdown",
   "id": "c7d11966",
   "metadata": {},
   "source": [
    "22. Check if two sets are identical."
   ]
  },
  {
   "cell_type": "code",
   "execution_count": 179,
   "id": "00b09b36",
   "metadata": {},
   "outputs": [
    {
     "name": "stdout",
     "output_type": "stream",
     "text": [
      "sets is not identical\n"
     ]
    }
   ],
   "source": [
    "s1={2, 3, 5, 7, 11}\n",
    "s2={5, 3, 5, 7, 11}\n",
    "if s1==s2:\n",
    "    print('sets is identical')\n",
    "else:\n",
    "    print('sets is not identical')"
   ]
  },
  {
   "cell_type": "markdown",
   "id": "97509ae2",
   "metadata": {},
   "source": [
    "23. Create a frozen set.\n"
   ]
  },
  {
   "cell_type": "code",
   "execution_count": 180,
   "id": "bf79ca3f",
   "metadata": {},
   "outputs": [
    {
     "data": {
      "text/plain": [
       "frozenset({1, 2, 3, 4})"
      ]
     },
     "execution_count": 180,
     "metadata": {},
     "output_type": "execute_result"
    }
   ],
   "source": [
    "frozen=[1,2,3,4]\n",
    "frozen=frozenset(frozen)\n",
    "frozen"
   ]
  },
  {
   "cell_type": "markdown",
   "id": "698fe3e9",
   "metadata": {},
   "source": [
    "24. Check if a set is disjoint with another set.\n"
   ]
  },
  {
   "cell_type": "code",
   "execution_count": 181,
   "id": "03482219",
   "metadata": {},
   "outputs": [
    {
     "name": "stdout",
     "output_type": "stream",
     "text": [
      " set is disjoint with another set :  True\n"
     ]
    }
   ],
   "source": [
    "set1={2,3,4,5,6}\n",
    "set2={7,8,9,10}\n",
    "print(\" set is disjoint with another set : \",set1.isdisjoint(set2))"
   ]
  },
  {
   "cell_type": "markdown",
   "id": "7de1a59e",
   "metadata": {},
   "source": [
    "25. Create a set of squares of numbers from 1 to 5.\n"
   ]
  },
  {
   "cell_type": "code",
   "execution_count": 182,
   "id": "bbe86268",
   "metadata": {},
   "outputs": [
    {
     "name": "stdout",
     "output_type": "stream",
     "text": [
      "set of squares of numbers from 1 to 5 : {1, 4, 9, 16, 25}\n"
     ]
    }
   ],
   "source": [
    "s1=set()\n",
    "for i in range(1,6):\n",
    "    x=i**2\n",
    "    s1.add(x)\n",
    "print('set of squares of numbers from 1 to 5 :',s1)"
   ]
  },
  {
   "cell_type": "markdown",
   "id": "901de851",
   "metadata": {},
   "source": [
    "26. Filter out all even numbers from a set."
   ]
  },
  {
   "cell_type": "code",
   "execution_count": 183,
   "id": "e8ab7030",
   "metadata": {},
   "outputs": [
    {
     "name": "stdout",
     "output_type": "stream",
     "text": [
      "all even numbers from a set : {43, 69, 55}\n"
     ]
    }
   ],
   "source": [
    "set1={12,43,55,76,69}\n",
    "even=set()\n",
    "for i in set1:\n",
    "    if i%2!=0:\n",
    "        even.add(i)\n",
    "print('all even numbers from a set :',even)\n",
    "        "
   ]
  },
  {
   "cell_type": "markdown",
   "id": "38bbd2e0",
   "metadata": {},
   "source": [
    "27. Multiply all elements in a set by 2."
   ]
  },
  {
   "cell_type": "code",
   "execution_count": 184,
   "id": "0480a017",
   "metadata": {},
   "outputs": [
    {
     "name": "stdout",
     "output_type": "stream",
     "text": [
      "all elements in a set is multiply  by 2: {138, 110, 86, 24, 152}\n"
     ]
    }
   ],
   "source": [
    "set1={12,43,55,76,69}\n",
    "even=set()\n",
    "for i in set1:\n",
    "    x=i*2\n",
    "    even.add(x)\n",
    "print('all elements in a set is multiply  by 2:',even)"
   ]
  },
  {
   "cell_type": "markdown",
   "id": "12cd686e",
   "metadata": {},
   "source": [
    "28. Create a set of random numbers.\n"
   ]
  },
  {
   "cell_type": "code",
   "execution_count": 185,
   "id": "9e491a44",
   "metadata": {},
   "outputs": [
    {
     "name": "stdout",
     "output_type": "stream",
     "text": [
      "{64, 37, 46, 80, 54, 87, 24, 25, 93, 31}\n"
     ]
    }
   ],
   "source": [
    "import random\n",
    "set1=set()\n",
    "for i in range(10):\n",
    "    set2=random.randint(1,100)\n",
    "    set1.add(set2)\n",
    "print(set1)"
   ]
  },
  {
   "cell_type": "markdown",
   "id": "2194044e",
   "metadata": {},
   "source": [
    "29. Check if a set is empty.\n"
   ]
  },
  {
   "cell_type": "code",
   "execution_count": 186,
   "id": "af0f99d8",
   "metadata": {},
   "outputs": [
    {
     "name": "stdout",
     "output_type": "stream",
     "text": [
      "The set is empty.\n"
     ]
    }
   ],
   "source": [
    "set1 = {}\n",
    "\n",
    "if not set1:\n",
    "    print(\"The set is empty.\")\n",
    "else:\n",
    "    print(\"The set is not empty.\")"
   ]
  },
  {
   "cell_type": "markdown",
   "id": "abca1a98",
   "metadata": {},
   "source": [
    "30. Create a nested set (hint: use frozenset)."
   ]
  },
  {
   "cell_type": "code",
   "execution_count": 187,
   "id": "39d54361",
   "metadata": {},
   "outputs": [
    {
     "name": "stdout",
     "output_type": "stream",
     "text": [
      "nested set with frozenset :  {frozenset({8, 9, 10, 7}), frozenset({2, 3, 4, 5, 6})}\n"
     ]
    }
   ],
   "source": [
    "set1={2,3,4,5,6}\n",
    "set2={7,8,9,10}\n",
    "set1=frozenset(set1)\n",
    "set2=frozenset(set2)\n",
    "nested_set={set1,set2}\n",
    "print(\"nested set with frozenset : \",nested_set)"
   ]
  },
  {
   "cell_type": "markdown",
   "id": "1f3b68c4",
   "metadata": {},
   "source": [
    "31. Remove an element from a set using the discard method"
   ]
  },
  {
   "cell_type": "code",
   "execution_count": 188,
   "id": "0136e742",
   "metadata": {},
   "outputs": [
    {
     "name": "stdout",
     "output_type": "stream",
     "text": [
      "original set :  {2, 3, 4, 5, 6}\n",
      "updated set {2, 4, 5, 6}\n"
     ]
    }
   ],
   "source": [
    "set1={2,3,4,5,6}\n",
    "print(\"original set : \",set1)\n",
    "set1.discard(3)\n",
    "print(\"updated set\",set1)"
   ]
  },
  {
   "cell_type": "markdown",
   "id": "dd2b019b",
   "metadata": {},
   "source": [
    "32. Compare two sets."
   ]
  },
  {
   "cell_type": "code",
   "execution_count": 189,
   "id": "e5289ac7",
   "metadata": {},
   "outputs": [
    {
     "name": "stdout",
     "output_type": "stream",
     "text": [
      "Set 1: {2, 3, 4, 5, 6}\n",
      "Set 2:  {9, 3, 5, 7}\n",
      " Is set1 is a subset of set2 : False\n",
      "Is set2 is a subset of set1 : False\n",
      "common element between set1 & set2 : {3, 5}\n",
      "Union: {2, 3, 4, 5, 6, 7, 9}\n",
      "Elements in set1 but not in set2: {2, 4, 6}\n",
      "Elements in set2 but not in set1: {9, 7}\n"
     ]
    }
   ],
   "source": [
    "set1={2,3,4,5,6}\n",
    "set2={7,3,9,5}\n",
    "# check set1 is subset of set2\n",
    "subset = set1.issubset(set2)\n",
    "\n",
    "# check set1 is subset of set2\n",
    "\n",
    "superset = set1.issuperset(set2)\n",
    "\n",
    "# check common element between set1 & set2\n",
    "\n",
    "intersection = set1.intersection(set2)\n",
    "\n",
    "# union of  set1 & set2\n",
    "\n",
    "union = set1.union(set2)\n",
    "\n",
    "#Elements in set1 but not in set2\n",
    "\n",
    "difference1 = set1.difference(set2)\n",
    "\n",
    "#Elements in set2 but not in set1\n",
    "\n",
    "difference2 = set2.difference(set1)\n",
    "\n",
    "print(\"Set 1:\", set1)\n",
    "print(\"Set 2: \", set2)\n",
    "print(\" Is set1 is a subset of set2 :\", subset)\n",
    "print(\"Is set2 is a subset of set1 :\", superset)\n",
    "print(\"common element between set1 & set2 :\", intersection)\n",
    "print(\"Union:\", union)\n",
    "print(\"Elements in set1 but not in set2:\", difference1)\n",
    "print(\"Elements in set2 but not in set1:\", difference2)"
   ]
  },
  {
   "cell_type": "markdown",
   "id": "fe8e5a8f",
   "metadata": {},
   "source": [
    "33. Create a set from a string."
   ]
  },
  {
   "cell_type": "code",
   "execution_count": 190,
   "id": "8bf1845f",
   "metadata": {},
   "outputs": [
    {
     "name": "stdout",
     "output_type": "stream",
     "text": [
      "string is : string\n",
      "string to set {'t', 'i', 'g', 'n', 'r', 's'}\n"
     ]
    }
   ],
   "source": [
    "string=\"string\"\n",
    "print('string is :',string)\n",
    "set1=set(string)\n",
    "print(\"string to set\",set1)"
   ]
  },
  {
   "cell_type": "markdown",
   "id": "b53389b3",
   "metadata": {},
   "source": [
    "34. Convert a set of strings to a set of integers."
   ]
  },
  {
   "cell_type": "code",
   "execution_count": 191,
   "id": "57be3538",
   "metadata": {},
   "outputs": [
    {
     "name": "stdout",
     "output_type": "stream",
     "text": [
      "set of string {'456', '123', '789'}\n",
      "set of integer {456, 123, 789}\n"
     ]
    }
   ],
   "source": [
    "string={'123','456','789'}\n",
    "print(\"set of string\",string)\n",
    "inte=set()\n",
    "for i in string:\n",
    "    integer=int(i)\n",
    "    inte.add(integer)\n",
    "print('set of integer',inte)\n"
   ]
  },
  {
   "cell_type": "markdown",
   "id": "128f6cc5",
   "metadata": {},
   "source": [
    "35. Convert a set of integers to a set of strings."
   ]
  },
  {
   "cell_type": "code",
   "execution_count": 192,
   "id": "ebde297a",
   "metadata": {},
   "outputs": [
    {
     "name": "stdout",
     "output_type": "stream",
     "text": [
      "set of integer {456, 123, 789}\n",
      "set of string {'123', '456', '789'}\n"
     ]
    }
   ],
   "source": [
    "integer={456, 123, 789}\n",
    "print(\"set of integer\",integer)\n",
    "string=set()\n",
    "for i in integer:\n",
    "    str1=str(i)\n",
    "    string.add(str1)\n",
    "print('set of string',string)\n",
    "\n"
   ]
  },
  {
   "cell_type": "markdown",
   "id": "12ae3abd",
   "metadata": {},
   "source": [
    "36. Create a set from a tuple."
   ]
  },
  {
   "cell_type": "code",
   "execution_count": 193,
   "id": "38677eff",
   "metadata": {},
   "outputs": [
    {
     "name": "stdout",
     "output_type": "stream",
     "text": [
      "tuples are :  (45, 65, 63, 78, 43)\n",
      "set from a tuple :  {65, 43, 45, 78, 63}\n"
     ]
    }
   ],
   "source": [
    "tup=(45,65,63,78,43)\n",
    "print(\"tuples are : \",tup)\n",
    "print(\"set from a tuple : \",set(tup))"
   ]
  },
  {
   "cell_type": "markdown",
   "id": "d440ea6f",
   "metadata": {},
   "source": [
    "37. Convert a set to a tuple."
   ]
  },
  {
   "cell_type": "code",
   "execution_count": 194,
   "id": "dec1ad00",
   "metadata": {},
   "outputs": [
    {
     "name": "stdout",
     "output_type": "stream",
     "text": [
      "set are :  {65, 43, 45, 78, 63}\n",
      "tuple from a set are (65, 43, 45, 78, 63)\n"
     ]
    }
   ],
   "source": [
    "set1= {65, 43, 45, 78, 63}\n",
    "print(\"set are : \",set1)\n",
    "print(\"tuple from a set are\",tuple(set1))"
   ]
  },
  {
   "cell_type": "markdown",
   "id": "35153763",
   "metadata": {},
   "source": [
    "38. Find the maximum value in a set."
   ]
  },
  {
   "cell_type": "code",
   "execution_count": 195,
   "id": "963377ab",
   "metadata": {},
   "outputs": [
    {
     "name": "stdout",
     "output_type": "stream",
     "text": [
      " maximum value in a set 78\n"
     ]
    }
   ],
   "source": [
    "set1= {65, 43, 45, 78, 63}\n",
    "print(\" maximum value in a set\",max(set1))"
   ]
  },
  {
   "cell_type": "markdown",
   "id": "dbef148d",
   "metadata": {},
   "source": [
    "39. Find the minimum value in a set."
   ]
  },
  {
   "cell_type": "code",
   "execution_count": 196,
   "id": "dd637e60",
   "metadata": {},
   "outputs": [
    {
     "name": "stdout",
     "output_type": "stream",
     "text": [
      " manimum value in a set 43\n"
     ]
    }
   ],
   "source": [
    "set1= {65, 43, 45, 78, 63}\n",
    "print(\" manimum value in a set\",min(set1))"
   ]
  },
  {
   "cell_type": "markdown",
   "id": "854e2ef2",
   "metadata": {},
   "source": [
    "40. Create a set from user input."
   ]
  },
  {
   "cell_type": "code",
   "execution_count": 197,
   "id": "207c6bf1",
   "metadata": {},
   "outputs": [
    {
     "name": "stdout",
     "output_type": "stream",
     "text": [
      "Enter elements separated by spaces: 1 2 3 4 t y\n",
      "The created set is: {'4', 't', '2', 'y', '1', '3'}\n"
     ]
    }
   ],
   "source": [
    "user_input = input(\"Enter elements separated by spaces: \")\n",
    "\n",
    "input_elements = user_input.split()\n",
    "\n",
    "\n",
    "user_set = set(input_elements)\n",
    "\n",
    "print(\"The created set is:\", user_set)"
   ]
  },
  {
   "cell_type": "markdown",
   "id": "db901ff6",
   "metadata": {},
   "source": [
    "41. Check if the intersection of two sets is empty.\n"
   ]
  },
  {
   "cell_type": "code",
   "execution_count": 198,
   "id": "c3ef0f96",
   "metadata": {},
   "outputs": [
    {
     "name": "stdout",
     "output_type": "stream",
     "text": [
      "common element between set1 & set2 : {3, 5}\n"
     ]
    }
   ],
   "source": [
    "set1={2,3,4,5,6}\n",
    "set2={7,3,9,5}\n",
    "intersection = set1.intersection(set2)\n",
    "print(\"common element between set1 & set2 :\", intersection)"
   ]
  },
  {
   "cell_type": "markdown",
   "id": "bda395f9",
   "metadata": {},
   "source": [
    "42. Create a set of the first 5 Fibonacci numbers.\n"
   ]
  },
  {
   "cell_type": "code",
   "execution_count": 199,
   "id": "3f94c659",
   "metadata": {},
   "outputs": [
    {
     "name": "stdout",
     "output_type": "stream",
     "text": [
      " first 5 Fibonacci numbers :  {0, 1, 2, 3, 5}\n"
     ]
    }
   ],
   "source": [
    "def fibonacci_numbers(n):\n",
    "    fibo=set()\n",
    "    a,b=0,1\n",
    "    for i in range(n):\n",
    "        fibo.add(a)\n",
    "        a,b=b,a+b\n",
    "        \n",
    "    return fibo\n",
    "n=6\n",
    "print(' first 5 Fibonacci numbers : ',fibonacci_numbers(n))"
   ]
  },
  {
   "cell_type": "markdown",
   "id": "0e42ad8d",
   "metadata": {},
   "source": [
    "43. Remove duplicates from a list using sets.\n"
   ]
  },
  {
   "cell_type": "code",
   "execution_count": 200,
   "id": "3849716c",
   "metadata": {},
   "outputs": [
    {
     "name": "stdout",
     "output_type": "stream",
     "text": [
      "original list [12, 32, 45, 32, 45, 67]\n",
      "updated list without duplicates item {32, 67, 12, 45}\n"
     ]
    }
   ],
   "source": [
    "set1=[12,32,45,32,45,67]\n",
    "print(\"original list\",set1)\n",
    "print(\"updated list without duplicates item\",set(set1))"
   ]
  },
  {
   "cell_type": "markdown",
   "id": "69f481b5",
   "metadata": {},
   "source": [
    "44. Check if two sets have the same elements, regardless of their count.\n"
   ]
  },
  {
   "cell_type": "code",
   "execution_count": 201,
   "id": "7f3de739",
   "metadata": {},
   "outputs": [
    {
     "name": "stdout",
     "output_type": "stream",
     "text": [
      "True\n",
      "True\n",
      "False\n"
     ]
    }
   ],
   "source": [
    "def same_elements(set1, set2):\n",
    "    return set1.symmetric_difference(set2) == set()\n",
    "set1 = {1, 2, 3, 4}\n",
    "set2 = {2, 3, 4, 1}\n",
    "set3 = {1, 1, 2, 3, 4}  # Note: Duplicate elements in a set are ignored\n",
    "set4 = {1, 2, 3, 5}\n",
    "\n",
    "print(same_elements(set1, set2))  # True\n",
    "print(same_elements(set1, set3))  # True\n",
    "print(same_elements(set1, set4))  # False\n"
   ]
  },
  {
   "cell_type": "markdown",
   "id": "5c9f396a",
   "metadata": {},
   "source": [
    "45. Create a set of the first `n` powers of 2.\n"
   ]
  },
  {
   "cell_type": "code",
   "execution_count": 202,
   "id": "353c185b",
   "metadata": {},
   "outputs": [
    {
     "name": "stdout",
     "output_type": "stream",
     "text": [
      "set of the first 6 powers of 2 {1, 4, 9, 16, 25}\n"
     ]
    }
   ],
   "source": [
    "n=6\n",
    "s1=set()\n",
    "for i in range (1,n):\n",
    "    x=i**2\n",
    "    s1.add(x)\n",
    "\n",
    "\n",
    "print(f\"set of the first {n} powers of 2 {s1}\")\n",
    "    "
   ]
  },
  {
   "cell_type": "markdown",
   "id": "1c3ff774",
   "metadata": {},
   "source": [
    "46. Find the common elements between a set and a list."
   ]
  },
  {
   "cell_type": "code",
   "execution_count": 203,
   "id": "be9f8532",
   "metadata": {},
   "outputs": [
    {
     "name": "stdout",
     "output_type": "stream",
     "text": [
      "list is :  [2, 3, 4, 5, 6]\n",
      "set is :  {9, 3, 5, 7}\n",
      "common elements between a set and a list :  {3, 5}\n"
     ]
    }
   ],
   "source": [
    "lis=[2,3,4,5,6]\n",
    "print(\"list is : \",lis)\n",
    "set1={7,3,9,5}\n",
    "print('set is : ',set1)\n",
    "list_to_set=set(lis)\n",
    "print(\"common elements between a set and a list : \", list_to_set.intersection(set1))"
   ]
  },
  {
   "cell_type": "markdown",
   "id": "230f0d4f",
   "metadata": {},
   "source": [
    "47. Create a set of the first `n` triangular numbers."
   ]
  },
  {
   "cell_type": "code",
   "execution_count": 204,
   "id": "8420dcbe",
   "metadata": {},
   "outputs": [
    {
     "name": "stdout",
     "output_type": "stream",
     "text": [
      "set of the first 10 triangular numbers {0, 1, 3, 36, 6, 10, 45, 15, 21, 28}\n"
     ]
    }
   ],
   "source": [
    "def triangular_numbers(n):\n",
    "    num=set(int(i*(i+1)/2)for i in range(n))\n",
    "    print(f\"set of the first {n} triangular numbers {num}\")\n",
    "n=10\n",
    "triangular_numbers(n)"
   ]
  },
  {
   "cell_type": "markdown",
   "id": "b52a4c12",
   "metadata": {},
   "source": [
    "48. Check if a set contains another set as a subset."
   ]
  },
  {
   "cell_type": "code",
   "execution_count": 205,
   "id": "eda47d63",
   "metadata": {},
   "outputs": [
    {
     "name": "stdout",
     "output_type": "stream",
     "text": [
      "set2 is subset of set1\n"
     ]
    }
   ],
   "source": [
    "set1={2,6,9,5}\n",
    "set2={2,5}\n",
    "subset=set2.issubset(set1)\n",
    "if subset:\n",
    "    print(\"set2 is subset of set1\")\n",
    "else:\n",
    "    print(\"set2 is not a subset of set1\")"
   ]
  },
  {
   "cell_type": "markdown",
   "id": "81c9a34c",
   "metadata": {},
   "source": [
    "49. Create a set of alternating 1s and 0s of length `n`."
   ]
  },
  {
   "cell_type": "code",
   "execution_count": 206,
   "id": "9aefd9ad",
   "metadata": {},
   "outputs": [
    {
     "name": "stdout",
     "output_type": "stream",
     "text": [
      "set of alternating 1s and 0s of length 10 : {0, 1}\n"
     ]
    }
   ],
   "source": [
    "def alternate_set(n):\n",
    "    set1=set()\n",
    "    for i in range(n):\n",
    "        if i%2==0:\n",
    "            set1.add(1)\n",
    "        else:\n",
    "            set1.add(0)\n",
    "    return set1\n",
    "n=10\n",
    "print(f\"set of alternating 1s and 0s of length {n} : {alternate_set(n)}\")"
   ]
  },
  {
   "cell_type": "markdown",
   "id": "0cb47cab",
   "metadata": {},
   "source": [
    "50. Merge multiple sets into one."
   ]
  },
  {
   "cell_type": "code",
   "execution_count": 207,
   "id": "38b2b186",
   "metadata": {},
   "outputs": [
    {
     "name": "stdout",
     "output_type": "stream",
     "text": [
      "multiple merge set is {2, 5, 6, 9, 45, 15, 21, 86, 23, 87}\n"
     ]
    }
   ],
   "source": [
    "set1={2,6,9,5}\n",
    "set2={21,15}\n",
    "set3={23,87,86,45}\n",
    "merge=set1.union(set2,set3)\n",
    "print(\"multiple merge set is\",merge)\n"
   ]
  }
 ],
 "metadata": {
  "kernelspec": {
   "display_name": "Python 3 (ipykernel)",
   "language": "python",
   "name": "python3"
  },
  "language_info": {
   "codemirror_mode": {
    "name": "ipython",
    "version": 3
   },
   "file_extension": ".py",
   "mimetype": "text/x-python",
   "name": "python",
   "nbconvert_exporter": "python",
   "pygments_lexer": "ipython3",
   "version": "3.9.7"
  }
 },
 "nbformat": 4,
 "nbformat_minor": 5
}
