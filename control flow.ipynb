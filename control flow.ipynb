{
 "cells": [
  {
   "cell_type": "markdown",
   "id": "f3f1435d",
   "metadata": {},
   "source": [
    "# Basic If-Else Statements:"
   ]
  },
  {
   "cell_type": "markdown",
   "id": "30cb2dc4",
   "metadata": {},
   "source": [
    "1. Write a Python program to check if a given number is positive or negative."
   ]
  },
  {
   "cell_type": "code",
   "execution_count": 1,
   "id": "2752aa22",
   "metadata": {},
   "outputs": [
    {
     "name": "stdout",
     "output_type": "stream",
     "text": [
      "enter  number :345\n",
      "given number is positive\n"
     ]
    }
   ],
   "source": [
    "n=eval(input ('enter  number :'))\n",
    "if n<0:\n",
    "    print(\"given number is negative\")\n",
    "else:\n",
    "    print(\"given number is positive\")"
   ]
  },
  {
   "cell_type": "markdown",
   "id": "597daeb1",
   "metadata": {},
   "source": [
    "2. Create a program that determines if a person is eligible to vote based on their age."
   ]
  },
  {
   "cell_type": "code",
   "execution_count": 2,
   "id": "bead207d",
   "metadata": {},
   "outputs": [
    {
     "name": "stdout",
     "output_type": "stream",
     "text": [
      "enter your  age : 23\n",
      "you are eligible to vote\n"
     ]
    }
   ],
   "source": [
    "age=eval(input('enter your  age : '))\n",
    "if age>=18:                             #if age is equal to 18 year or above the 18 year is eligible to vote \n",
    "    print(\"you are eligible to vote\")\n",
    "else:\n",
    "     print(\"you are not eligible to vote\")\n",
    "    "
   ]
  },
  {
   "cell_type": "markdown",
   "id": "c0b1906f",
   "metadata": {},
   "source": [
    "3. Develop a program to find the maximum of two numbers using if-else statements."
   ]
  },
  {
   "cell_type": "code",
   "execution_count": 3,
   "id": "8b33a774",
   "metadata": {},
   "outputs": [
    {
     "name": "stdout",
     "output_type": "stream",
     "text": [
      "enter first number : 567\n",
      "enter first number : 765\n",
      "maximum number is : 765\n"
     ]
    }
   ],
   "source": [
    "a=eval(input(\"enter first number : \"))\n",
    "b=eval(input(\"enter first number : \"))\n",
    "if a>b :\n",
    "    print(f\"maximum number is : {a}\" )\n",
    "else:\n",
    "    print(f\"maximum number is : {b}\" )"
   ]
  },
  {
   "cell_type": "markdown",
   "id": "6b2e773b",
   "metadata": {},
   "source": [
    "4. Write a Python script to classify a given year as a leap year or not."
   ]
  },
  {
   "cell_type": "code",
   "execution_count": 4,
   "id": "225a0cbc",
   "metadata": {},
   "outputs": [
    {
     "name": "stdout",
     "output_type": "stream",
     "text": [
      "enter a year : 2023\n",
      "this year is not leap year\n"
     ]
    }
   ],
   "source": [
    "year=int(input(\"enter a year : \"))\n",
    "if year%4==0:\n",
    "    print(\"this year is leap year\")\n",
    "else:\n",
    "    print(\"this year is not leap year\")"
   ]
  },
  {
   "cell_type": "markdown",
   "id": "e3773139",
   "metadata": {},
   "source": [
    "5. Create a program that checks whether a character is a vowel or a consonant."
   ]
  },
  {
   "cell_type": "code",
   "execution_count": 5,
   "id": "16cd298b",
   "metadata": {},
   "outputs": [
    {
     "name": "stdout",
     "output_type": "stream",
     "text": [
      "enter a character : e\n",
      " character is a vowel\n"
     ]
    }
   ],
   "source": [
    "char=input(\"enter a character : \")\n",
    "vowel=\"aeiouAEIOU\"\n",
    "if char.isalpha():\n",
    "    if char in vowel:\n",
    "        print(\" character is a vowel\")\n",
    "    else:\n",
    "        print(\" character is a consonant \")\n",
    "else:\n",
    "    print(\"please give valid entry\")\n",
    "        "
   ]
  },
  {
   "cell_type": "markdown",
   "id": "24900a34",
   "metadata": {},
   "source": [
    "6. Implement a program to determine whether a given number is even or odd."
   ]
  },
  {
   "cell_type": "code",
   "execution_count": 6,
   "id": "6df1e132",
   "metadata": {},
   "outputs": [
    {
     "name": "stdout",
     "output_type": "stream",
     "text": [
      "enter a  number : 563\n",
      "given number is odd number\n"
     ]
    }
   ],
   "source": [
    "n=int(input(\"enter a  number : \"))\n",
    "if n%2==0:\n",
    "    print(\"given number is even number\")\n",
    "else:\n",
    "    print(\"given number is odd number\")"
   ]
  },
  {
   "cell_type": "markdown",
   "id": "911f1176",
   "metadata": {},
   "source": [
    "7. Write a Python function to calculate the absolute value of a number without using the `abs()` function."
   ]
  },
  {
   "cell_type": "code",
   "execution_count": 7,
   "id": "e1812799",
   "metadata": {
    "scrolled": true
   },
   "outputs": [
    {
     "name": "stdout",
     "output_type": "stream",
     "text": [
      "enter a  number : 587.89\n",
      "absolute number is :  587.89\n"
     ]
    }
   ],
   "source": [
    "n=float(input(\"enter a  number : \"))\n",
    "if n<=0:\n",
    "    print(\"absolute number is : \",-(n))\n",
    "else:\n",
    "    print(\"absolute number is : \",(n))"
   ]
  },
  {
   "cell_type": "markdown",
   "id": "54c39b72",
   "metadata": {},
   "source": [
    "8. Develop a program that determines the largest of three given numbers using if-else statements."
   ]
  },
  {
   "cell_type": "code",
   "execution_count": 8,
   "id": "d464ad2d",
   "metadata": {},
   "outputs": [
    {
     "name": "stdout",
     "output_type": "stream",
     "text": [
      "enter first number56\n",
      "enter second number89\n",
      "enter third number43\n",
      "largest numer is 89\n"
     ]
    }
   ],
   "source": [
    "a=eval(input(\"enter first number\"))\n",
    "b=eval(input(\"enter second number\"))\n",
    "c=eval(input(\"enter third number\"))\n",
    "if a >= b and a >= c:\n",
    "    print(\"largest numer is\",a)\n",
    "\n",
    "elif b > a and b>= c:\n",
    "    print(\"largest numer is\",b)\n",
    "else:\n",
    "    print(\"largest numer is\",c)"
   ]
  },
  {
   "cell_type": "markdown",
   "id": "a153e569",
   "metadata": {},
   "source": [
    "9. Create a program that checks if a given string is a palindrome."
   ]
  },
  {
   "cell_type": "code",
   "execution_count": 9,
   "id": "904078e9",
   "metadata": {},
   "outputs": [
    {
     "name": "stdout",
     "output_type": "stream",
     "text": [
      "enter a string : rar\n",
      "given string is pelindrome\n"
     ]
    }
   ],
   "source": [
    "string=str(input(\"enter a string : \"))\n",
    "if string==string[::-1]:\n",
    "    print('given string is pelindrome')\n",
    "else:\n",
    "    print('given string is not a pelindrome')\n",
    "    "
   ]
  },
  {
   "cell_type": "markdown",
   "id": "2bf6ac21",
   "metadata": {},
   "source": [
    "10. Write a Python program to calculate the grade based on a student's score."
   ]
  },
  {
   "cell_type": "code",
   "execution_count": 10,
   "id": "87ef75a1",
   "metadata": {},
   "outputs": [
    {
     "name": "stdout",
     "output_type": "stream",
     "text": [
      "enter the student score : 67\n",
      "grade : B \n"
     ]
    }
   ],
   "source": [
    "score=eval(input(\"enter the student score : \"))\n",
    "if score>100:                           # GRADE SHEET :\n",
    "    print(\"invalid input\")              # 91-100 = A+\n",
    "elif score>90:                          # 81-90 =  A\n",
    "    print(\"grade : A+ \")                # 71-80 =  B+\n",
    "elif score>80:                          # 61-70 =  B\n",
    "    print(\"grade : A \")                 # 51-60 =  C+\n",
    "elif score>70:                          # 41-50 =  C\n",
    "    print(\"grade : B+ \")                # 33-40 =  D\n",
    "elif score>60:                          # less 33 = FAIL\n",
    "    print(\"grade : B \")\n",
    "elif score>50:\n",
    "    print(\"grade : C+ \")\n",
    "elif score>40:\n",
    "    print(\"grade : C \")\n",
    "elif score>=33:\n",
    "    print(\"grade : D \")\n",
    "else:\n",
    "    print(\"grade : FAIL\")"
   ]
  },
  {
   "cell_type": "markdown",
   "id": "e83c694f",
   "metadata": {},
   "source": [
    "11. Write a program to find the largest among three numbers using nested if-else statements."
   ]
  },
  {
   "cell_type": "code",
   "execution_count": 11,
   "id": "a0ab74c4",
   "metadata": {},
   "outputs": [
    {
     "name": "stdout",
     "output_type": "stream",
     "text": [
      "enter a  num1 : 67\n",
      "enter a  num2 : 87\n",
      "enter a  num3 : 98\n",
      "larget number is :  98\n"
     ]
    }
   ],
   "source": [
    "num1=eval(input(\"enter a  num1 : \"))\n",
    "num2=eval(input(\"enter a  num2 : \"))\n",
    "num3=eval(input(\"enter a  num3 : \"))\n",
    "if num1 >= num2:\n",
    "    if num1 >= num3:\n",
    "        print (\"larget number is : \",num1)\n",
    "    else:\n",
    "        print (\"larget number is : \",num3)\n",
    "else:\n",
    "    if num2 >= num3:\n",
    "        print(\"larget number is : \", num2)\n",
    "    else:\n",
    "        print( \"larget number is : \",num3)"
   ]
  },
  {
   "cell_type": "markdown",
   "id": "443404fc",
   "metadata": {},
   "source": [
    "12. Implement a program to determine if a triangle is equilateral, isosceles, or scalene."
   ]
  },
  {
   "cell_type": "code",
   "execution_count": 12,
   "id": "e6fd4bea",
   "metadata": {},
   "outputs": [
    {
     "name": "stdout",
     "output_type": "stream",
     "text": [
      "enter the side1 of triangle : 5\n",
      "enter the side2 of triangle : 8\n",
      "enter the side3 of triangle : 9\n",
      "triangle is : scalene triangle\n"
     ]
    }
   ],
   "source": [
    "p=float(input(\"enter the side1 of triangle : \" ))\n",
    "b=float(input(\"enter the side2 of triangle : \"))\n",
    "h= float(input(\"enter the side3 of triangle : \"))\n",
    "if p==b==h:\n",
    "    print( \"triangle is : equilateral triangle\")\n",
    "elif p==h or p==h or b==h:\n",
    "    print(\"triangle is : isosceles triangle\")\n",
    "else:\n",
    "    print(\"triangle is : scalene triangle\")"
   ]
  },
  {
   "cell_type": "markdown",
   "id": "76e85dfb",
   "metadata": {},
   "source": [
    "13. Develop a program that checks if a year is a leap year and also if it is a century year."
   ]
  },
  {
   "cell_type": "code",
   "execution_count": 13,
   "id": "7e549e14",
   "metadata": {},
   "outputs": [
    {
     "name": "stdout",
     "output_type": "stream",
     "text": [
      " enter a year : 2000\n",
      " given year is a leap year and also  it is a century year.\n"
     ]
    }
   ],
   "source": [
    "year=int(input(\" enter a year : \"))\n",
    "if year%4==0 and year%100==0:\n",
    "    print(\" given year is a leap year and also  it is a century year.\")\n",
    "\n",
    "elif year%4==0:\n",
    "     print(\" given year is a leap year\")\n",
    "elif year%100==0:\n",
    "     print(\" given year is a century year\")\n",
    "else:\n",
    "     print(\" given year is not a leap year and also  it is not a century year.\")\n",
    "    \n",
    "    "
   ]
  },
  {
   "cell_type": "markdown",
   "id": "9495c747",
   "metadata": {},
   "source": [
    "14. Write a Python script to determine if a number is positive, negative, or zero."
   ]
  },
  {
   "cell_type": "code",
   "execution_count": 14,
   "id": "16ca04e1",
   "metadata": {},
   "outputs": [
    {
     "name": "stdout",
     "output_type": "stream",
     "text": [
      "enter a number : 67.54\n",
      " number is positive\n"
     ]
    }
   ],
   "source": [
    "num=float(input('enter a number : '))\n",
    "if num>0:\n",
    "    print(' number is positive')\n",
    "if num < 0:\n",
    "    print(\"number is negative\")\n",
    "if num==0:\n",
    "    print(\"Zero\")"
   ]
  },
  {
   "cell_type": "markdown",
   "id": "927df817",
   "metadata": {},
   "source": [
    "15. Create a program to check if a person is a teenager (between 13 and 19 years old)."
   ]
  },
  {
   "cell_type": "code",
   "execution_count": 15,
   "id": "5f38fc6b",
   "metadata": {},
   "outputs": [
    {
     "name": "stdout",
     "output_type": "stream",
     "text": [
      "enter your age : 16\n",
      "person is a teenager\n"
     ]
    }
   ],
   "source": [
    "age=float(input('enter your age : '))\n",
    "if age>=13 and age<=19:\n",
    "    print(\"person is a teenager\")\n",
    "else:\n",
    "    print('person is not teenager')"
   ]
  },
  {
   "cell_type": "markdown",
   "id": "45636fc3",
   "metadata": {},
   "source": [
    "16. Develop a program that determines the type of angle based on its measure (acute, obtuse, or right)."
   ]
  },
  {
   "cell_type": "code",
   "execution_count": 16,
   "id": "71b938f6",
   "metadata": {},
   "outputs": [
    {
     "name": "stdout",
     "output_type": "stream",
     "text": [
      "enter angle : 124\n",
      "Obtuse Angle\n"
     ]
    }
   ],
   "source": [
    "angle=float(input('enter angle : '))\n",
    "if angle<90:\n",
    "    print('Acute angle')                         # Acute angle [0,90]\n",
    "elif angle==90:                                  # right angle [90]\n",
    "    print('Right angle')                         # obtuse angle [90,180]\n",
    "elif angle > 90 and angle < 180:                 #reflex angle  [>180]      \n",
    "        print(\"Obtuse Angle\")\n",
    "else:\n",
    "    print(\"reflex angle\")"
   ]
  },
  {
   "cell_type": "markdown",
   "id": "2fbdf2c8",
   "metadata": {},
   "source": [
    "17. Write a Python program to calculate the roots of a quadratic equation."
   ]
  },
  {
   "cell_type": "code",
   "execution_count": 17,
   "id": "9b311309",
   "metadata": {},
   "outputs": [
    {
     "name": "stdout",
     "output_type": "stream",
     "text": [
      "Enter the coefficient of x^2 (a): 1\n",
      "Enter the coefficient of x (b): -5\n",
      "Enter the constant term (c): -14\n",
      "Root 1: 7.0\n",
      "Root 2: -2.0\n"
     ]
    }
   ],
   "source": [
    "import math\n",
    "def roots_calculator(a,b,c):\n",
    "    D=((b**2)-(4*a*c))\n",
    "    if D>0:                            #D= determinant\n",
    "        root1=(-b+(math.sqrt(D)))/(2*a)\n",
    "        root2=(-b-(math.sqrt(D)))/(2*a)\n",
    "        return root1,root2\n",
    "    elif D == 0:\n",
    "        root1 = root2 = -b / (2 * a)\n",
    "        return root1, root2\n",
    "    else:\n",
    "        # Two complex roots\n",
    "        real_part = -b / (2 * a)\n",
    "        imaginary_part = math.sqrt(abs(D)) / (2 * a)\n",
    "        root1 = complex(real_part, imaginary_part)\n",
    "        root2 = complex(real_part, -imaginary_part)\n",
    "        return root1, root2\n",
    "a = float(input(\"Enter the coefficient of x^2 (a): \"))\n",
    "b = float(input(\"Enter the coefficient of x (b): \"))\n",
    "c = float(input(\"Enter the constant term (c): \"))\n",
    "\n",
    "root1, root2 = roots_calculator(a, b, c)\n",
    "\n",
    "print(\"Root 1:\", root1)\n",
    "print(\"Root 2:\", root2)\n"
   ]
  },
  {
   "cell_type": "markdown",
   "id": "d5a16f35",
   "metadata": {},
   "source": [
    "18. Implement a program to determine the day of the week based on a user-provided number (1 for Monday, 2 \n",
    "for Tuesday, etc.)."
   ]
  },
  {
   "cell_type": "code",
   "execution_count": 18,
   "id": "a496d828",
   "metadata": {},
   "outputs": [
    {
     "name": "stdout",
     "output_type": "stream",
     "text": [
      "enter of the day number : 6\n",
      "Saturday\n"
     ]
    }
   ],
   "source": [
    "day=int(input(\"enter of the day number : \"))\n",
    "if day>0 and day<=7:\n",
    "    if day==1:\n",
    "        print('Monday')\n",
    "    elif day==2:\n",
    "        print('Tuesday')\n",
    "    elif day==3:\n",
    "        print('Wednesday')\n",
    "    elif day==4:\n",
    "        print('Thrusday')\n",
    "    elif day==5:\n",
    "        print('Friday')\n",
    "    elif day==6:\n",
    "        print('Saturday')\n",
    "    else:\n",
    "        print('Sunday')\n",
    "else:\n",
    "    print('Invalid Entry, Please enter a number between 1 and 7.')"
   ]
  },
  {
   "cell_type": "markdown",
   "id": "68aed173",
   "metadata": {},
   "source": [
    "19. Create a program that determines if a year is a leap year and also if it is evenly divisible by 400.\n",
    "\n"
   ]
  },
  {
   "cell_type": "code",
   "execution_count": 19,
   "id": "ccc21b56",
   "metadata": {},
   "outputs": [
    {
     "name": "stdout",
     "output_type": "stream",
     "text": [
      " enter a year : 2036\n",
      " given year is a leap year \n"
     ]
    }
   ],
   "source": [
    "year=int(input(\" enter a year : \"))\n",
    "if year%4==0  or year%400==0:\n",
    "    print(\" given year is a leap year \")\n",
    "else:\n",
    "     print(\" given year is not a leap year\")\n",
    "    \n",
    "    "
   ]
  },
  {
   "cell_type": "markdown",
   "id": "4c8c66c1",
   "metadata": {},
   "source": [
    "20. Develop a program that checks if a given number is prime or not using nested if-else statements."
   ]
  },
  {
   "cell_type": "code",
   "execution_count": 20,
   "id": "f695e6ba",
   "metadata": {},
   "outputs": [
    {
     "name": "stdout",
     "output_type": "stream",
     "text": [
      "enter a number67\n",
      "given number is a prime number \n"
     ]
    }
   ],
   "source": [
    "def prime(num):\n",
    "    if num>1:\n",
    "        for i in range(2,num):\n",
    "            if num%i==0:\n",
    "                print(\"given number is not a prime number \")\n",
    "                break\n",
    "        else:\n",
    "            print(\"given number is a prime number \")\n",
    "    else:\n",
    "        print(\"given number is not a prime number \")\n",
    "num=int(input(\"enter a number\"))\n",
    "prime(num)\n",
    "        "
   ]
  },
  {
   "cell_type": "markdown",
   "id": "21d141f4",
   "metadata": {},
   "source": [
    "21. Write a Python program to assign grades based on different ranges of scores using elif statements."
   ]
  },
  {
   "cell_type": "code",
   "execution_count": 21,
   "id": "e7896e74",
   "metadata": {},
   "outputs": [
    {
     "name": "stdout",
     "output_type": "stream",
     "text": [
      "Enter the score: 45\n",
      "The grade for the score 45.0 is F\n"
     ]
    }
   ],
   "source": [
    "def assign_grade(score):\n",
    "    if score >= 90:\n",
    "        grade = 'A'\n",
    "    elif score >= 80:\n",
    "        grade = 'B'\n",
    "    elif score >= 70:\n",
    "        grade = 'C'\n",
    "    elif score >= 60:\n",
    "        grade = 'D'\n",
    "    else:\n",
    "        grade = 'F'\n",
    "    return grade\n",
    "\n",
    "# Test the function\n",
    "score = float(input(\"Enter the score: \"))\n",
    "grade = assign_grade(score)\n",
    "print(\"The grade for the score\", score, \"is\", grade)"
   ]
  },
  {
   "cell_type": "markdown",
   "id": "1c94a24e",
   "metadata": {},
   "source": [
    "22. Implement a program to determine the type of a triangle based on its angles."
   ]
  },
  {
   "cell_type": "code",
   "execution_count": 22,
   "id": "c78980b2",
   "metadata": {},
   "outputs": [
    {
     "name": "stdout",
     "output_type": "stream",
     "text": [
      "Enter the first angle: 45\n",
      "Enter the second angle: 45\n",
      "Enter the third angle: 90\n",
      "isoceles traingle\n"
     ]
    }
   ],
   "source": [
    "def traingle_types(angle1,angle2,angle3):\n",
    "    if angle1+angle2+angle3 ==180:\n",
    "        if angle1==angle2==angle3:\n",
    "            print('equiletral traingle')\n",
    "        elif angle1==angle2 or angle1==angle3 or angle2==angle3:\n",
    "            print('isoceles traingle')\n",
    "        else:\n",
    "            print('scalen traingle')\n",
    "    else:\n",
    "        return 'invalid entry ,please give addition of three angle is 180  '\n",
    "angle1 = int(input(\"Enter the first angle: \"))\n",
    "angle2 = int(input(\"Enter the second angle: \"))\n",
    "angle3 = int(input(\"Enter the third angle: \"))\n",
    "traingle_types(angle1,angle2,angle3)"
   ]
  },
  {
   "cell_type": "markdown",
   "id": "01ec5ea6",
   "metadata": {},
   "source": [
    "23. Develop a program to categorize a given person's BMI into underweight, normal, overweight, or obese using elif statements."
   ]
  },
  {
   "cell_type": "code",
   "execution_count": 23,
   "id": "7430c1b7",
   "metadata": {},
   "outputs": [
    {
     "name": "stdout",
     "output_type": "stream",
     "text": [
      "Enter your weight in kilograms: 68\n",
      "Enter your height in meters: 1.57\n",
      "Your BMI is: 27.587326057852245\n",
      "You are categorized as: Overweight\n"
     ]
    }
   ],
   "source": [
    "def bmi(height,weight):\n",
    "    return weight/(height**2)\n",
    "\n",
    "\n",
    "def categorize_bmi(bmi):\n",
    "    if bmi < 18.5:\n",
    "        return \"Underweight\"\n",
    "    elif 18.5 <= bmi < 25:\n",
    "        return \"Normal weight\"\n",
    "    elif 25 <= bmi < 30:\n",
    "        return \"Overweight\"\n",
    "    else:\n",
    "        return \"Obese\"\n",
    "\n",
    "# Test the program\n",
    "weight = float(input(\"Enter your weight in kilograms: \"))\n",
    "height = float(input(\"Enter your height in meters: \"))\n",
    "bmi=bmi(height,weight)\n",
    "print(\"Your BMI is:\", bmi)\n",
    "\n",
    "category = categorize_bmi(bmi)\n",
    "\n",
    "\n",
    "print(\"You are categorized as:\", category)\n"
   ]
  },
  {
   "cell_type": "markdown",
   "id": "96128284",
   "metadata": {},
   "source": [
    "24. Create a program that determines whether a given number is positive, negative, or zero using elif statements."
   ]
  },
  {
   "cell_type": "code",
   "execution_count": 24,
   "id": "cd967c12",
   "metadata": {},
   "outputs": [
    {
     "name": "stdout",
     "output_type": "stream",
     "text": [
      "enter a number : 78\n",
      "positive number \n"
     ]
    }
   ],
   "source": [
    "num=float(input('enter a number : '))\n",
    "if num>0:\n",
    "    print('positive number ')\n",
    "elif num<0 :\n",
    "    print('negative number')\n",
    "else:\n",
    "    print('Zero')"
   ]
  },
  {
   "cell_type": "markdown",
   "id": "add2e866",
   "metadata": {},
   "source": [
    "25. Write a Python script to determine the type of a character (uppercase, lowercase, or special) using elif statements."
   ]
  },
  {
   "cell_type": "code",
   "execution_count": 25,
   "id": "c07ae27d",
   "metadata": {},
   "outputs": [
    {
     "name": "stdout",
     "output_type": "stream",
     "text": [
      "Enter a character: INDIA\n",
      "The character 'INDIA' is of type: Uppercase\n"
     ]
    }
   ],
   "source": [
    "def char_type(char):\n",
    "    if char.isupper():\n",
    "        return \"Uppercase\"\n",
    "    elif char.islower():\n",
    "        return \"Lowercase\"\n",
    "    else:\n",
    "        return \"Special character\"\n",
    "\n",
    "character = input(\"Enter a character: \")\n",
    "\n",
    "character_type = char_type(character)\n",
    "\n",
    "print(\"The character '{}' is of type: {}\".format(character, character_type))\n"
   ]
  },
  {
   "cell_type": "markdown",
   "id": "d3492113",
   "metadata": {},
   "source": [
    "26. Implement a program to calculate the discounted price based on different purchase amounts using elif statements."
   ]
  },
  {
   "cell_type": "code",
   "execution_count": 26,
   "id": "ea39d165",
   "metadata": {},
   "outputs": [
    {
     "name": "stdout",
     "output_type": "stream",
     "text": [
      "Enter the purchase amount: rs850\n",
      "Discounted price:rs807.5\n"
     ]
    }
   ],
   "source": [
    "def discounted_price(amount):\n",
    "    if amount>=1000:\n",
    "        discount_rate=0.1\n",
    "    elif amount>=500:\n",
    "        discount_rate=0.05\n",
    "    elif amount>=250:\n",
    "        discount_rate=0.03\n",
    "    else:\n",
    "        discount_rate=0\n",
    "    discount=amount*discount_rate\n",
    "    discount_price=amount-discount\n",
    "    return discount_price\n",
    "\n",
    "purchase_amount = float(input(\"Enter the purchase amount: rs\"))\n",
    "\n",
    "discount_price = discounted_price(purchase_amount)\n",
    "\n",
    "print(f\"Discounted price:rs{discount_price}\",)\n",
    "\n",
    "    "
   ]
  },
  {
   "cell_type": "markdown",
   "id": "7fe46953",
   "metadata": {},
   "source": [
    "27. Develop a program to calculate the electricity bill based on different consumption slabs using elif statements."
   ]
  },
  {
   "cell_type": "code",
   "execution_count": 27,
   "id": "9a8d1ecb",
   "metadata": {},
   "outputs": [
    {
     "name": "stdout",
     "output_type": "stream",
     "text": [
      "enter the unit consumed: 400\n",
      "Electricity bill 1150.0\n"
     ]
    }
   ],
   "source": [
    "def calculate_electric_bill(unit):\n",
    "    if unit<=50:\n",
    "        bill=unit*1\n",
    "    elif unit<=150:\n",
    "        bill=50*1+(unit-50)*2\n",
    "    elif unit<=250:\n",
    "        bill=50*1+100*2+(unit-150)*3\n",
    "    else:\n",
    "        bill=50*1+100*2+100*3+(unit-250)*4\n",
    "    return bill\n",
    "unit=float(input(\"enter the unit consumed: \"))\n",
    "Bill=calculate_electric_bill(unit)\n",
    "print('Electricity bill',Bill)"
   ]
  },
  {
   "cell_type": "markdown",
   "id": "029745f4",
   "metadata": {},
   "source": [
    "28. Create a program to determine the type of quadrilateral based on its angles and sides using elif statements."
   ]
  },
  {
   "cell_type": "code",
   "execution_count": 28,
   "id": "3528e79b",
   "metadata": {
    "scrolled": true
   },
   "outputs": [
    {
     "name": "stdout",
     "output_type": "stream",
     "text": [
      "Enter the four angles separated by spaces: 60 45 30 45\n",
      "Enter the four sides separated by spaces: 3 5 7 9\n",
      "The quadrilateral is a: Quadrilateral\n"
     ]
    }
   ],
   "source": [
    "def determine_quadrilateral_type(angles, sides):\n",
    "    no_angles = len(angles)# number of angles\n",
    "    no_sides = len(sides) #numbers of lenght\n",
    "\n",
    "    if no_angles == 4 and no_sides == 4:\n",
    "        if  angles == 90:\n",
    "            if sides.count(sides[0]) == 4:\n",
    "                return \"Square\"\n",
    "            elif sides[0] == sides[2] and sides[1] == sides[3]:\n",
    "                return \"Rectangle\"\n",
    "            else:\n",
    "                return \"Quadrilateral\"\n",
    "        elif angles.count(180) == 1:\n",
    "            return \"Trapezoid\"\n",
    "        elif angles.count(90) == 2:\n",
    "            return \"Rhombus\"\n",
    "        else:\n",
    "            return \"Quadrilateral\"\n",
    "    else:\n",
    "        return \"Invalid input for a quadrilateral\"\n",
    "\n",
    "# Test the program\n",
    "angles = [int(angle) for angle in input(\"Enter the four angles separated by spaces: \").split()]\n",
    "sides = [int(side) for side in input(\"Enter the four sides separated by spaces: \").split()]\n",
    "\n",
    "quadrilateral_type = determine_quadrilateral_type(angles, sides)\n",
    "\n",
    "print(\"The quadrilateral is a:\", quadrilateral_type)\n"
   ]
  },
  {
   "cell_type": "markdown",
   "id": "d3960c74",
   "metadata": {},
   "source": [
    " 29. Write a Python script to determine the season based on a user-provided month using elif statements."
   ]
  },
  {
   "cell_type": "code",
   "execution_count": 29,
   "id": "aa9db45f",
   "metadata": {},
   "outputs": [
    {
     "name": "stdout",
     "output_type": "stream",
     "text": [
      "Enter the month (as a number): 3\n",
      "The season for the provided month is: Spring\n"
     ]
    }
   ],
   "source": [
    "def determine_season(month):\n",
    "    if month in (12, 1, 2):\n",
    "        season = \"Winter\"\n",
    "    elif month in (3, 4, 5):\n",
    "        season = \"Spring\"\n",
    "    elif month in (6, 7, 8):\n",
    "        season = \"Summer\"\n",
    "    elif month in (9, 10, 11):\n",
    "        season = \"Fall\"\n",
    "    else:\n",
    "        season = \"Invalid month\"\n",
    "\n",
    "    return season\n",
    "\n",
    "# Test the program\n",
    "month = int(input(\"Enter the month (as a number): \"))\n",
    "\n",
    "result = determine_season(month)\n",
    "print(\"The season for the provided month is:\", result)\n"
   ]
  },
  {
   "cell_type": "markdown",
   "id": "65994b9f",
   "metadata": {},
   "source": [
    "30. Implement a program to determine the type of a year (leap or common) and month (30 or 31 days) using elif statements."
   ]
  },
  {
   "cell_type": "code",
   "execution_count": 30,
   "id": "388d9f82",
   "metadata": {},
   "outputs": [
    {
     "name": "stdout",
     "output_type": "stream",
     "text": [
      "Enter the year: 2024\n",
      "Enter the month (as a number): 2\n",
      "The year is: Leap year\n",
      "The month has: 29 days\n"
     ]
    }
   ],
   "source": [
    "def determine_year_type(year):\n",
    "    if (year % 4 == 0 and year % 100 != 0) or (year % 400 == 0):\n",
    "        return \"Leap year\"\n",
    "    else:\n",
    "        return \"Common year\"\n",
    "\n",
    "def determine_month_days(year,month):\n",
    "    if (year % 4 == 0 and year % 100 != 0) or (year % 400 == 0):\n",
    "        if month==2:\n",
    "            return '29'\n",
    "    else:\n",
    "        if month in (1, 3, 5, 7, 8, 10, 12):\n",
    "            return 31\n",
    "        elif month in (4, 6, 9, 11):\n",
    "            return 30\n",
    "        elif month == 2:\n",
    "            return \"28\"  # February can have 28 days for common year and 29 for leap year\n",
    "        else:\n",
    "            return \"Invalid month\"\n",
    "\n",
    "# Test the program\n",
    "year = int(input(\"Enter the year: \"))\n",
    "month = int(input(\"Enter the month (as a number): \"))\n",
    "\n",
    "year_type = determine_year_type(year)\n",
    "month_days = determine_month_days(year,month)\n",
    "\n",
    "print(\"The year is:\", year_type)\n",
    "print(\"The month has:\", month_days, \"days\")\n"
   ]
  },
  {
   "cell_type": "markdown",
   "id": "4e50797e",
   "metadata": {},
   "source": [
    "#  Basic Level"
   ]
  },
  {
   "cell_type": "markdown",
   "id": "9c3a14e7",
   "metadata": {},
   "source": [
    "1. Write a Python program that checks if a given number is positive, negative, or zero."
   ]
  },
  {
   "cell_type": "code",
   "execution_count": 31,
   "id": "ee50a45b",
   "metadata": {},
   "outputs": [
    {
     "name": "stdout",
     "output_type": "stream",
     "text": [
      "enter a number: 67\n",
      "Positive\n"
     ]
    }
   ],
   "source": [
    "num=float(input('enter a number: '))\n",
    "if num==0:\n",
    "    print('Zero')\n",
    "elif num>0:\n",
    "    print('Positive')\n",
    "else:\n",
    "    print('negative')"
   ]
  },
  {
   "cell_type": "markdown",
   "id": "b8ffa375",
   "metadata": {},
   "source": [
    "2. Create a program to determine if a person is eligible to vote based on their age."
   ]
  },
  {
   "cell_type": "code",
   "execution_count": 32,
   "id": "1f4b8735",
   "metadata": {},
   "outputs": [
    {
     "name": "stdout",
     "output_type": "stream",
     "text": [
      "enter your age : 20\n",
      "person are eligibible for vote\n"
     ]
    }
   ],
   "source": [
    "age=int(input('enter your age : '))\n",
    "if age>=18:\n",
    "    print('person are eligibible for vote')\n",
    "else:\n",
    "    print('person are not eligible for vote')"
   ]
  },
  {
   "cell_type": "markdown",
   "id": "694fc65f",
   "metadata": {},
   "source": [
    "3. Write a program to find the maximum of two given numbers using conditional statements."
   ]
  },
  {
   "cell_type": "code",
   "execution_count": 33,
   "id": "09e9e1a3",
   "metadata": {},
   "outputs": [
    {
     "name": "stdout",
     "output_type": "stream",
     "text": [
      "enter first number: 76\n",
      "enter second number: 45\n",
      "greater number is  76.0\n"
     ]
    }
   ],
   "source": [
    "num1=float(input('enter first number: '))\n",
    "num2=float(input('enter second number: '))\n",
    "if num1>num2:\n",
    "    print(\"greater number is \",num1)\n",
    "else:\n",
    "    print('greter number is ',num2)"
   ]
  },
  {
   "cell_type": "markdown",
   "id": "82852a52",
   "metadata": {},
   "source": [
    "4. Develop a program that calculates the grade of a student based on their exam score."
   ]
  },
  {
   "cell_type": "code",
   "execution_count": 34,
   "id": "8ebd0cd0",
   "metadata": {},
   "outputs": [
    {
     "name": "stdout",
     "output_type": "stream",
     "text": [
      "enter your exam score89\n",
      "grade: A\n"
     ]
    }
   ],
   "source": [
    "score=float(input(\"enter your exam score\"))\n",
    "if score>90 and score<=100:\n",
    "    print(\"grade :A+\")\n",
    "elif score>80:\n",
    "    print(\"grade: A\")\n",
    "elif score>70:\n",
    "    print('grade: B')\n",
    "elif score>60:\n",
    "    print(\"grade :B+\")\n",
    "elif score>50:\n",
    "    print(\"grade: C\")\n",
    "elif score>40:\n",
    "    print('grade: D')\n",
    "elif score>33:\n",
    "    print('grade:E')\n",
    "elif score>=0 :\n",
    "    print(\"grade:F\")\n",
    "else:\n",
    "    print('please give valid input')"
   ]
  },
  {
   "cell_type": "markdown",
   "id": "ec31dbf2",
   "metadata": {},
   "source": [
    "5. Create a program that checks if a year is a leap year or not."
   ]
  },
  {
   "cell_type": "code",
   "execution_count": 35,
   "id": "0ab8951f",
   "metadata": {},
   "outputs": [
    {
     "name": "stdout",
     "output_type": "stream",
     "text": [
      "enter year: 2023\n",
      "given umber is not a leap year\n"
     ]
    }
   ],
   "source": [
    "year=float(input('enter year: '))\n",
    "if year%4==0 and year%100:\n",
    "    print('given year is leap year')\n",
    "else:\n",
    "    print('given umber is not a leap year')"
   ]
  },
  {
   "cell_type": "markdown",
   "id": "ba3c8b44",
   "metadata": {},
   "source": [
    "6. Write a program to classify a triangle based on its sides' lengths."
   ]
  },
  {
   "cell_type": "code",
   "execution_count": 36,
   "id": "61066a51",
   "metadata": {},
   "outputs": [
    {
     "name": "stdout",
     "output_type": "stream",
     "text": [
      "enter the tree sides of traingle with seprated by comma : 45,45,45\n",
      "Equiletral Traingle\n"
     ]
    }
   ],
   "source": [
    "sides=[int(side) for side in input('enter the tree sides of traingle with seprated by comma : ').split(',')]\n",
    "if len(sides)==3:\n",
    "    if sides[0]==sides[1]==sides[2]:\n",
    "        print(\"Equiletral Traingle\")\n",
    "    elif sides[0]==sides[1] or sides[0]==sides[2] or sides[2]==sides[1] :\n",
    "        print('Isoceles Traigle')\n",
    "    else:\n",
    "        print('Scalen Traingle')\n",
    "else:\n",
    "    print(\"please provide valid input\")"
   ]
  },
  {
   "cell_type": "markdown",
   "id": "53bca316",
   "metadata": {},
   "source": [
    "7. Build a program that determines the largest of three given numbers."
   ]
  },
  {
   "cell_type": "code",
   "execution_count": 37,
   "id": "d71d732e",
   "metadata": {},
   "outputs": [
    {
     "name": "stdout",
     "output_type": "stream",
     "text": [
      "enter the tree number with seprated by comma : 67,90,78\n",
      "largest number is:  90\n"
     ]
    }
   ],
   "source": [
    "num=[int(num) for num in input('enter the tree number with seprated by comma : ').split(',')]\n",
    "if len(num)==3:\n",
    "    if num[0]>num[1] and num[0]>num[2]:\n",
    "        print('largest number is: ',num[0])\n",
    "    if num[1]>num[0] and num[1]>num[2]:\n",
    "        print('largest number is: ',num[1])\n",
    "    if num[2]>num[0] and num[1]>num[1]:\n",
    "        print('largest number is: ',num[2])\n",
    "else:\n",
    "    print(\"please give valid input\")"
   ]
  },
  {
   "cell_type": "markdown",
   "id": "8a3f5168",
   "metadata": {},
   "source": [
    "8. Develop a program that checks whether a character is a vowel or a consonant."
   ]
  },
  {
   "cell_type": "code",
   "execution_count": 38,
   "id": "50dc7a0a",
   "metadata": {},
   "outputs": [
    {
     "name": "stdout",
     "output_type": "stream",
     "text": [
      "enter character: a\n",
      "given character is vowel \n"
     ]
    }
   ],
   "source": [
    "character=str(input('enter character: '))\n",
    "vowel=\"aeiouAEIOU\"\n",
    "if character.isalpha() and len(character) == 1:\n",
    "    if character in vowel:\n",
    "        print(\"given character is vowel \")\n",
    "    else:\n",
    "        print(\"given character is consonant\")\n",
    "else:\n",
    "    print('please give valid input ')"
   ]
  },
  {
   "cell_type": "markdown",
   "id": "4e72e143",
   "metadata": {},
   "source": [
    "9. Create a program to calculate the total cost of a shopping cart based on discounts."
   ]
  },
  {
   "cell_type": "code",
   "execution_count": 39,
   "id": "ca807874",
   "metadata": {},
   "outputs": [
    {
     "name": "stdout",
     "output_type": "stream",
     "text": [
      "Total cost of the shopping cart after discounts: 316.5\n"
     ]
    }
   ],
   "source": [
    "def total_cost_calculator(cart,discount):\n",
    "    total_cost=0\n",
    "    for item,price in cart.items():\n",
    "        if item in discount:\n",
    "            total_cost+=price-(price*discount[item])\n",
    "        else:\n",
    "            total_cost+= price\n",
    "    return total_cost\n",
    "\n",
    "cart = {\n",
    "    \"apple\": 100,\n",
    "    \"banana\": 80,\n",
    "    \"orange\": 90,\n",
    "    \"grapes\": 70}\n",
    "discount = {\n",
    "    \"apple\": 0.1,   # 10% discount on apples\n",
    "    \"orange\": 0.15}  # 15% discount on oranges\n",
    "total_cost=total_cost_calculator(cart,discount)\n",
    "print(\"Total cost of the shopping cart after discounts:\", total_cost)"
   ]
  },
  {
   "cell_type": "markdown",
   "id": "f6cbc822",
   "metadata": {},
   "source": [
    "10. Write a program that checks if a given number is even or odd."
   ]
  },
  {
   "cell_type": "code",
   "execution_count": 40,
   "id": "6ef118d0",
   "metadata": {},
   "outputs": [
    {
     "name": "stdout",
     "output_type": "stream",
     "text": [
      "enter a number: 9\n",
      "given number is odd\n"
     ]
    }
   ],
   "source": [
    "num=int(input(\"enter a number: \"))\n",
    "if num%2==0:\n",
    "    print(\"given number is even\")\n",
    "else:\n",
    "    print('given number is odd')"
   ]
  },
  {
   "cell_type": "markdown",
   "id": "e98cb48a",
   "metadata": {},
   "source": [
    "#  Intermediate Level:"
   ]
  },
  {
   "cell_type": "markdown",
   "id": "ef36f0dd",
   "metadata": {},
   "source": [
    "11. Write a program that calculates the roots of a quadratic equation ."
   ]
  },
  {
   "cell_type": "code",
   "execution_count": 41,
   "id": "40b5fc31",
   "metadata": {},
   "outputs": [
    {
     "name": "stdout",
     "output_type": "stream",
     "text": [
      "complex roots are:  ((-1.5-4.6583123951777j), (-1.5+4.6583123951777j))\n",
      "roots are:  (7.0, -2.0)\n"
     ]
    }
   ],
   "source": [
    "import math\n",
    "def root_calculator(a,b,c):\n",
    "    D=(b**2)-(4*a*c)\n",
    "    if D>0:\n",
    "        roots1=(-b+(D**0.5))/(2*a)\n",
    "        roots2=(-b-((D**0.5)))/(2*a)\n",
    "    elif D==0:\n",
    "        roots1=roots2=-b/(2*a)\n",
    "    else:\n",
    "        #in case of complex number\n",
    "        real=-b/(2*a)\n",
    "        imaginary=-b-((abs(D))**0.5)/(2*a)\n",
    "        roots1=complex(real,imaginary)\n",
    "        roots2=complex(real,-imaginary)\n",
    "    return roots1,roots2\n",
    "# test for complex number\n",
    "a,b,c=1,3,5\n",
    "root=root_calculator(a,b,c)\n",
    "print('complex roots are: ',root)\n",
    "\n",
    "#test case  \n",
    "d,e,f=1,-5,-14\n",
    "root=root_calculator(d,e,f)\n",
    "print('roots are: ',root)"
   ]
  },
  {
   "cell_type": "markdown",
   "id": "f1880b73",
   "metadata": {},
   "source": [
    "12. Create a program that determines the day of the week based on the day number (1-7)."
   ]
  },
  {
   "cell_type": "code",
   "execution_count": 42,
   "id": "e852c2c3",
   "metadata": {},
   "outputs": [
    {
     "name": "stdout",
     "output_type": "stream",
     "text": [
      "enter a day number: 4\n",
      "thrusday\n"
     ]
    }
   ],
   "source": [
    "day=int(input('enter a day number: '))\n",
    "if day>0 and day<=7:\n",
    "    if day==1:\n",
    "        print('monday')\n",
    "    elif day==2:\n",
    "        print('tuesday')\n",
    "    elif day==3:\n",
    "        print('wednesday')\n",
    "    elif day==4:\n",
    "        print('thrusday')\n",
    "    elif day==5:\n",
    "        print('friday')\n",
    "    elif day==6:\n",
    "        print('saturday')\n",
    "    else:\n",
    "        print('sunday')\n",
    "else:\n",
    "    print('please provide valid input! (day number 1-7)')"
   ]
  },
  {
   "cell_type": "markdown",
   "id": "0a291b39",
   "metadata": {},
   "source": [
    "13. Develop a program that calculates the factorial of a given number using recursion."
   ]
  },
  {
   "cell_type": "code",
   "execution_count": 43,
   "id": "e6a42fb8",
   "metadata": {},
   "outputs": [
    {
     "name": "stdout",
     "output_type": "stream",
     "text": [
      "give a number for factorial : 5\n",
      "factorial is : 120\n"
     ]
    }
   ],
   "source": [
    "def factorial(n):\n",
    "    fact=1\n",
    "    for i in range(2,n+1):\n",
    "        fact*=i\n",
    "    return fact\n",
    "n=int(input(\"give a number for factorial : \"))\n",
    "factorial=factorial(n)\n",
    "print(\"factorial is :\",factorial)"
   ]
  },
  {
   "cell_type": "markdown",
   "id": "928f02b7",
   "metadata": {},
   "source": [
    "14. Write a program to find the largest among three numbers without using the `max()` function."
   ]
  },
  {
   "cell_type": "code",
   "execution_count": 44,
   "id": "fbfa30a9",
   "metadata": {},
   "outputs": [
    {
     "name": "stdout",
     "output_type": "stream",
     "text": [
      "enter the tree number with seprated by comma : 67,89,34\n",
      "largest number is:  89\n"
     ]
    }
   ],
   "source": [
    "num=[int(num) for num in input('enter the tree number with seprated by comma : ').split(',')]\n",
    "if len(num)==3:\n",
    "    if num[0]>num[1] and num[0]>num[2]:\n",
    "        print('largest number is: ',num[0])\n",
    "    if num[1]>num[0] and num[1]>num[2]:\n",
    "        print('largest number is: ',num[1])\n",
    "    if num[2]>num[0] and num[1]>num[1]:\n",
    "        print('largest number is: ',num[2])\n",
    "else:\n",
    "    print(\"please give valid input\")"
   ]
  },
  {
   "cell_type": "markdown",
   "id": "74085f3d",
   "metadata": {},
   "source": [
    "15. Create a program that simulates a basic ATM transaction menu.\n"
   ]
  },
  {
   "cell_type": "code",
   "execution_count": 45,
   "id": "4292810e",
   "metadata": {},
   "outputs": [
    {
     "name": "stdout",
     "output_type": "stream",
     "text": [
      "\n",
      "ATM Menu:\n",
      "1. Check Balance\n",
      "2. Deposit\n",
      "3. Withdraw\n",
      "4. Exit\n",
      "Enter your choice (1-4): 1\n",
      "Your current balance is rs1000.00\n",
      "\n",
      "ATM Menu:\n",
      "1. Check Balance\n",
      "2. Deposit\n",
      "3. Withdraw\n",
      "4. Exit\n",
      "Enter your choice (1-4): 4\n",
      "Thank you for using our ATM. Goodbye!\n"
     ]
    }
   ],
   "source": [
    "def check_balance(balance):\n",
    "    print(f\"Your current balance is rs{balance:.2f}\")\n",
    "\n",
    "def deposit(balance):\n",
    "    amount = float(input(\"Enter the amount to deposit: rs\"))\n",
    "    if amount > 0:\n",
    "        total_balance=balance + amount\n",
    "        print(f\"Deposit successful. Your new balance is rs{total_balance:.2f}\")\n",
    "    else:\n",
    "        print(\"Invalid amount. Please enter a positive number.\")\n",
    "\n",
    "def withdraw(balance):\n",
    "    amount = float(input(\"Enter the amount to withdraw: rs\"))\n",
    "    if 0 < amount <= balance:\n",
    "        balance -= amount\n",
    "        print(f\"Withdrawal successful. Your new balance is rs{balance:.2f}\")\n",
    "    elif amount > balance:\n",
    "        print(\"Insufficient funds.\")\n",
    "    else:\n",
    "        print(\"Invalid amount. Please enter a positive number.\")\n",
    "\n",
    "def atm_menu():\n",
    "    balance = 1000.00  # Initial balance\n",
    "\n",
    "    while True:\n",
    "        print(\"\\nATM Menu:\")\n",
    "        print(\"1. Check Balance\")\n",
    "        print(\"2. Deposit\")\n",
    "        print(\"3. Withdraw\")\n",
    "        print(\"4. Exit\")\n",
    "\n",
    "        choice = input(\"Enter your choice (1-4): \")\n",
    "        \n",
    "\n",
    "        if choice == '1':\n",
    "            check_balance(balance)\n",
    "        elif choice == '2':\n",
    "            deposit(balance)\n",
    "        elif choice == '3':\n",
    "            withdraw(balance)\n",
    "        elif choice == '4':\n",
    "            print(\"Thank you for using our ATM. Goodbye!\")\n",
    "            break\n",
    "        else:\n",
    "            print(\"Invalid choice. Please enter a number from 1 to 4.\")\n",
    "\n",
    "# Run the ATM program\n",
    "atm_menu()\n"
   ]
  },
  {
   "cell_type": "markdown",
   "id": "1a118947",
   "metadata": {},
   "source": [
    "16. Build a program that checks if a given string is a palindrome or not."
   ]
  },
  {
   "cell_type": "code",
   "execution_count": 46,
   "id": "d2fd3f5a",
   "metadata": {},
   "outputs": [
    {
     "name": "stdout",
     "output_type": "stream",
     "text": [
      "given string is pelindrome\n"
     ]
    }
   ],
   "source": [
    "def is_palindrome(string):\n",
    "    if string==string[::-1]:\n",
    "        print(\"given string is pelindrome\")\n",
    "    else:\n",
    "        print(\"given string is not a pelindrome\")\n",
    "\n",
    "string=\"deified\"\n",
    "is_palindrome(string)"
   ]
  },
  {
   "cell_type": "markdown",
   "id": "340df0fa",
   "metadata": {},
   "source": [
    "17. Write a program that calculates the average of a list of numbers, excluding the smallest and largest values."
   ]
  },
  {
   "cell_type": "code",
   "execution_count": 47,
   "id": "9f998d62",
   "metadata": {},
   "outputs": [
    {
     "name": "stdout",
     "output_type": "stream",
     "text": [
      "the average of a list of numbers, excluding the smallest and largest values : 56.666666666666664\n"
     ]
    }
   ],
   "source": [
    "def cal_avg(n):\n",
    "    if len(n)>2:\n",
    "        add=sum(n)-max(n)-min(n)\n",
    "        avg=add/(len(n)-2)\n",
    "        print(\"the average of a list of numbers, excluding the smallest and largest values :\",avg)\n",
    "    else:\n",
    "        print(\"plese give minimum three values\")\n",
    "    \n",
    "n=[60,70,40,30,90]\n",
    "cal_avg(n)\n"
   ]
  },
  {
   "cell_type": "markdown",
   "id": "6d6d8c50",
   "metadata": {},
   "source": [
    "18. Develop a program that converts a given temperature from Celsius to Fahrenheit."
   ]
  },
  {
   "cell_type": "code",
   "execution_count": 48,
   "id": "a3591eab",
   "metadata": {},
   "outputs": [
    {
     "name": "stdout",
     "output_type": "stream",
     "text": [
      "enter the value in degree celsius : 100\n",
      "Celsius to Fahrenheit : 212.0f \n"
     ]
    }
   ],
   "source": [
    "def celsius_to_fahrenheit(celsius):\n",
    "    celsius=float(input(\"enter the value in degree celsius : \"))\n",
    "    fahrenheit= celsius* 9/5 + 32\n",
    "    print(f'Celsius to Fahrenheit : {fahrenheit}f ')\n",
    "celsius_to_fahrenheit(n)"
   ]
  },
  {
   "cell_type": "markdown",
   "id": "6ddd5221",
   "metadata": {},
   "source": [
    "19. Create a program that simulates a basic calculator for addition, subtraction, multiplication, and division."
   ]
  },
  {
   "cell_type": "code",
   "execution_count": 49,
   "id": "d323ccbb",
   "metadata": {},
   "outputs": [
    {
     "name": "stdout",
     "output_type": "stream",
     "text": [
      "enter 1st number 89\n",
      "enter second number67\n",
      "enter the operator (+,-,*,/)+\n",
      "156.0\n"
     ]
    }
   ],
   "source": [
    "def calculator():\n",
    "    a=float(input(\"enter 1st number \"))\n",
    "    b=float(input(\"enter second number\"))\n",
    "    operator=input(\"enter the operator (+,-,*,/)\")\n",
    "    if operator==\"+\":\n",
    "        print(a+b)\n",
    "    elif operator==\"-\":\n",
    "        print(a-b)\n",
    "    elif operator==\"*\":\n",
    "        print(a*b)\n",
    "    elif operator==\"/\":\n",
    "        if b != 0:  # Ensure division by zero doesn't occur\n",
    "            print(a / b)\n",
    "        else:\n",
    "            print(\"Error: Division by zero!\")\n",
    "    else:\n",
    "        print(\"please provide given operator\")\n",
    "        \n",
    "calculator()"
   ]
  },
  {
   "cell_type": "markdown",
   "id": "9298e621",
   "metadata": {},
   "source": [
    "20. Write a program that determines the roots of a cubic equation using the Cardano formula."
   ]
  },
  {
   "cell_type": "code",
   "execution_count": 50,
   "id": "4c1d3703",
   "metadata": {},
   "outputs": [
    {
     "name": "stdout",
     "output_type": "stream",
     "text": [
      "Enter coefficient of x^3: 2\n",
      "Enter coefficient of x^2: 6\n",
      "Enter coefficient of x: 0\n",
      "Enter constant term: 1\n",
      "Roots of the cubic equation:\n",
      "Root 1: -3.0536215758789726\n",
      "Root 2: (0.02681078793948662+0.4037588174724204j)\n",
      "Root 3: (0.02681078793948662-0.4037588174724204j)\n"
     ]
    }
   ],
   "source": [
    "import math\n",
    "\n",
    "def cubic_roots(a, b, c, d):\n",
    "    # Discriminant\n",
    "    delta0 = b**2 - 3*a*c\n",
    "    delta1 = 2*b**3 - 9*a*b*c + 27*a**2*d\n",
    "    discriminant = delta1**2 - 4*delta0**3\n",
    "\n",
    "    # Define some constants\n",
    "    C = (1/2) * ((delta1 + math.sqrt(discriminant))**(1/3))\n",
    "    if C == 0:\n",
    "        C = (1/2) * ((delta1 - math.sqrt(discriminant))**(1/3))\n",
    "    u1 = complex(-1/2, math.sqrt(3)/2)\n",
    "    u2 = complex(-1/2, -math.sqrt(3)/2)\n",
    "    root1 = -(1/(3*a)) * (b + C + delta0/C)\n",
    "    root2 = -(1/(3*a)) * (b + u1*C + delta0/(u1*C))\n",
    "    root3 = -(1/(3*a)) * (b + u2*C + delta0/(u2*C))\n",
    "\n",
    "    return root1, root2, root3\n",
    "\n",
    "# Example usage\n",
    "a = float(input(\"Enter coefficient of x^3: \"))\n",
    "b = float(input(\"Enter coefficient of x^2: \"))\n",
    "c = float(input(\"Enter coefficient of x: \"))\n",
    "d = float(input(\"Enter constant term: \"))\n",
    "\n",
    "roots = cubic_roots(a, b, c, d)\n",
    "print(\"Roots of the cubic equation:\")\n",
    "for i, root in enumerate(roots):\n",
    "    print(f\"Root {i+1}: {root}\")\n"
   ]
  },
  {
   "cell_type": "markdown",
   "id": "d3899d50",
   "metadata": {},
   "source": [
    "# Advanced Level:"
   ]
  },
  {
   "cell_type": "markdown",
   "id": "67c85b11",
   "metadata": {},
   "source": [
    "21. Create a program that calculates the income tax based on the user's income and tax brackets."
   ]
  },
  {
   "cell_type": "code",
   "execution_count": 51,
   "id": "5d840f0e",
   "metadata": {},
   "outputs": [
    {
     "name": "stdout",
     "output_type": "stream",
     "text": [
      "please enter your income 1000000\n",
      "your tax is :  75000.0\n"
     ]
    }
   ],
   "source": [
    "def income_tax_calculator(income):\n",
    "    income=float(input(\"please enter your income \"))\n",
    "    if income<=250000:\n",
    "        print(\"your tax is : \",0) \n",
    "    elif income<=500000:\n",
    "        print (\"your tax is : \",((income-250000)*5)/100)\n",
    "    elif income<=750000:\n",
    "        print (\"your tax is : \",(((income-500000)*10)/100)+12500)\n",
    "    elif income<=1000000:\n",
    "        print (\"your tax is : \",(((income-750000)*15)/100)+37500)\n",
    "    elif income<=1250000:\n",
    "        print (\"your tax is : \",(((income-1000000)*20)/100)+75000)\n",
    "    elif income<=1500000:\n",
    "        print(\"your tax is : \" ,(((income-1250000)*25)/100)+125000 )   \n",
    "    else:\n",
    "        print(\"your tax is : \" ,(((income-1500000)*30)/100)+187500)\n",
    "income=100000\n",
    "income_tax_calculator(income)"
   ]
  },
  {
   "cell_type": "markdown",
   "id": "5d52f104",
   "metadata": {},
   "source": [
    "22. Write a program that simulates a rock-paper-scissors game against the computer."
   ]
  },
  {
   "cell_type": "code",
   "execution_count": 63,
   "id": "f308d9e6",
   "metadata": {},
   "outputs": [
    {
     "name": "stdout",
     "output_type": "stream",
     "text": [
      "Enter your choice (rock, paper, or scissors): paper\n",
      "You chose: paper\n",
      "Computer chose: rock\n",
      "You win!\n"
     ]
    }
   ],
   "source": [
    "import random\n",
    "\n",
    "def get_user_choice():\n",
    "    user_choice = input(\"Enter your choice (rock, paper, or scissors): \").lower()\n",
    "    if user_choice not in ['rock', 'paper', 'scissors']:\n",
    "        print(\"Invalid choice. Please enter rock, paper, or scissors.\")\n",
    "        user_choice = input(\"Enter your choice (rock, paper, or scissors): \").lower()\n",
    "    return user_choice\n",
    "\n",
    "def get_computer_choice():\n",
    "    return random.choice(['rock', 'paper', 'scissors'])\n",
    "\n",
    "def determine_winner(user_choice, computer_choice):\n",
    "    if user_choice == computer_choice:\n",
    "        return \"It's a tie!\"\n",
    "    elif (user_choice == 'rock' and computer_choice == 'scissors') or \\\n",
    "         (user_choice == 'paper' and computer_choice == 'rock') or \\\n",
    "         (user_choice == 'scissors' and computer_choice == 'paper'):\n",
    "        return \"You win!\"\n",
    "    else:\n",
    "        return \"Computer wins!\"\n",
    "\n",
    "user_choice = get_user_choice()\n",
    "computer_choice = get_computer_choice()\n",
    "result = determine_winner(user_choice, computer_choice)\n",
    "\n",
    "print(\"You chose:\", user_choice)\n",
    "print(\"Computer chose:\", computer_choice)\n",
    "print(result)\n"
   ]
  },
  {
   "cell_type": "markdown",
   "id": "1e696c1e",
   "metadata": {},
   "source": [
    "23. Develop a program that generates a random password based on user preferences (length, complexity)."
   ]
  },
  {
   "cell_type": "code",
   "execution_count": 65,
   "id": "6826bde1",
   "metadata": {},
   "outputs": [
    {
     "name": "stdout",
     "output_type": "stream",
     "text": [
      "Welcome to the Random Password Generator!\n",
      "Enter the length of the password: 8\n",
      "Enter the complexity level (low, medium, high): high\n",
      "Your generated password is: ;QucDkEU\n"
     ]
    }
   ],
   "source": [
    "import random\n",
    "import string\n",
    "\n",
    "def generate_password(length, complexity):\n",
    "    if complexity == 'low':\n",
    "        characters = string.digits+string.ascii_letters\n",
    "    elif complexity == 'medium':\n",
    "        characters = string.ascii_letters + string.digits +string.punctuation\n",
    "    elif complexity == 'high':\n",
    "        characters = string.ascii_letters + string.digits + string.punctuation + string.ascii_uppercase + string.ascii_lowercase\n",
    "    else:\n",
    "        print(\"Invalid complexity level. Using medium complexity.\")\n",
    "    \n",
    "    password = ''.join(random.choice(characters) for _ in range(length))\n",
    "    return password\n",
    "\n",
    "print(\"Welcome to the Random Password Generator!\")\n",
    "length = int(input(\"Enter the length of the password: \"))\n",
    "complexity = input(\"Enter the complexity level (low, medium, high): \").lower()\n",
    "    \n",
    "if complexity not in ['low', 'medium', 'high']:\n",
    "    print(\"Invalid complexity level. please provide valid entry.\")\n",
    "    \n",
    "password = generate_password(length, complexity)\n",
    "print(\"Your generated password is:\", password)"
   ]
  },
  {
   "cell_type": "markdown",
   "id": "fbe3c780",
   "metadata": {},
   "source": [
    "24. Create a program that implements a simple text-based adventure game with branching scenarios."
   ]
  },
  {
   "cell_type": "code",
   "execution_count": 66,
   "id": "8346d30f",
   "metadata": {},
   "outputs": [
    {
     "name": "stdout",
     "output_type": "stream",
     "text": [
      "Welcome to the Text Adventure Game!\n",
      "What would you like to do?\n",
      "1. Enter the cave.\n",
      "2. Walk away.\n",
      "Enter your choice (1 or 2): 1\n",
      "\n",
      "You enter the dark cave and see two paths ahead.\n",
      "1. Take the left path.\n",
      "2. Take the right path.\n",
      "Enter your choice (1 or 2): 2\n",
      "\n",
      "You choose the right path and encounter a locked door.\n",
      "What do you do?\n",
      "1. Look for a key.\n",
      "2. Try to break the door down.\n",
      "Enter your choice (1 or 2): 1\n",
      "\n",
      "You find a hidden key under a rock nearby and unlock the door.\n",
      "Inside the room, you find a magical artifact!\n",
      "Congratulations! You win!\n"
     ]
    }
   ],
   "source": [
    "def start_game():\n",
    "    print(\"Welcome to the Text Adventure Game!\")\n",
    "    print(\"What would you like to do?\")\n",
    "    print(\"1. Enter the cave.\")\n",
    "    print(\"2. Walk away.\")\n",
    "\n",
    "    choice = input(\"Enter your choice (1 or 2): \")\n",
    "\n",
    "    if choice == '1':\n",
    "        enter_cave()\n",
    "    elif choice == '2':\n",
    "        walk_away()\n",
    "    else:\n",
    "        print(\"Invalid choice. Please enter 1 or 2.\")\n",
    "        start_game()\n",
    "\n",
    "def enter_cave():\n",
    "    print(\"\\nYou enter the dark cave and see two paths ahead.\")\n",
    "    print(\"1. Take the left path.\")\n",
    "    print(\"2. Take the right path.\")\n",
    "\n",
    "    choice = input(\"Enter your choice (1 or 2): \")\n",
    "\n",
    "    if choice == '1':\n",
    "        left_path()\n",
    "    elif choice == '2':\n",
    "        right_path()\n",
    "    else:\n",
    "        print(\"Invalid choice. Please enter 1 or 2.\")\n",
    "        enter_cave()\n",
    "\n",
    "def left_path():\n",
    "    print(\"\\nYou choose the left path and encounter a sleeping dragon!\")\n",
    "    print(\"What do you do?\")\n",
    "    print(\"1. Try to sneak past the dragon.\")\n",
    "    print(\"2. Wake up the dragon.\")\n",
    "\n",
    "    choice = input(\"Enter your choice (1 or 2): \")\n",
    "\n",
    "    if choice == '1':\n",
    "        print(\"\\nYou successfully sneak past the dragon and find a treasure chest!\")\n",
    "        print(\"Congratulations! You win!\")\n",
    "    elif choice == '2':\n",
    "        print(\"\\nThe dragon wakes up and eats you. Game over!\")\n",
    "    else:\n",
    "        print(\"Invalid choice. Please enter 1 or 2.\")\n",
    "        left_path()\n",
    "\n",
    "def right_path():\n",
    "    print(\"\\nYou choose the right path and encounter a locked door.\")\n",
    "    print(\"What do you do?\")\n",
    "    print(\"1. Look for a key.\")\n",
    "    print(\"2. Try to break the door down.\")\n",
    "\n",
    "    choice = input(\"Enter your choice (1 or 2): \")\n",
    "\n",
    "    if choice == '1':\n",
    "        print(\"\\nYou find a hidden key under a rock nearby and unlock the door.\")\n",
    "        print(\"Inside the room, you find a magical artifact!\")\n",
    "        print(\"Congratulations! You win!\")\n",
    "    elif choice == '2':\n",
    "        print(\"\\nYou try to break the door down but trigger a trap and get crushed by a falling boulder. Game over!\")\n",
    "    else:\n",
    "        print(\"Invalid choice. Please enter 1 or 2.\")\n",
    "        right_path()\n",
    "\n",
    "def walk_away():\n",
    "    print(\"\\nYou decide not to enter the cave and walk away.\")\n",
    "    print(\"The end.\")\n",
    "\n",
    "\n",
    "start_game()\n"
   ]
  },
  {
   "cell_type": "markdown",
   "id": "b7fac54c",
   "metadata": {},
   "source": [
    "25. Build a program that solves a linear equation  for x, considering different cases."
   ]
  },
  {
   "cell_type": "code",
   "execution_count": 67,
   "id": "1f037408",
   "metadata": {},
   "outputs": [
    {
     "name": "stdout",
     "output_type": "stream",
     "text": [
      "Linear Equation Solver (ax + b = c)\n",
      "Enter coefficients a, b, and c:\n",
      "a: 4\n",
      "b: 12\n",
      "c: 3\n",
      "Solution: x = -2.25\n"
     ]
    }
   ],
   "source": [
    "def solve_linear_equation(a, b, c):\n",
    "    if a == 0:\n",
    "        if b == c:\n",
    "            return \"Infinite solutions (any value of x)\"\n",
    "        else:\n",
    "            return \"No solution\"\n",
    "    else:\n",
    "        x = (c - b) / a\n",
    "        return \"Solution: x = {}\".format(x)\n",
    "print(\"Linear Equation Solver (ax + b = c)\")\n",
    "print(\"Enter coefficients a, b, and c:\")\n",
    "a = float(input(\"a: \"))\n",
    "b = float(input(\"b: \"))\n",
    "c = float(input(\"c: \"))\n",
    "solution = solve_linear_equation(a, b, c)\n",
    "print(solution)\n",
    "\n",
    "\n"
   ]
  },
  {
   "cell_type": "markdown",
   "id": "0f8e8baf",
   "metadata": {},
   "source": [
    "26. Write a program that simulates a basic quiz game with multiple-choice questions and scoring."
   ]
  },
  {
   "cell_type": "code",
   "execution_count": 68,
   "id": "c7b0fabc",
   "metadata": {},
   "outputs": [
    {
     "name": "stdout",
     "output_type": "stream",
     "text": [
      "What is the capital of india?\n",
      "1. mumbai\n",
      "2. kolkata\n",
      "3. Berlin\n",
      "4. Delhi\n",
      "Enter your choice (1, 2, 3, 4): 4\n",
      "Correct!\n",
      "Which planet is known as the Red Planet?\n",
      "1. Mars\n",
      "2. Venus\n",
      "3. Jupiter\n",
      "4. Saturn\n",
      "Enter your choice (1, 2, 3, 4): 1\n",
      "Correct!\n",
      "Who is Prime Minister of India?\n",
      "1. Amit shah\n",
      "2. Rahul ghandhi\n",
      "3. Narendra modi\n",
      "4. Arvind Kejriwal\n",
      "Enter your choice (1, 2, 3, 4): 3\n",
      "Correct!\n",
      "\n",
      "Quiz completed!\n",
      "Total points: 30\n"
     ]
    }
   ],
   "source": [
    "def display_question(question, choices):\n",
    "    print(question)\n",
    "    for i, choice in enumerate(choices, 1):\n",
    "        print(f\"{i}. {choice}\")\n",
    "    return int(input(\"Enter your choice (1, 2, 3, 4): \"))\n",
    "\n",
    "\n",
    "questions = [{\"question\": \"What is the capital of india?\",\n",
    "            \"choices\": [\"mumbai\", \"kolkata\", \"Berlin\",\"Delhi\"],\n",
    "            \"correct_answer\": 4,\n",
    "            \"points\": 10},\n",
    "        {\"question\": \"Which planet is known as the Red Planet?\",\n",
    "            \"choices\": [\"Mars\", \"Venus\", \"Jupiter\",\"Saturn\"],\n",
    "            \"correct_answer\": 1,\n",
    "            \"points\": 10},\n",
    "        {\"question\": \"Who is Prime Minister of India?\",\n",
    "         \"choices\": [\"Amit shah\", \"Rahul ghandhi\", \"Narendra modi\",\"Arvind Kejriwal\"],\n",
    "         \"correct_answer\": 3,\n",
    "         \"points\": 10}]\n",
    "\n",
    "total_points = 0\n",
    "\n",
    "for question in questions:\n",
    "    choice = display_question(question[\"question\"], question[\"choices\"])\n",
    "    if choice == question[\"correct_answer\"]:\n",
    "        print(\"Correct!\")\n",
    "        total_points += question[\"points\"]\n",
    "    else:\n",
    "        print(\"Incorrect!\")\n",
    "        total_points -= 5  # Penalty for wrong answer\n",
    "\n",
    "print(\"\\nQuiz completed!\")\n",
    "print(f\"Total points: {total_points}\")\n",
    "\n",
    "\n"
   ]
  },
  {
   "cell_type": "markdown",
   "id": "18689738",
   "metadata": {},
   "source": [
    "27. Develop a program that determines whether a given year is a prime number or not."
   ]
  },
  {
   "cell_type": "code",
   "execution_count": 69,
   "id": "6b41766f",
   "metadata": {},
   "outputs": [
    {
     "name": "stdout",
     "output_type": "stream",
     "text": [
      "Enter a year to check if it's prime: 2024\n",
      "2024 is not a prime number.\n"
     ]
    }
   ],
   "source": [
    "def is_prime(year):\n",
    "    if year <= 1:\n",
    "        return False\n",
    "    for i in range(2, int(year**0.5) + 1):\n",
    "        if year % i == 0:\n",
    "            return False\n",
    "    return True\n",
    "\n",
    "year = int(input(\"Enter a year to check if it's prime: \"))\n",
    "if is_prime(year):\n",
    "    print(f\"{year} is a prime number.\")\n",
    "else:\n",
    "    print(f\"{year} is not a prime number.\")\n",
    "\n"
   ]
  },
  {
   "cell_type": "markdown",
   "id": "32ee64bd",
   "metadata": {},
   "source": [
    "28. Create a program that sorts three numbers in ascending order using conditional statements."
   ]
  },
  {
   "cell_type": "code",
   "execution_count": 70,
   "id": "550e3013",
   "metadata": {},
   "outputs": [
    {
     "name": "stdout",
     "output_type": "stream",
     "text": [
      "enter 1st number56\n",
      "enter 2nd number43\n",
      "enter 3rd number98\n",
      "43.0 56.0 98.0\n"
     ]
    }
   ],
   "source": [
    "A=float(input(\"enter 1st number\"))\n",
    "B=float(input(\"enter 2nd number\"))\n",
    "C=float(input(\"enter 3rd number\"))\n",
    "if A <= B <= C:\n",
    "    print(A,B,C)\n",
    "elif A <= C <= B:\n",
    "    print(A,C,B)\n",
    "elif B <= A <= C:\n",
    "    print(B,A,C)\n",
    "elif B <= C <= A:\n",
    "    print(B,C,A)\n",
    "elif C <= A <= B:\n",
    "    print(C,A,B)\n",
    "else:\n",
    "    print(C,B,A)\n",
    "    "
   ]
  },
  {
   "cell_type": "markdown",
   "id": "e16e11a8",
   "metadata": {},
   "source": [
    "29. Build a program that determines the roots of a quartic equation using numerical methods.\n"
   ]
  },
  {
   "cell_type": "code",
   "execution_count": 71,
   "id": "e043efab",
   "metadata": {},
   "outputs": [
    {
     "name": "stdout",
     "output_type": "stream",
     "text": [
      "complex roots are:  ((-1.5-4.6583123951777j), (-1.5+4.6583123951777j))\n",
      "roots are:  (7.0, -2.0)\n"
     ]
    }
   ],
   "source": [
    "import math\n",
    "def root_calculator(a,b,c):\n",
    "    D=(b**2)-(4*a*c)\n",
    "    if D>0:\n",
    "        roots1=(-b+(D**0.5))/(2*a)\n",
    "        roots2=(-b-((D**0.5)))/(2*a)\n",
    "    elif D==0:\n",
    "        roots1=roots2=-b/(2*a)\n",
    "    else:\n",
    "        #in case of complex number\n",
    "        real=-b/(2*a)\n",
    "        imaginary=-b-((abs(D))**0.5)/(2*a)\n",
    "        roots1=complex(real,imaginary)\n",
    "        roots2=complex(real,-imaginary)\n",
    "    return roots1,roots2\n",
    "# test for complex number\n",
    "a,b,c=1,3,5\n",
    "root=root_calculator(a,b,c)\n",
    "print('complex roots are: ',root)\n",
    "\n",
    "#test case  \n",
    "d,e,f=1,-5,-14\n",
    "root=root_calculator(d,e,f)\n",
    "print('roots are: ',root)"
   ]
  },
  {
   "cell_type": "markdown",
   "id": "19da92fe",
   "metadata": {},
   "source": [
    "30. Write a program that calculates the BMI (Body Mass Index) and provides health recommendations based on the user's input."
   ]
  },
  {
   "cell_type": "code",
   "execution_count": 72,
   "id": "c0b082eb",
   "metadata": {},
   "outputs": [
    {
     "name": "stdout",
     "output_type": "stream",
     "text": [
      "enter the weight : 68\n",
      "enter the height : 1.57\n",
      "Your BMI is: 27.587326057852245\n",
      "You are categorized as: overweight\n"
     ]
    }
   ],
   "source": [
    "def BMI(H,W):\n",
    "    return W/(H**2)\n",
    "def recorcognise_level(BMI):\n",
    "    if BMI < 18.5:\n",
    "        print(\"You are categorized as: underweight\")\n",
    "    elif 18.5 <=BMI < 25:\n",
    "        print('You are categorized as: normal weight')\n",
    "    elif 25<= BMI <30:\n",
    "        print(\"You are categorized as: overweight\")\n",
    "    else:\n",
    "        print(\"obese\")\n",
    "W=float(input(\"enter the weight : \"))\n",
    "H=float(input(\"enter the height : \"))\n",
    "bmi= BMI(H,W)\n",
    "print(\"Your BMI is:\", bmi)\n",
    "recorcognise_level(bmi)\n"
   ]
  },
  {
   "cell_type": "markdown",
   "id": "3066b3b6",
   "metadata": {},
   "source": [
    "# Challenge Level:"
   ]
  },
  {
   "cell_type": "markdown",
   "id": "ae8b169e",
   "metadata": {},
   "source": [
    "31. Create a program that validates a password based on complexity rules (length, characters, etc.)."
   ]
  },
  {
   "cell_type": "code",
   "execution_count": 73,
   "id": "51bd485c",
   "metadata": {},
   "outputs": [
    {
     "name": "stdout",
     "output_type": "stream",
     "text": [
      "welcome to  automatic password generator \n",
      "enter the length of password : 4\n",
      "inter the complexity level [low,medium,high] : low\n",
      "password is :  SApB\n"
     ]
    }
   ],
   "source": [
    "import string\n",
    "import random\n",
    "\n",
    "def generate_password(length,complexity):\n",
    "    if complexity==\"low\":\n",
    "        characters= string.ascii_letters+string.digits\n",
    "    elif complexity==\"medium\":\n",
    "        characters= string.ascii_letters+string.digits+string.punctuation\n",
    "    elif complexity==\"high\":\n",
    "        characters= string.ascii_letters+string.digits+string.ascii_lowercase+string.ascii_uppercase\n",
    "    else:\n",
    "        print(\"invalid complexity level. please enter given complexity level\")\n",
    "    password = ''.join(random.choice(characters) for _ in range(length))\n",
    "    return password\n",
    "print(\"welcome to  automatic password generator \")\n",
    "lenght=eval(input(\"enter the length of password : \"))\n",
    "complexity=input(\"inter the complexity level [low,medium,high] : \")\n",
    "if complexity not in [\"low\",\"medium\",\"high\"]:\n",
    "    print(\"Invalid complexity level. please provide valid entry.\")\n",
    "    \n",
    "password=generate_password(lenght,complexity)\n",
    "print(\"password is : \",password)"
   ]
  },
  {
   "cell_type": "markdown",
   "id": "03e259dc",
   "metadata": {},
   "source": [
    "32. Develop a program that performs matrix addition and subtraction based on user input."
   ]
  },
  {
   "cell_type": "code",
   "execution_count": 75,
   "id": "ae688cab",
   "metadata": {},
   "outputs": [
    {
     "name": "stdout",
     "output_type": "stream",
     "text": [
      "Enter the number of rows: 2\n",
      "Enter the number of columns: 2\n",
      "Enter the elements of the first matrix:\n",
      "3\n",
      "5\n",
      "8\n",
      "9\n",
      "Enter the elements of the second matrix:\n",
      "3\n",
      "5\n",
      "6\n",
      "1\n",
      "Matrix Addition Result:\n",
      "[6, 10]\n",
      "[14, 10]\n",
      "Matrix Subtraction Result:\n",
      "[0, 0]\n",
      "[2, 8]\n"
     ]
    }
   ],
   "source": [
    "def matrix_addition(matrix1, matrix2):\n",
    "    result = []\n",
    "    for i in range(len(matrix1)):\n",
    "        row = []\n",
    "        for j in range(len(matrix1[0])):\n",
    "            row.append(matrix1[i][j] + matrix2[i][j])\n",
    "        result.append(row)\n",
    "    return result\n",
    "\n",
    "def matrix_subtraction(matrix1, matrix2):\n",
    "    result = []\n",
    "    for i in range(len(matrix1)):\n",
    "        row = []\n",
    "        for j in range(len(matrix1[0])):\n",
    "            row.append(matrix1[i][j] - matrix2[i][j])\n",
    "        result.append(row)\n",
    "    return result\n",
    "\n",
    "def print_matrix(matrix):\n",
    "    for row in matrix:\n",
    "        print(row)\n",
    "\n",
    "# Input matrices from the user\n",
    "rows = int(input(\"Enter the number of rows: \"))\n",
    "cols = int(input(\"Enter the number of columns: \"))\n",
    "\n",
    "print(\"Enter the elements of the first matrix:\")\n",
    "matrix1 = [[int(input()) for _ in range(cols)] for _ in range(rows)]\n",
    "\n",
    "print(\"Enter the elements of the second matrix:\")\n",
    "matrix2 = [[int(input()) for _ in range(cols)] for _ in range(rows)]\n",
    "\n",
    "# Perform matrix addition and subtraction\n",
    "addition_result = matrix_addition(matrix1, matrix2)\n",
    "subtraction_result = matrix_subtraction(matrix1, matrix2)\n",
    "\n",
    "# Print the results\n",
    "print(\"Matrix Addition Result:\")\n",
    "print_matrix(addition_result)\n",
    "\n",
    "print(\"Matrix Subtraction Result:\")\n",
    "print_matrix(subtraction_result)\n"
   ]
  },
  {
   "cell_type": "markdown",
   "id": "97e446e0",
   "metadata": {},
   "source": [
    "33. Write a program that calculates the greatest common divisor (GCD) of two numbers using the Euclidean algorithm."
   ]
  },
  {
   "cell_type": "code",
   "execution_count": 77,
   "id": "f6b4ff37",
   "metadata": {},
   "outputs": [
    {
     "name": "stdout",
     "output_type": "stream",
     "text": [
      "Enter the first number: 45\n",
      "Enter the second number: 30\n",
      "GCD of 45 and 30 is: 15\n"
     ]
    }
   ],
   "source": [
    "def gcd(a, b):\n",
    "    if b != 0:\n",
    "        if a > b:\n",
    "            a = a - b\n",
    "        else:\n",
    "            b = b - a\n",
    "    return a\n",
    "\n",
    "num1 = int(input(\"Enter the first number: \"))\n",
    "num2 = int(input(\"Enter the second number: \"))\n",
    "\n",
    "result = gcd(num1, num2)\n",
    "\n",
    "print(\"GCD of\", num1, \"and\", num2, \"is:\", result)\n"
   ]
  },
  {
   "cell_type": "markdown",
   "id": "1d1b447a",
   "metadata": {},
   "source": [
    "34. Build a program that performs matrix multiplication using nested loops and conditional statements."
   ]
  },
  {
   "cell_type": "code",
   "execution_count": 78,
   "id": "eebc62e9",
   "metadata": {},
   "outputs": [
    {
     "data": {
      "text/plain": [
       "[[19, 22], [43, 50]]"
      ]
     },
     "execution_count": 78,
     "metadata": {},
     "output_type": "execute_result"
    }
   ],
   "source": [
    "def matrix_multiplication(matrix1, matrix2):\n",
    "    if len(matrix1[0]) != len(matrix2):\n",
    "        return \"Matrices cannot be multiplied. Number of columns in the first matrix must be equal to the number of rows in the second matrix.\"\n",
    "    \n",
    "    result = []\n",
    "    for i in range(len(matrix1)):\n",
    "        row = []\n",
    "        for j in range(len(matrix2[0])):\n",
    "            sum = 0\n",
    "            for k in range(len(matrix2)):\n",
    "                sum += matrix1[i][k] * matrix2[k][j]\n",
    "            row.append(sum)\n",
    "        result.append(row)\n",
    "    return result\n",
    "\n",
    "# Example matrices\n",
    "matrix1 = [[1, 2],\n",
    "           [3, 4]]\n",
    "\n",
    "matrix2 = [[5, 6],\n",
    "           [7, 8]]\n",
    "# Perform matrix multiplication\n",
    "result_matrix = matrix_multiplication(matrix1, matrix2)\n",
    "result_matrix\n",
    "\n"
   ]
  },
  {
   "cell_type": "markdown",
   "id": "c4329131",
   "metadata": {},
   "source": [
    "35. Create a program that simulates a basic text-based tic-tac-toe game against the computer."
   ]
  },
  {
   "cell_type": "code",
   "execution_count": 79,
   "id": "59a7dcbf",
   "metadata": {},
   "outputs": [
    {
     "name": "stdout",
     "output_type": "stream",
     "text": [
      "Welcome to Tic-Tac-Toe!\n",
      "  |   |  \n",
      "---------\n",
      "  |   |  \n",
      "---------\n",
      "  |   |  \n",
      "---------\n",
      "Enter row number (1-3): 1\n",
      "Enter column number (1-3): 1\n",
      "\n",
      "Player X moved:\n",
      "X |   |  \n",
      "---------\n",
      "  |   |  \n",
      "---------\n",
      "  |   |  \n",
      "---------\n",
      "\n",
      "Player O moved:\n",
      "X |   |  \n",
      "---------\n",
      "O |   |  \n",
      "---------\n",
      "  |   |  \n",
      "---------\n",
      "Enter row number (1-3): 3\n",
      "Enter column number (1-3): 3\n",
      "\n",
      "Player X moved:\n",
      "X |   |  \n",
      "---------\n",
      "O |   |  \n",
      "---------\n",
      "  |   | X\n",
      "---------\n",
      "\n",
      "Player O moved:\n",
      "X |   |  \n",
      "---------\n",
      "O | O |  \n",
      "---------\n",
      "  |   | X\n",
      "---------\n",
      "Enter row number (1-3): 2\n",
      "Enter column number (1-3): 3\n",
      "\n",
      "Player X moved:\n",
      "X |   |  \n",
      "---------\n",
      "O | O | X\n",
      "---------\n",
      "  |   | X\n",
      "---------\n",
      "\n",
      "Player O moved:\n",
      "X |   |  \n",
      "---------\n",
      "O | O | X\n",
      "---------\n",
      "  | O | X\n",
      "---------\n",
      "Enter row number (1-3): 1\n",
      "Enter column number (1-3): 2\n",
      "\n",
      "Player X moved:\n",
      "X | X |  \n",
      "---------\n",
      "O | O | X\n",
      "---------\n",
      "  | O | X\n",
      "---------\n",
      "\n",
      "Player O moved:\n",
      "X | X | O\n",
      "---------\n",
      "O | O | X\n",
      "---------\n",
      "  | O | X\n",
      "---------\n",
      "Enter row number (1-3): 3\n",
      "Enter column number (1-3): 1\n",
      "\n",
      "Player X moved:\n",
      "X | X | O\n",
      "---------\n",
      "O | O | X\n",
      "---------\n",
      "X | O | X\n",
      "---------\n",
      "It's a tie!\n"
     ]
    }
   ],
   "source": [
    "import random\n",
    "\n",
    "def print_board(board):\n",
    "    for row in board:\n",
    "        print(\" | \".join(row))\n",
    "        print(\"-\" * 9)\n",
    "\n",
    "def check_winner(board, player):\n",
    "    # Check rows\n",
    "    for row in board:\n",
    "        if all(cell == player for cell in row):\n",
    "            return True\n",
    "    # Check columns\n",
    "    for col in range(3):\n",
    "        if all(board[row][col] == player for row in range(3)):\n",
    "            return True\n",
    "    # Check diagonals\n",
    "    if all(board[i][i] == player for i in range(3)) or all(board[i][2-i] == player for i in range(3)):\n",
    "        return True\n",
    "    return False\n",
    "\n",
    "def is_board_full(board):\n",
    "    for row in board:\n",
    "        if \" \" in row:\n",
    "            return False\n",
    "    return True\n",
    "\n",
    "def player_move(board, player):\n",
    "    while True:\n",
    "        try:\n",
    "            row = int(input(\"Enter row number (1-3): \")) - 1\n",
    "            col = int(input(\"Enter column number (1-3): \")) - 1\n",
    "            if 0 <= row < 3 and 0 <= col < 3 and board[row][col] == \" \":\n",
    "                board[row][col] = player\n",
    "                break\n",
    "            else:\n",
    "                print(\"Invalid move. Please try again.\")\n",
    "        except ValueError:\n",
    "            print(\"Invalid input. Please enter a number.\")\n",
    "\n",
    "def computer_move(board, player):\n",
    "    empty_cells = [(i, j) for i in range(3) for j in range(3) if board[i][j] == \" \"]\n",
    "    row, col = random.choice(empty_cells)\n",
    "    board[row][col] = player\n",
    "\n",
    "def play_game():\n",
    "    board = [[\" \" for _ in range(3)] for _ in range(3)]\n",
    "    players = [\"X\", \"O\"]\n",
    "    current_player = random.choice(players)\n",
    "    \n",
    "    print(\"Welcome to Tic-Tac-Toe!\")\n",
    "    print_board(board)\n",
    "    \n",
    "    while True:\n",
    "        if current_player == \"X\":\n",
    "            player_move(board, current_player)\n",
    "        else:\n",
    "            computer_move(board, current_player)\n",
    "        \n",
    "        print(\"\\nPlayer\", current_player, \"moved:\")\n",
    "        print_board(board)\n",
    "        \n",
    "        if check_winner(board, current_player):\n",
    "            print(\"Player\", current_player, \"wins!\")\n",
    "            break\n",
    "        elif is_board_full(board):\n",
    "            print(\"It's a tie!\")\n",
    "            break\n",
    "        \n",
    "        current_player = \"X\" if current_player == \"O\" else \"O\"\n",
    "\n",
    "play_game()\n"
   ]
  },
  {
   "cell_type": "markdown",
   "id": "2a1ef7db",
   "metadata": {},
   "source": [
    "36. Write a program that generates Fibonacci numbers up to a specified term using iterative methods."
   ]
  },
  {
   "cell_type": "code",
   "execution_count": 82,
   "id": "58e3d976",
   "metadata": {},
   "outputs": [
    {
     "name": "stdout",
     "output_type": "stream",
     "text": [
      "Enter the number of Fibonacci numbers to generate: 5\n",
      "Fibonacci sequence up to term 5 : [0, 1, 1, 2, 3]\n"
     ]
    }
   ],
   "source": [
    "def generate_fibonacci(n):\n",
    "    fibonacci_sequence = []\n",
    "    a, b = 0, 1\n",
    "    for i in range(n):\n",
    "        fibonacci_sequence.append(a)\n",
    "        a, b = b, a + b\n",
    "    return fibonacci_sequence\n",
    "n = int(input(\"Enter the number of Fibonacci numbers to generate: \"))\n",
    "fibonacci=generate_fibonacci(n)\n",
    "print(f\"Fibonacci sequence up to term {n} : {fibonacci}\")"
   ]
  },
  {
   "cell_type": "markdown",
   "id": "7314f2f1",
   "metadata": {},
   "source": [
    "37. Develop a program that calculates the nth term of the Fibonacci sequence using memoization."
   ]
  },
  {
   "cell_type": "code",
   "execution_count": 83,
   "id": "9ffdb746",
   "metadata": {},
   "outputs": [
    {
     "name": "stdout",
     "output_type": "stream",
     "text": [
      "Enter the value of n to calculate the nth Fibonacci number: 21\n",
      "The 21 th Fibonacci number is: 10946\n"
     ]
    }
   ],
   "source": [
    "def fibonacci(n,memo={}):\n",
    "    if n in memo:\n",
    "        return memo[n]\n",
    "    if n <= 1:\n",
    "        return n\n",
    "    memo[n] = fibonacci(n-1, memo) + fibonacci(n-2, memo)\n",
    "    return memo[n]\n",
    "n = int(input(\"Enter the value of n to calculate the nth Fibonacci number: \"))\n",
    "fibo=fibonacci(n)\n",
    "print(\"The\", n, \"th Fibonacci number is:\",fibo)\n",
    "\n"
   ]
  },
  {
   "cell_type": "markdown",
   "id": "4dce2abc",
   "metadata": {},
   "source": [
    "38. Create a program that generates a calendar for a given month and year using conditional statements."
   ]
  },
  {
   "cell_type": "code",
   "execution_count": 84,
   "id": "f73a8f82",
   "metadata": {},
   "outputs": [
    {
     "name": "stdout",
     "output_type": "stream",
     "text": [
      "Enter the year: 2024\n",
      "Enter the month (1-12): 3\n",
      "March 2024\n",
      "Mo Tu We Th Fr Sa Su\n",
      "             1  2  3\n",
      " 4  5  6  7  8  9 10\n",
      "11 12 13 14 15 16 17\n",
      "18 19 20 21 22 23 24\n",
      "25 26 27 28 29 30 31\n",
      "\n"
     ]
    }
   ],
   "source": [
    "import calendar\n",
    "\n",
    "def generate_calendar(year, month):\n",
    "\n",
    "    print(calendar.month_name[month], year)\n",
    "    print(\"Mo Tu We Th Fr Sa Su\")\n",
    "\n",
    "    # Get the first day of the month and the number of days in the month\n",
    "    first_day, num_days = calendar.monthrange(year, month)\n",
    "\n",
    "    # Initialize variables for tracking day of the week and printing\n",
    "    current_day = 1\n",
    "    day_of_week = first_day\n",
    "\n",
    "    # Print the first week\n",
    "    week = \" \" * (3 * first_day)\n",
    "    while current_day <= num_days:\n",
    "        for i in range(day_of_week, 7):\n",
    "            if current_day <= num_days:\n",
    "                week += f\"{current_day:2d} \"\n",
    "                current_day += 1\n",
    "            else:\n",
    "                break\n",
    "        print(week.rstrip())\n",
    "        week = \"\"\n",
    "        day_of_week = 0\n",
    "\n",
    "    print()\n",
    "\n",
    "# Example usage:\n",
    "year = int(input(\"Enter the year: \"))\n",
    "month = int(input(\"Enter the month (1-12): \"))\n",
    "generate_calendar(year, month)\n"
   ]
  },
  {
   "cell_type": "markdown",
   "id": "0433ee9f",
   "metadata": {},
   "source": [
    "39. Build a program that simulates a basic text-based blackjack game against the computer."
   ]
  },
  {
   "cell_type": "code",
   "execution_count": 85,
   "id": "44c713bd",
   "metadata": {},
   "outputs": [
    {
     "name": "stdout",
     "output_type": "stream",
     "text": [
      "Welcome to Blackjack!\n",
      "\n",
      "Your hand:\n",
      "J of Spades\n",
      "8 of Spades\n",
      "\n",
      "Dealer's hand:\n",
      "J of Diamonds\n",
      "Second card: Hidden\n",
      "\n",
      "Do you want to hit or stand? (h/s): s\n",
      "\n",
      "Dealer's hand:\n",
      "J of Diamonds\n",
      "K of Spades\n",
      "\n",
      "Your score: 18\n",
      "Dealer's score: 20\n",
      "\n",
      "Dealer wins.\n"
     ]
    }
   ],
   "source": [
    "import random\n",
    "\n",
    "def create_deck():\n",
    "    \"\"\"Create a standard deck of 52 cards.\"\"\"\n",
    "    ranks = ['2', '3', '4', '5', '6', '7', '8', '9', '10', 'J', 'Q', 'K', 'A']\n",
    "    suits = ['Hearts', 'Diamonds', 'Clubs', 'Spades']\n",
    "    deck = [{'rank': rank, 'suit': suit} for rank in ranks for suit in suits]\n",
    "    random.shuffle(deck)\n",
    "    return deck\n",
    "\n",
    "def calculate_score(hand):\n",
    "    \"\"\"Calculate the total score of a hand.\"\"\"\n",
    "    score = 0\n",
    "    num_aces = 0\n",
    "    for card in hand:\n",
    "        if card['rank'].isdigit():\n",
    "            score += int(card['rank'])\n",
    "        elif card['rank'] in ['J', 'Q', 'K']:\n",
    "            score += 10\n",
    "        elif card['rank'] == 'A':\n",
    "            num_aces += 1\n",
    "            score += 11\n",
    "    while score > 21 and num_aces > 0:\n",
    "        score -= 10\n",
    "        num_aces -= 1\n",
    "    return score\n",
    "\n",
    "def display_hand(hand):\n",
    "    \"\"\"Display the cards in a hand.\"\"\"\n",
    "    for card in hand:\n",
    "        print(card['rank'], 'of', card['suit'])\n",
    "\n",
    "def main():\n",
    "    print(\"Welcome to Blackjack!\")\n",
    "    deck = create_deck()\n",
    "    player_hand = [deck.pop(), deck.pop()]\n",
    "    dealer_hand = [deck.pop(), deck.pop()]\n",
    "\n",
    "    print(\"\\nYour hand:\")\n",
    "    display_hand(player_hand)\n",
    "    print(\"\\nDealer's hand:\")\n",
    "    print(dealer_hand[0]['rank'], 'of', dealer_hand[0]['suit'])\n",
    "    print(\"Second card: Hidden\")\n",
    "\n",
    "    # Player's turn\n",
    "    while True:\n",
    "        choice = input(\"\\nDo you want to hit or stand? (h/s): \").strip().lower()\n",
    "        if choice == 'h':\n",
    "            player_hand.append(deck.pop())\n",
    "            print(\"\\nYour hand:\")\n",
    "            display_hand(player_hand)\n",
    "            score = calculate_score(player_hand)\n",
    "            if score > 21:\n",
    "                print(\"\\nBusted! You lose.\")\n",
    "                return\n",
    "        elif choice == 's':\n",
    "            break\n",
    "\n",
    "    # Dealer's turn\n",
    "    print(\"\\nDealer's hand:\")\n",
    "    display_hand(dealer_hand)\n",
    "    while calculate_score(dealer_hand) < 17:\n",
    "        dealer_hand.append(deck.pop())\n",
    "        print(\"\\nDealer hits:\")\n",
    "        display_hand(dealer_hand)\n",
    "\n",
    "    player_score = calculate_score(player_hand)\n",
    "    dealer_score = calculate_score(dealer_hand)\n",
    "\n",
    "    # Determine winner\n",
    "    print(\"\\nYour score:\", player_score)\n",
    "    print(\"Dealer's score:\", dealer_score)\n",
    "    if player_score > 21:\n",
    "        print(\"\\nBusted! You lose.\")\n",
    "    elif dealer_score > 21:\n",
    "        print(\"\\nDealer busted! You win.\")\n",
    "    elif player_score > dealer_score:\n",
    "        print(\"\\nYou win!\")\n",
    "    elif player_score < dealer_score:\n",
    "        print(\"\\nDealer wins.\")\n",
    "    else:\n",
    "        print(\"\\nIt's a tie.\")\n",
    "\n",
    "if __name__ == \"__main__\":\n",
    "    main()\n"
   ]
  },
  {
   "cell_type": "markdown",
   "id": "3b512872",
   "metadata": {},
   "source": [
    "40. Write a program that generates the prime factors of a given number using trial division."
   ]
  },
  {
   "cell_type": "code",
   "execution_count": 86,
   "id": "540b4819",
   "metadata": {},
   "outputs": [
    {
     "name": "stdout",
     "output_type": "stream",
     "text": [
      "Enter a number to find its prime factors: 18\n",
      "Prime factors of 18 are: [2, 3, 3]\n"
     ]
    }
   ],
   "source": [
    "def prime_factors(n):\n",
    "    factors = []\n",
    "\n",
    "    while n % 2 == 0:\n",
    "        factors.append(2)\n",
    "        n //= 2\n",
    "\n",
    "    for i in range(3, int(n**0.5) + 1, 2):\n",
    "        while n % i == 0:\n",
    "            factors.append(i)\n",
    "            n //= i\n",
    "\n",
    "    if n > 2:\n",
    "        factors.append(n)\n",
    "    return factors\n",
    "\n",
    "num = int(input(\"Enter a number to find its prime factors: \"))\n",
    "factors=prime_factors(num)\n",
    "print(\"Prime factors of\", num, \"are:\", factors)\n"
   ]
  }
 ],
 "metadata": {
  "kernelspec": {
   "display_name": "Python 3 (ipykernel)",
   "language": "python",
   "name": "python3"
  },
  "language_info": {
   "codemirror_mode": {
    "name": "ipython",
    "version": 3
   },
   "file_extension": ".py",
   "mimetype": "text/x-python",
   "name": "python",
   "nbconvert_exporter": "python",
   "pygments_lexer": "ipython3",
   "version": "3.9.7"
  }
 },
 "nbformat": 4,
 "nbformat_minor": 5
}
