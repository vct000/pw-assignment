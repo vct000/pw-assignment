{
 "cells": [
  {
   "cell_type": "markdown",
   "id": "33d4dfa3",
   "metadata": {},
   "source": [
    "# Basic Level"
   ]
  },
  {
   "cell_type": "markdown",
   "id": "5900e2cd",
   "metadata": {},
   "source": [
    "1. Write a Python program to print the numbers from 1 to 10 using a `for` loop."
   ]
  },
  {
   "cell_type": "code",
   "execution_count": 1,
   "id": "be0e6b08",
   "metadata": {},
   "outputs": [
    {
     "name": "stdout",
     "output_type": "stream",
     "text": [
      "1\n",
      "2\n",
      "3\n",
      "4\n",
      "5\n",
      "6\n",
      "7\n",
      "8\n",
      "9\n",
      "10\n"
     ]
    }
   ],
   "source": [
    "for i in range(1,11):\n",
    "    print(i)"
   ]
  },
  {
   "cell_type": "markdown",
   "id": "128f38ca",
   "metadata": {},
   "source": [
    "2. Create a program that calculates the sum of all numbers in a list using a `for` loop."
   ]
  },
  {
   "cell_type": "code",
   "execution_count": 2,
   "id": "f7f39f93",
   "metadata": {},
   "outputs": [
    {
     "name": "stdout",
     "output_type": "stream",
     "text": [
      "39\n"
     ]
    }
   ],
   "source": [
    "list1=[3,4,7,8,2,9,6]\n",
    "l=0\n",
    "for i in list1:\n",
    "    l+=i\n",
    "print(l)\n",
    "    "
   ]
  },
  {
   "cell_type": "markdown",
   "id": "7b246632",
   "metadata": {},
   "source": [
    "3. Write a program to print the characters of a string in reverse order using a `for` loop."
   ]
  },
  {
   "cell_type": "code",
   "execution_count": 3,
   "id": "d0cd7a1d",
   "metadata": {},
   "outputs": [
    {
     "name": "stdout",
     "output_type": "stream",
     "text": [
      "original string :  character\n",
      "reversed string  retcarahc\n"
     ]
    }
   ],
   "source": [
    "def reverse_string(string):\n",
    "    reversed_string = \"\"\n",
    "    for i in string[::-1]:\n",
    "        reversed_string += i\n",
    "    return reversed_string\n",
    "string=\"character\"\n",
    "print(\"original string : \",string)\n",
    "str1=reverse_string(string)\n",
    "print(\"reversed string \",str1)"
   ]
  },
  {
   "cell_type": "markdown",
   "id": "e9b3dfc3",
   "metadata": {},
   "source": [
    "4. Develop a program that finds the factorial of a given number using a `for` loop."
   ]
  },
  {
   "cell_type": "code",
   "execution_count": 4,
   "id": "d772f548",
   "metadata": {},
   "outputs": [
    {
     "name": "stdout",
     "output_type": "stream",
     "text": [
      "give a number for factorial : 5\n",
      "factorial is : 120\n"
     ]
    }
   ],
   "source": [
    "def factorial(n):\n",
    "    fact=1\n",
    "    for i in range(2,n+1):\n",
    "        fact*=i\n",
    "    return fact\n",
    "n=int(input(\"give a number for factorial : \"))\n",
    "factorial=factorial(n)\n",
    "print(\"factorial is :\",factorial)"
   ]
  },
  {
   "cell_type": "markdown",
   "id": "d9c80a8f",
   "metadata": {},
   "source": [
    "5. Create a program to print the multiplication table of a given number using a `for` loop."
   ]
  },
  {
   "cell_type": "code",
   "execution_count": 5,
   "id": "026b9cfc",
   "metadata": {},
   "outputs": [
    {
     "name": "stdout",
     "output_type": "stream",
     "text": [
      "enter a number : 5\n",
      "table is : \n",
      "5 x 1 = 5\n",
      "5 x 2 = 10\n",
      "5 x 3 = 15\n",
      "5 x 4 = 20\n",
      "5 x 5 = 25\n",
      "5 x 6 = 30\n",
      "5 x 7 = 35\n",
      "5 x 8 = 40\n",
      "5 x 9 = 45\n",
      "5 x 10 = 50\n"
     ]
    }
   ],
   "source": [
    "def multiplication_table(n):\n",
    "    n=int(input(\"enter a number : \"))\n",
    "    print(\"table is : \")\n",
    "    for i in range(1,11):\n",
    "        print(n, \"x\", i, \"=\", n * i)\n",
    "    \n",
    "multiplication_table(n)\n"
   ]
  },
  {
   "cell_type": "markdown",
   "id": "c3ba0268",
   "metadata": {},
   "source": [
    "6. Write a program that counts the number of even and odd numbers in a list using a `for` loop."
   ]
  },
  {
   "cell_type": "code",
   "execution_count": 6,
   "id": "06695c02",
   "metadata": {},
   "outputs": [
    {
     "name": "stdout",
     "output_type": "stream",
     "text": [
      "enter a list of item seprated by spaces : 4 5 6 7\n",
      "Number of even numbers: 2\n",
      "Number of odd numbers: 2\n"
     ]
    }
   ],
   "source": [
    "def even_odd_count(list1):\n",
    "    list1=[int (x) for x in input(\"enter a list of item seprated by spaces : \").split()]\n",
    "    even=0\n",
    "    odd=0\n",
    "    for i in list1:\n",
    "        if i%2==0:\n",
    "            even+=1\n",
    "        else:\n",
    "            odd+=1\n",
    "    print(\"Number of even numbers:\", even)\n",
    "    print(\"Number of odd numbers:\", odd)   \n",
    "        \n",
    "\n",
    "even_odd_count(list1)\n",
    "\n"
   ]
  },
  {
   "cell_type": "markdown",
   "id": "4f289984",
   "metadata": {},
   "source": [
    "7. Develop a program that prints the squares of numbers from 1 to 5 using a `for` loop."
   ]
  },
  {
   "cell_type": "code",
   "execution_count": 7,
   "id": "4753d5b0",
   "metadata": {},
   "outputs": [
    {
     "name": "stdout",
     "output_type": "stream",
     "text": [
      "square if 1 is : 1\n",
      "square if 2 is : 4\n",
      "square if 3 is : 9\n",
      "square if 4 is : 16\n",
      "square if 5 is : 25\n"
     ]
    }
   ],
   "source": [
    "def square_of_number():\n",
    "    for i in range(1,6):\n",
    "        print(f\"square if {i} is : {i * i}\")\n",
    "square_of_number()"
   ]
  },
  {
   "cell_type": "markdown",
   "id": "536dc2b3",
   "metadata": {},
   "source": [
    "8. Create a program to find the length of a string without using the `len()` function."
   ]
  },
  {
   "cell_type": "code",
   "execution_count": 8,
   "id": "d4f2fd1b",
   "metadata": {},
   "outputs": [
    {
     "name": "stdout",
     "output_type": "stream",
     "text": [
      "string is :  Create\n",
      "length of string is :  6\n"
     ]
    }
   ],
   "source": [
    "def length_of_string(string):\n",
    "    length=0\n",
    "    for i in string:\n",
    "        length+=1\n",
    "    print(\"length of string is : \",length) \n",
    "string=\"Create\"\n",
    "print(\"string is : \",string)\n",
    "length_of_string(string)"
   ]
  },
  {
   "cell_type": "markdown",
   "id": "3ef56c39",
   "metadata": {},
   "source": [
    "9. Write a program that calculates the average of a list of numbers using a `for` loop."
   ]
  },
  {
   "cell_type": "code",
   "execution_count": 9,
   "id": "0b0737b4",
   "metadata": {},
   "outputs": [
    {
     "name": "stdout",
     "output_type": "stream",
     "text": [
      "enter a list item by using spaces5 6 8 9 3\n",
      "average of list is:  6.2\n"
     ]
    }
   ],
   "source": [
    "def calculate_avg():\n",
    "    num=[int(x)for x in input(\"enter a list item by using spaces\").split()]\n",
    "    add=0\n",
    "    n=len(num)\n",
    "    for i in num:\n",
    "        add+=i\n",
    "        avg=add/n\n",
    "    print(\"average of list is: \",avg)\n",
    "calculate_avg()"
   ]
  },
  {
   "cell_type": "markdown",
   "id": "c2a3b324",
   "metadata": {},
   "source": [
    "10. Develop a program that prints the first `n` Fibonacci numbers using a `for` loop."
   ]
  },
  {
   "cell_type": "code",
   "execution_count": 10,
   "id": "10b08145",
   "metadata": {},
   "outputs": [
    {
     "name": "stdout",
     "output_type": "stream",
     "text": [
      "enter a number : 5\n",
      "Fibonacci numbers is:  [0, 1, 1, 2, 3]\n"
     ]
    }
   ],
   "source": [
    "def fibonacci_num(n):\n",
    "    fibo=[0,1]\n",
    "    for i in range(n-2):\n",
    "        fibo.append(fibo[i]+fibo[i+1])\n",
    "    print(\"Fibonacci numbers is: \", fibo)\n",
    "n=int(input('enter a number : '))\n",
    "fibonacci_num(n)"
   ]
  },
  {
   "cell_type": "markdown",
   "id": "175e5414",
   "metadata": {},
   "source": [
    "11. Write a program to check if a given list contains any duplicates using a `for` loop."
   ]
  },
  {
   "cell_type": "code",
   "execution_count": 11,
   "id": "f09c3cac",
   "metadata": {},
   "outputs": [
    {
     "name": "stdout",
     "output_type": "stream",
     "text": [
      "enter a list of item seprated by spaces: 1 2 4 5 2 2\n"
     ]
    },
    {
     "data": {
      "text/plain": [
       "'duplicate'"
      ]
     },
     "execution_count": 11,
     "metadata": {},
     "output_type": "execute_result"
    }
   ],
   "source": [
    "def is_duplicate():\n",
    "    num=[int(x) for x in input(\"enter a list of item seprated by spaces: \").split()]\n",
    "    set1=set()\n",
    "    for i in num:\n",
    "        if i in set1:\n",
    "            return (\"duplicate\")\n",
    "        set1.add(i)\n",
    "    return(\"not duplicate\")\n",
    "is_duplicate()"
   ]
  },
  {
   "cell_type": "markdown",
   "id": "1726c9e1",
   "metadata": {},
   "source": [
    "12. Create a program that prints the prime numbers in a given range using a `for` loop."
   ]
  },
  {
   "cell_type": "code",
   "execution_count": 12,
   "id": "2ba0b756",
   "metadata": {},
   "outputs": [
    {
     "name": "stdout",
     "output_type": "stream",
     "text": [
      "enter a number is: 12\n"
     ]
    },
    {
     "data": {
      "text/plain": [
       "[2, 3, 5, 7, 11]"
      ]
     },
     "execution_count": 12,
     "metadata": {},
     "output_type": "execute_result"
    }
   ],
   "source": [
    "def prime_num(n):\n",
    "    prime=[]\n",
    "    for num in range (n+1):\n",
    "        if num>1:\n",
    "            for i in range(2,num):\n",
    "                if (num%i)==0:\n",
    "                    break\n",
    "            else:\n",
    "                prime.append(num)\n",
    "    return prime\n",
    "                \n",
    "num=int(input(\"enter a number is: \"))\n",
    "prime_num(num)"
   ]
  },
  {
   "cell_type": "markdown",
   "id": "43e5a3dc",
   "metadata": {},
   "source": [
    "13. Develop a program that counts the number of vowels in a string using a `for` loop."
   ]
  },
  {
   "cell_type": "code",
   "execution_count": 13,
   "id": "ac12714c",
   "metadata": {},
   "outputs": [
    {
     "name": "stdout",
     "output_type": "stream",
     "text": [
      "enter a string : i love my india 345\n"
     ]
    },
    {
     "data": {
      "text/plain": [
       "6"
      ]
     },
     "execution_count": 13,
     "metadata": {},
     "output_type": "execute_result"
    }
   ],
   "source": [
    "def voiwel_count(str1):\n",
    "    st=0\n",
    "    vowel=\"AEIOUaeiou\"\n",
    "    for i in str1:\n",
    "        if i in vowel:\n",
    "            st+=1\n",
    "    return st\n",
    "str1=str(input(\"enter a string : \"))\n",
    "voiwel_count(str1)"
   ]
  },
  {
   "cell_type": "markdown",
   "id": "55de4c8e",
   "metadata": {},
   "source": [
    "14. Write a program to find the maximum element in a 2D list using a nested `for` loop.\n"
   ]
  },
  {
   "cell_type": "code",
   "execution_count": 14,
   "id": "7eeaba05",
   "metadata": {},
   "outputs": [
    {
     "name": "stdout",
     "output_type": "stream",
     "text": [
      "Maximum element in the 2D list: 9\n"
     ]
    }
   ],
   "source": [
    "def find_max_2d(array):\n",
    "    max_element = float('-inf')  \n",
    "    for row in array:\n",
    "        for element in row:\n",
    "            if element > max_element:\n",
    "                max_element = element\n",
    "                \n",
    "    return max_element\n",
    "\n",
    "# Example usage:\n",
    "my_2d_list = [\n",
    "    [1, 2, 3],\n",
    "    [4, 5, 6],\n",
    "    [7, 8, 9]\n",
    "]\n",
    "\n",
    "max_element = find_max_2d(my_2d_list)\n",
    "print(\"Maximum element in the 2D list:\", max_element)\n"
   ]
  },
  {
   "cell_type": "markdown",
   "id": "a6196076",
   "metadata": {},
   "source": [
    "15. Create a program that removes all occurrences of a specific element from a list using a `for` loop."
   ]
  },
  {
   "cell_type": "code",
   "execution_count": 15,
   "id": "b2386d9c",
   "metadata": {},
   "outputs": [
    {
     "name": "stdout",
     "output_type": "stream",
     "text": [
      "love\n",
      "my\n",
      "india\n",
      "345\n"
     ]
    }
   ],
   "source": [
    "def remove_accurance(n,word):\n",
    "    for i in n:\n",
    "        if word==i:\n",
    "            pass\n",
    "        else:\n",
    "            print(i)\n",
    "lst=[\"i\" ,\"love\",\"my\" ,\"india\", 345]\n",
    "word=\"i\"\n",
    "remove_accurance(lst,word)"
   ]
  },
  {
   "cell_type": "markdown",
   "id": "42338d85",
   "metadata": {},
   "source": [
    "16. Develop a program that generates a multiplication table for numbers from 1 to 5 using a nested `for` loop."
   ]
  },
  {
   "cell_type": "code",
   "execution_count": 16,
   "id": "536726b5",
   "metadata": {},
   "outputs": [
    {
     "name": "stdout",
     "output_type": "stream",
     "text": [
      "Multiplication table for 1:\n",
      "1 x 1 = 1\n",
      "1 x 2 = 2\n",
      "1 x 3 = 3\n",
      "1 x 4 = 4\n",
      "1 x 5 = 5\n",
      "1 x 6 = 6\n",
      "1 x 7 = 7\n",
      "1 x 8 = 8\n",
      "1 x 9 = 9\n",
      "1 x 10 = 10\n",
      "\n",
      "Multiplication table for 2:\n",
      "2 x 1 = 2\n",
      "2 x 2 = 4\n",
      "2 x 3 = 6\n",
      "2 x 4 = 8\n",
      "2 x 5 = 10\n",
      "2 x 6 = 12\n",
      "2 x 7 = 14\n",
      "2 x 8 = 16\n",
      "2 x 9 = 18\n",
      "2 x 10 = 20\n",
      "\n",
      "Multiplication table for 3:\n",
      "3 x 1 = 3\n",
      "3 x 2 = 6\n",
      "3 x 3 = 9\n",
      "3 x 4 = 12\n",
      "3 x 5 = 15\n",
      "3 x 6 = 18\n",
      "3 x 7 = 21\n",
      "3 x 8 = 24\n",
      "3 x 9 = 27\n",
      "3 x 10 = 30\n",
      "\n",
      "Multiplication table for 4:\n",
      "4 x 1 = 4\n",
      "4 x 2 = 8\n",
      "4 x 3 = 12\n",
      "4 x 4 = 16\n",
      "4 x 5 = 20\n",
      "4 x 6 = 24\n",
      "4 x 7 = 28\n",
      "4 x 8 = 32\n",
      "4 x 9 = 36\n",
      "4 x 10 = 40\n",
      "\n",
      "Multiplication table for 5:\n",
      "5 x 1 = 5\n",
      "5 x 2 = 10\n",
      "5 x 3 = 15\n",
      "5 x 4 = 20\n",
      "5 x 5 = 25\n",
      "5 x 6 = 30\n",
      "5 x 7 = 35\n",
      "5 x 8 = 40\n",
      "5 x 9 = 45\n",
      "5 x 10 = 50\n",
      "\n"
     ]
    }
   ],
   "source": [
    "def mulitiplication_table():\n",
    "    for i in range(1,6):\n",
    "        print(f\"Multiplication table for {i}:\")\n",
    "        for j in range(1,11):\n",
    "            print(f\"{i} x {j} = {i * j}\")\n",
    "        print()\n",
    "mulitiplication_table()"
   ]
  },
  {
   "cell_type": "markdown",
   "id": "7f23b7b7",
   "metadata": {},
   "source": [
    "17. Write a program that converts a list of Fahrenheit temperatures to Celsius using a `for` loop."
   ]
  },
  {
   "cell_type": "code",
   "execution_count": 17,
   "id": "9cbd2c0c",
   "metadata": {},
   "outputs": [
    {
     "data": {
      "text/plain": [
       "[0.0, 1.6666666666666667, 3.3333333333333335, 20.0]"
      ]
     },
     "execution_count": 17,
     "metadata": {},
     "output_type": "execute_result"
    }
   ],
   "source": [
    "def Fahrenheit_Celsius(Fahrenheit):\n",
    "    celsius=[]\n",
    "    for i in Fahrenheit:\n",
    "        convert=(i-32)*5/9 \n",
    "        celsius.append(convert)\n",
    "    return celsius\n",
    "f=[32,35,38,68]\n",
    "Fahrenheit_Celsius(f)"
   ]
  },
  {
   "cell_type": "markdown",
   "id": "d9847900",
   "metadata": {},
   "source": [
    "18. Create a program to print the common elements from two lists using a `for` loop."
   ]
  },
  {
   "cell_type": "code",
   "execution_count": 18,
   "id": "472f2bed",
   "metadata": {},
   "outputs": [
    {
     "name": "stdout",
     "output_type": "stream",
     "text": [
      "enter the elment of list by seprating with , : 3,4,5,6,8\n",
      "enter the elment of list by seprating with , : 2,3,8,7,9,1\n",
      "common element is [3, 8]\n"
     ]
    }
   ],
   "source": [
    "def common_element(lst1,lst2):\n",
    "    common=[]\n",
    "    for i in lst1:\n",
    "        for j in lst2:\n",
    "            if i==j:\n",
    "                common.append(i)\n",
    "    print(\"common element is\",common)\n",
    "\n",
    "lst1=[int(x)for x in input(\"enter the elment of list by seprating with , : \").split(\",\")]\n",
    "lst2=[int(x)for x in input(\"enter the elment of list by seprating with , : \").split(\",\")]\n",
    "common_element(lst1,lst2)\n"
   ]
  },
  {
   "cell_type": "markdown",
   "id": "0aa4aa17",
   "metadata": {},
   "source": [
    "19. Develop a program that prints the pattern of right-angled triangles using a `for` loop. Use ‘*’ to draw the pattern"
   ]
  },
  {
   "cell_type": "code",
   "execution_count": 19,
   "id": "22869156",
   "metadata": {},
   "outputs": [
    {
     "name": "stdout",
     "output_type": "stream",
     "text": [
      "*  \n",
      "*  *  \n",
      "*  *  *  \n",
      "*  *  *  *  \n",
      "*  *  *  *  *  \n"
     ]
    }
   ],
   "source": [
    "for i in range(1,6):\n",
    "    for j in range(i):\n",
    "        print(\"*\",end='  ')\n",
    "    print()"
   ]
  },
  {
   "cell_type": "markdown",
   "id": "2e4d2ea8",
   "metadata": {},
   "source": [
    "20. Write a program to find the greatest common divisor (GCD) of two numbers using a `for` loop"
   ]
  },
  {
   "cell_type": "code",
   "execution_count": 20,
   "id": "dfc996a8",
   "metadata": {},
   "outputs": [
    {
     "name": "stdout",
     "output_type": "stream",
     "text": [
      "enter 1st number : 45\n",
      "enter 2st number : 30\n",
      "greatest common divisor (GCD) of 45 & 30  is:  15\n"
     ]
    }
   ],
   "source": [
    "def gcd(num1,num2):\n",
    "    if num1<num2:\n",
    "        num1,num2=num2,num1\n",
    "    gdc=1\n",
    "    for i in range(2,num2+1):\n",
    "        if num1%i==0 & num2%i==0:\n",
    "            gdc=i\n",
    "    print(f\"greatest common divisor (GCD) of {num1} & {num2}  is: \", gdc)\n",
    "num1=int(input(\"enter 1st number : \"))\n",
    "num2=int(input(\"enter 2st number : \"))\n",
    "gcd(num1,num2)"
   ]
  },
  {
   "cell_type": "markdown",
   "id": "62b74cf0",
   "metadata": {},
   "source": [
    "21. Create a program that calculates the sum of the digits of numbers in a list using a list comprehension."
   ]
  },
  {
   "cell_type": "code",
   "execution_count": 22,
   "id": "f7983ff3",
   "metadata": {},
   "outputs": [
    {
     "name": "stdout",
     "output_type": "stream",
     "text": [
      "enter the list number by seprating with ,: 3,4,5,6\n",
      "     list integer summation : [3, 4, 5, 6]\n"
     ]
    }
   ],
   "source": [
    "def  sum_of_digits():\n",
    "    lst=[int(x)for x in input(\"enter the list number by seprating with ,: \").split(\",\") ]\n",
    "    res=[]\n",
    "    for i in lst:\n",
    "        sum=0\n",
    "        for j in str(i):\n",
    "            sum+=int(j)\n",
    "        res.append(sum)\n",
    "    print(\"     list integer summation :\",res)\n",
    "sum_of_digits()"
   ]
  },
  {
   "cell_type": "markdown",
   "id": "1b578a77",
   "metadata": {},
   "source": [
    "22. Write a program to find the prime factors of a given number using a `for` loop and list comprehension."
   ]
  },
  {
   "cell_type": "code",
   "execution_count": 23,
   "id": "bfa79526",
   "metadata": {},
   "outputs": [
    {
     "name": "stdout",
     "output_type": "stream",
     "text": [
      "315\n",
      "prime factors of a given number:  [3, 5, 7]\n"
     ]
    }
   ],
   "source": [
    "import math\n",
    "def prime_factor(n):\n",
    "    res=[]\n",
    "    if n > 2:\n",
    "        print(n)\n",
    "        for i in range(3,int(math.sqrt(n))+1,2):\n",
    "            if n % i== 0:\n",
    "                n=n//i\n",
    "                res.append(i)\n",
    "        print(\"prime factors of a given number: \",res)\n",
    "            \n",
    "                \n",
    "\n",
    "n=315                \n",
    "prime_factor(n)"
   ]
  },
  {
   "cell_type": "markdown",
   "id": "73f2d6eb",
   "metadata": {},
   "source": [
    "23. Develop a program that extracts unique elements from a list and stores them in a new list using a list comprehension."
   ]
  },
  {
   "cell_type": "code",
   "execution_count": 24,
   "id": "8182cc9b",
   "metadata": {},
   "outputs": [
    {
     "name": "stdout",
     "output_type": "stream",
     "text": [
      "Original List: [1, 2, 3, 4, 2, 3, 5, 6, 7, 5]\n",
      "Unique Elements: [1, 2, 3, 4, 5, 6, 7]\n"
     ]
    }
   ],
   "source": [
    "\n",
    "original_list = [1, 2, 3, 4, 2, 3, 5, 6, 7, 5]\n",
    "\n",
    "unique_elements = []\n",
    "for x in original_list:\n",
    "    if x not in unique_elements:\n",
    "        unique_elements.append(x) \n",
    "        \n",
    "\n",
    "# Print the unique elements\n",
    "print(\"Original List:\", original_list)\n",
    "print(\"Unique Elements:\", unique_elements)\n"
   ]
  },
  {
   "cell_type": "markdown",
   "id": "897a0efc",
   "metadata": {},
   "source": [
    "24. Create a program that generates a list of all palindromic numbers up to a specified limit using a list comprehension."
   ]
  },
  {
   "cell_type": "code",
   "execution_count": 25,
   "id": "727e98ab",
   "metadata": {},
   "outputs": [
    {
     "name": "stdout",
     "output_type": "stream",
     "text": [
      "Enter the limit: 15\n",
      "Palindromic Numbers up to 15 : [0, 1, 2, 3, 4, 5, 6, 7, 8, 9, 11]\n"
     ]
    }
   ],
   "source": [
    "def generate_palindromic_numbers(n):\n",
    "    lis = []\n",
    "    for i in range(n + 1):\n",
    "        if str(i) == str(i)[::-1]:  # Check if i is palindromic\n",
    "            lis.append(i)\n",
    "    return lis\n",
    "\n",
    "# Input the limit\n",
    "limit = int(input(\"Enter the limit: \"))\n",
    "\n",
    "# Generate and print the list of palindromic numbers\n",
    "palindromic_numbers = generate_palindromic_numbers(limit)\n",
    "print(\"Palindromic Numbers up to\", limit, \":\", palindromic_numbers)\n"
   ]
  },
  {
   "cell_type": "markdown",
   "id": "1f6ac809",
   "metadata": {},
   "source": [
    "25. Write a program to flatten a nested list using list comprehension."
   ]
  },
  {
   "cell_type": "code",
   "execution_count": 26,
   "id": "dc6bc388",
   "metadata": {},
   "outputs": [
    {
     "name": "stdout",
     "output_type": "stream",
     "text": [
      "original list is:  [[9, 3], [5, 6], [1, 2]]\n",
      "flatten list:  [9, 3, 5, 6, 1, 2]\n"
     ]
    }
   ],
   "source": [
    "def flatten_list(lst):\n",
    "    flatt=[]\n",
    "    for i in lst:\n",
    "        for j in i:\n",
    "            flatt.append(j)\n",
    "    print(\"flatten list: \",flatt)\n",
    "lst=[[9,3],[5,6],[1,2]]\n",
    "print(\"original list is: \",lst)\n",
    "flatten_list(lst)"
   ]
  },
  {
   "cell_type": "markdown",
   "id": "4e1cd76d",
   "metadata": {},
   "source": [
    "26. Develop a program that computes the sum of even and odd numbers in a list separately using list comprehension."
   ]
  },
  {
   "cell_type": "code",
   "execution_count": 27,
   "id": "0907471a",
   "metadata": {},
   "outputs": [
    {
     "name": "stdout",
     "output_type": "stream",
     "text": [
      "sum of even numbers is:  10\n",
      "sum of odd numbers is:  12\n"
     ]
    }
   ],
   "source": [
    "def sum_of_odd_even(lst):\n",
    "    odd=0\n",
    "    even=0\n",
    "    for i in lst:\n",
    "        if i%2==0:\n",
    "            even+=i\n",
    "        else:\n",
    "            odd+=i\n",
    "    print( \"sum of even numbers is: \",even)\n",
    "    print( \"sum of odd numbers is: \",odd)\n",
    "lst=[4,5,6,7]\n",
    "sum_of_odd_even(lst)"
   ]
  },
  {
   "cell_type": "markdown",
   "id": "9b858f60",
   "metadata": {},
   "source": [
    "27. Create a program that generates a list of squares of odd numbers between 1 and 10 using list comprehension."
   ]
  },
  {
   "cell_type": "code",
   "execution_count": 28,
   "id": "27a05924",
   "metadata": {},
   "outputs": [
    {
     "name": "stdout",
     "output_type": "stream",
     "text": [
      " list of squares of odd numbers between 1 and 10 :  [1, 9, 25, 49, 81]\n"
     ]
    }
   ],
   "source": [
    "def list_of_square():\n",
    "    lst=[]\n",
    "    for i in range(1,11):\n",
    "        if i%2!=0:\n",
    "            square=i*i\n",
    "            lst.append(square)\n",
    "    print (\" list of squares of odd numbers between 1 and 10 : \",lst)\n",
    "list_of_square()        "
   ]
  },
  {
   "cell_type": "markdown",
   "id": "272afed4",
   "metadata": {},
   "source": [
    "28. Write a program that combines two lists into a dictionary using list comprehension.\n"
   ]
  },
  {
   "cell_type": "code",
   "execution_count": 29,
   "id": "83b11349",
   "metadata": {},
   "outputs": [
    {
     "data": {
      "text/plain": [
       "{'a': 1, 'b': 2, 'c': 3}"
      ]
     },
     "execution_count": 29,
     "metadata": {},
     "output_type": "execute_result"
    }
   ],
   "source": [
    "def combines_list_to_dictionary(keys,values):\n",
    "    dict1={}\n",
    "    for i in range(max(len(keys),len(values))):\n",
    "        dict1[keys[i]] = values[i]\n",
    "    return dict1\n",
    "# Two lists to combine into a dictionary\n",
    "keys = ['a', 'b', 'c']\n",
    "values = [1, 2, 3]\n",
    "combines_list_to_dictionary(keys,values)\n"
   ]
  },
  {
   "cell_type": "markdown",
   "id": "039d1a27",
   "metadata": {},
   "source": [
    "29. Develop a program that extracts the vowels from a string and stores them in a list using list comprehension."
   ]
  },
  {
   "cell_type": "code",
   "execution_count": 30,
   "id": "167dfa77",
   "metadata": {},
   "outputs": [
    {
     "name": "stdout",
     "output_type": "stream",
     "text": [
      "string is:  removes all non-numeric characters\n",
      "Vowels in the string:  ['e', 'o', 'e', 'a', 'o', 'u', 'e', 'i', 'a', 'a', 'e']\n"
     ]
    }
   ],
   "source": [
    "def extract_vowel(string):\n",
    "    vowel=\"aeiouAEIOU\"\n",
    "    lis=[]\n",
    "    for i in string:\n",
    "        if i in vowel:\n",
    "            lis.append(i)\n",
    "    print(\"Vowels in the string: \",lis)\n",
    "string='removes all non-numeric characters'\n",
    "print(\"string is: \",string)\n",
    "extract_vowel(string)"
   ]
  },
  {
   "cell_type": "markdown",
   "id": "1237cd32",
   "metadata": {},
   "source": [
    "30. Create a program that removes all non-numeric characters from a list of strings using list comprehension."
   ]
  },
  {
   "cell_type": "code",
   "execution_count": 31,
   "id": "83ca3d29",
   "metadata": {},
   "outputs": [
    {
     "name": "stdout",
     "output_type": "stream",
     "text": [
      "original string is  ['abc123', '456def', '789ghi']\n",
      "List with non-numeric characters removed:  ['123', '456', '789']\n"
     ]
    }
   ],
   "source": [
    "def remove_non_numeric(string):\n",
    "    lis=[]\n",
    "    for s in string:\n",
    "        l=''.join(i for i in s if i.isdigit())\n",
    "        lis.append(l)\n",
    "    print(\"List with non-numeric characters removed: \",lis)\n",
    "        \n",
    "string = [\"abc123\", \"456def\", \"789ghi\"]\n",
    "print(\"original string is \",string)\n",
    "remove_non_numeric(string)\n"
   ]
  },
  {
   "cell_type": "markdown",
   "id": "5f7cca80",
   "metadata": {},
   "source": [
    "# Challenge Level:"
   ]
  },
  {
   "cell_type": "markdown",
   "id": "b49bba71",
   "metadata": {},
   "source": [
    "31. Write a program to generate a list of prime numbers using the Sieve of Eratosthenes algorithm and list comprehension."
   ]
  },
  {
   "cell_type": "code",
   "execution_count": 32,
   "id": "03e2a596",
   "metadata": {},
   "outputs": [
    {
     "name": "stdout",
     "output_type": "stream",
     "text": [
      "Enter the upper limit for prime numbers generation: 10\n",
      "Prime numbers up to 10 : [2, 3, 5, 7]\n"
     ]
    }
   ],
   "source": [
    "def sieve_of_eratosthenes(n):\n",
    "    sieve = [True] * (n + 1)\n",
    "    sieve[0] = sieve[1] = False\n",
    "    for i in range(2, int(n**0.5) + 1):\n",
    "        if sieve[i]:\n",
    "            sieve[i*i:n+1:i] = [False] * len(range(i*i, n+1, i))\n",
    "    return [i for i in range(2, n + 1) if sieve[i]]\n",
    "\n",
    "# Example usage:\n",
    "n = int(input(\"Enter the upper limit for prime numbers generation: \"))\n",
    "prime_numbers = sieve_of_eratosthenes(n)\n",
    "print(\"Prime numbers up to\", n, \":\", prime_numbers)\n"
   ]
  },
  {
   "cell_type": "markdown",
   "id": "ec1ec8c0",
   "metadata": {},
   "source": [
    "32. Create a program that generates a list of all Pythagorean triplets up to a specified limit using list comprehension."
   ]
  },
  {
   "cell_type": "code",
   "execution_count": 33,
   "id": "ae015caf",
   "metadata": {},
   "outputs": [
    {
     "name": "stdout",
     "output_type": "stream",
     "text": [
      "Enter the limit for Pythagorean triplets generation: 16\n",
      "Pythagorean triplets up to 16 : [(3, 4, 5), (4, 3, 5), (6, 8, 10), (8, 6, 10), (5, 12, 13), (12, 5, 13), (9, 12, 15), (12, 9, 15)]\n"
     ]
    }
   ],
   "source": [
    "def pythagorean_triplets(limit):\n",
    "    lis = []\n",
    "    for c in range(1, limit + 1):\n",
    "        for a in range(1, c):\n",
    "            for b in range(1, c):\n",
    "                if a**2 + b**2 == c**2:\n",
    "                    lis.append((a, b, c))\n",
    "    return lis\n",
    "limit = int(input(\"Enter the limit for Pythagorean triplets generation: \"))\n",
    "triplets = pythagorean_triplets(limit)\n",
    "print(\"Pythagorean triplets up to\", limit, \":\", triplets)"
   ]
  },
  {
   "cell_type": "markdown",
   "id": "9a1f8fc1",
   "metadata": {},
   "source": [
    "33. Develop a program that generates a list of all possible combinations of two lists using list comprehension."
   ]
  },
  {
   "cell_type": "code",
   "execution_count": 38,
   "id": "3131ae19",
   "metadata": {},
   "outputs": [
    {
     "name": "stdout",
     "output_type": "stream",
     "text": [
      "All possible combinations: [(1, 'a'), (1, 'b'), (1, 'c'), (2, 'a'), (2, 'b'), (2, 'c'), (3, 'a'), (3, 'b'), (3, 'c')]\n"
     ]
    }
   ],
   "source": [
    "def generate_combinations(list1, list2):\n",
    "    lis=[]\n",
    "    for i in list1:\n",
    "        for j in  list2:\n",
    "            lis.append((i,j))\n",
    "    return lis\n",
    "\n",
    "# Example usage:\n",
    "list1 = [1, 2, 3]\n",
    "list2 = ['a', 'b', 'c']\n",
    "combinations = generate_combinations(list1, list2)\n",
    "print(\"All possible combinations:\", combinations)"
   ]
  },
  {
   "cell_type": "markdown",
   "id": "9fbdebad",
   "metadata": {},
   "source": [
    "34. Write a program that calculates the mean, median, and mode of a list of numbers using list comprehension."
   ]
  },
  {
   "cell_type": "code",
   "execution_count": 39,
   "id": "571bbd36",
   "metadata": {},
   "outputs": [
    {
     "name": "stdout",
     "output_type": "stream",
     "text": [
      "Mean: 5.166666666666667\n",
      "Median: 5.5\n",
      "Mode: [6]\n"
     ]
    }
   ],
   "source": [
    "from collections import Counter\n",
    "\n",
    "def calculate_mean(numbers):\n",
    "    return sum(numbers) / len(numbers)\n",
    "\n",
    "def calculate_median(numbers):\n",
    "    sorted_numbers = sorted(numbers)\n",
    "    n = len(sorted_numbers)\n",
    "    if n % 2 == 0:\n",
    "        return (sorted_numbers[n//2 - 1] + sorted_numbers[n//2]) / 2\n",
    "    else:\n",
    "        return sorted_numbers[n//2]\n",
    "\n",
    "def calculate_mode(numbers):\n",
    "    count_dict = {}\n",
    "    for num in numbers:\n",
    "        if num in count_dict:\n",
    "            count_dict[num] += 1\n",
    "        else:\n",
    "            count_dict[num] = 1\n",
    "    max_count = max(count_dict.values())\n",
    "    mode = [num for num, count in count_dict.items() if count == max_count]\n",
    "    return mode\n",
    "# Example usage:\n",
    "numbers = [1, 2, 3, 4, 5, 5, 6, 6, 6, 7, 8, 9]\n",
    "mean = calculate_mean(numbers)\n",
    "median = calculate_median(numbers)\n",
    "mode = calculate_mode(numbers)\n",
    "print(\"Mean:\", mean)\n",
    "print(\"Median:\", median)\n",
    "print(\"Mode:\", mode)\n"
   ]
  },
  {
   "cell_type": "markdown",
   "id": "c0dd228e",
   "metadata": {},
   "source": [
    "35. Create a program that generates Pascal's triangle up to a specified number of rows using list comprehension."
   ]
  },
  {
   "cell_type": "code",
   "execution_count": 41,
   "id": "ab4a9c6b",
   "metadata": {},
   "outputs": [
    {
     "name": "stdout",
     "output_type": "stream",
     "text": [
      "      1 \n",
      "     1 1 \n",
      "    1 2 1 \n",
      "   1 3 3 1 \n",
      "  1 4 6 4 1 \n"
     ]
    }
   ],
   "source": [
    "# Print Pascal's Triangle in Python\n",
    "from math import factorial\n",
    "\n",
    "n = 5\n",
    "for i in range(n):\n",
    "    for j in range(n-i+1):\n",
    "        print(end=\" \")\n",
    "    for j in range(i+1):\n",
    "        print(factorial(i)//(factorial(j)*factorial(i-j)), end=\" \")\n",
    "    print()\n"
   ]
  },
  {
   "cell_type": "markdown",
   "id": "edad1fa0",
   "metadata": {},
   "source": [
    "36. Develop a program that calculates the sum of the digits of a factorial of numbers from 1 to 5 using list comprehension."
   ]
  },
  {
   "cell_type": "code",
   "execution_count": 53,
   "id": "13f31199",
   "metadata": {},
   "outputs": [
    {
     "name": "stdout",
     "output_type": "stream",
     "text": [
      "Sum of digits of factorial of 1: 1\n",
      "Sum of digits of factorial of 2: 2\n",
      "Sum of digits of factorial of 3: 6\n",
      "Sum of digits of factorial of 4: 6\n",
      "Sum of digits of factorial of 5: 3\n"
     ]
    }
   ],
   "source": [
    "def factorial(n):\n",
    "    fact = 1\n",
    "    for i in range(2, n + 1):\n",
    "        fact *= i\n",
    "    return fact\n",
    "\n",
    "def sum_of_digits(num):\n",
    "    total = 0\n",
    "    while num:\n",
    "        total += num % 10\n",
    "        num //= 10\n",
    "    return total\n",
    "\n",
    "# Calculate factorials and sum of digits using list comprehension\n",
    "sum_of_digits_factorials = [sum_of_digits(factorial(num)) for num in range(1, 6)]\n",
    "\n",
    "# Print the results\n",
    "for i, result in enumerate(sum_of_digits_factorials, start=1):\n",
    "    print(f\"Sum of digits of factorial of {i}: {result}\")\n"
   ]
  },
  {
   "cell_type": "markdown",
   "id": "9c51eb70",
   "metadata": {},
   "source": [
    "37. Write a program that finds the longest word in a sentence using list comprehension."
   ]
  },
  {
   "cell_type": "code",
   "execution_count": 44,
   "id": "ad8616bf",
   "metadata": {},
   "outputs": [
    {
     "name": "stdout",
     "output_type": "stream",
     "text": [
      "Enter a sentence: The longest word in the sentence is\n",
      "The longest word in the sentence is: sentence\n"
     ]
    }
   ],
   "source": [
    "def longest_word(sentence):\n",
    "    words = sentence.split()\n",
    "    longest = \"\"\n",
    "    max_length = 0\n",
    "    for word in words:\n",
    "        if len(word) > max_length:\n",
    "            longest = word\n",
    "            max_length = len(word)\n",
    "    \n",
    "    return longest\n",
    "\n",
    "# Example usage:\n",
    "sentence = input(\"Enter a sentence: \")\n",
    "longest = longest_word(sentence)\n",
    "print(\"The longest word in the sentence is:\", longest)\n"
   ]
  },
  {
   "cell_type": "markdown",
   "id": "e5934415",
   "metadata": {},
   "source": [
    "38. Create a program that filters a list of strings to include only those with more than three vowels using list comprehension."
   ]
  },
  {
   "cell_type": "code",
   "execution_count": 43,
   "id": "f12f5098",
   "metadata": {},
   "outputs": [
    {
     "name": "stdout",
     "output_type": "stream",
     "text": [
      "list of item which contain morethan three_vowel  ['artificial', 'intelligence', 'openai']\n"
     ]
    }
   ],
   "source": [
    "def list_contain_morethan_three_vowel(strings):\n",
    "    lis = []\n",
    "    vowels = \"AEIOUaeiou\"\n",
    "    for string in strings:\n",
    "        count = 0\n",
    "        for char in string:\n",
    "            if char in vowels:\n",
    "                count += 1\n",
    "            if count > 3:\n",
    "                lis.append(string)\n",
    "                break  # Break out of the loop once condition is met\n",
    "    return lis\n",
    "\n",
    "strings = [\"hello\", \"world\", \"programming\", \"python\", \"artificial\", \"intelligence\", \"openai\"]\n",
    "result = list_contain_morethan_three_vowel(strings)\n",
    "print(\"list of item which contain morethan three_vowel \",result)\n"
   ]
  },
  {
   "cell_type": "markdown",
   "id": "fbc6d2a8",
   "metadata": {},
   "source": [
    "39. Develop a program that calculates the sum of the digits of numbers from 1 to 1000 using list comprehension."
   ]
  },
  {
   "cell_type": "code",
   "execution_count": 45,
   "id": "fe1a57fb",
   "metadata": {},
   "outputs": [
    {
     "name": "stdout",
     "output_type": "stream",
     "text": [
      "The sum of the digits of numbers from 1 to 1000 is: 13501\n"
     ]
    }
   ],
   "source": [
    "def sum_of_digit(n):\n",
    "    add = 0\n",
    "    while n > 0:\n",
    "        add += n % 10\n",
    "        n = n // 10\n",
    "    return add\n",
    "\n",
    "def sum_of_digit_list(num):\n",
    "    total_sum = 0\n",
    "    for j in num:\n",
    "        total_sum += sum_of_digit(j)\n",
    "    return total_sum\n",
    "    \n",
    "n = 1000\n",
    "numbers = range(1, n+1)\n",
    "result = sum_of_digit_list(numbers)\n",
    "print(\"The sum of the digits of numbers from 1 to 1000 is:\", result)\n"
   ]
  },
  {
   "cell_type": "markdown",
   "id": "3b65418e",
   "metadata": {},
   "source": [
    "40. Write a program that generates a list of prime palindromic numbers using list comprehension"
   ]
  },
  {
   "cell_type": "code",
   "execution_count": 49,
   "id": "15f630a9",
   "metadata": {},
   "outputs": [
    {
     "name": "stdout",
     "output_type": "stream",
     "text": [
      "Prime palindromic numbers from 1 to 1000: [2, 3, 5, 7, 11, 101, 131, 151, 181, 191, 313, 353, 373, 383, 727, 757, 787, 797, 919, 929]\n"
     ]
    }
   ],
   "source": [
    "# Function to check if a number is prime\n",
    "def is_prime(n):\n",
    "    if n <= 1:\n",
    "        return False\n",
    "    if n == 2:\n",
    "        return True\n",
    "    if n % 2 == 0:\n",
    "        return False\n",
    "    for i in range(3, int(n ** 0.5) + 1, 2):\n",
    "        if n % i == 0:\n",
    "            return False\n",
    "    return True\n",
    "def is_palindrome(n):\n",
    "    return str(n) == str(n)[::-1]\n",
    "def prime_palindrome():\n",
    "    lis=[]\n",
    "    for num in range(1, 1000):\n",
    "        if is_prime(num) and is_palindrome(num):\n",
    "            lis.append(num)\n",
    "    return lis\n",
    "prime_palindromes=prime_palindrome()\n",
    "print(\"Prime palindromic numbers from 1 to 1000:\", prime_palindromes)\n"
   ]
  },
  {
   "cell_type": "code",
   "execution_count": null,
   "id": "7ab72d40",
   "metadata": {},
   "outputs": [],
   "source": []
  }
 ],
 "metadata": {
  "kernelspec": {
   "display_name": "Python 3 (ipykernel)",
   "language": "python",
   "name": "python3"
  },
  "language_info": {
   "codemirror_mode": {
    "name": "ipython",
    "version": 3
   },
   "file_extension": ".py",
   "mimetype": "text/x-python",
   "name": "python",
   "nbconvert_exporter": "python",
   "pygments_lexer": "ipython3",
   "version": "3.9.7"
  }
 },
 "nbformat": 4,
 "nbformat_minor": 5
}
