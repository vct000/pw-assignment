{
 "cells": [
  {
   "cell_type": "markdown",
   "id": "18f5aa45",
   "metadata": {},
   "source": [
    "1. Declare two variables, `x` and `y`, and assign them integer values. Swap the\n",
    "values of these variables without using any temporary variable."
   ]
  },
  {
   "cell_type": "code",
   "execution_count": 13,
   "id": "e3603a69",
   "metadata": {},
   "outputs": [
    {
     "name": "stdout",
     "output_type": "stream",
     "text": [
      "declare two varieble\n",
      " first varieble is 10 and  second varieble is 15\n",
      "\n",
      "after swaped\n",
      "  first varieble is 15 and second varieble is 10\n"
     ]
    }
   ],
   "source": [
    "x=10\n",
    "y=15\n",
    "print('declare two varieble')\n",
    "print(f' first varieble is {x} and  second varieble is {y}')\n",
    "print()\n",
    "x,y=y,x\n",
    "\n",
    "print('after swaped')\n",
    "print(f'  first varieble is {x} and second varieble is {y}')"
   ]
  },
  {
   "cell_type": "markdown",
   "id": "fdfe3bea",
   "metadata": {},
   "source": [
    "2 . Create a program that calculates the area of a rectangle. Take the length and\n",
    "width as inputs from the user and store them in variables. Calculate and\n",
    "display the area."
   ]
  },
  {
   "cell_type": "code",
   "execution_count": 15,
   "id": "b939d12c",
   "metadata": {},
   "outputs": [
    {
     "name": "stdout",
     "output_type": "stream",
     "text": [
      "enter length of rectangle 5.6\n",
      "enter width of rectangle 7.8\n",
      "area of rectangle is     43.68\n"
     ]
    }
   ],
   "source": [
    "length=eval(input('enter length of rectangle '))\n",
    "width =eval(input('enter width of rectangle '))\n",
    "print(f'area of rectangle is     {length*width}')"
   ]
  },
  {
   "cell_type": "markdown",
   "id": "62af1a65",
   "metadata": {},
   "source": [
    "3. Write a Python program that converts temperatures from Celsius to\n",
    "Fahrenheit. Take the temperature in Celsius as input, store it in a variable,\n",
    "convert it to Fahrenheit, and display the result."
   ]
  },
  {
   "cell_type": "code",
   "execution_count": 17,
   "id": "f6dc2852",
   "metadata": {},
   "outputs": [
    {
     "name": "stdout",
     "output_type": "stream",
     "text": [
      "enter the temprature in celsius 35\n",
      "converted celsius to fahrenheit  95.0\n"
     ]
    }
   ],
   "source": [
    "t1=eval(input('enter the temprature in celsius '))\n",
    "fahrenheit=(t1*9/5)+32\n",
    "print( \"converted celsius to fahrenheit \",fahrenheit)"
   ]
  },
  {
   "cell_type": "markdown",
   "id": "fd15d527",
   "metadata": {},
   "source": [
    "# TOPIC: String Based Questions\n"
   ]
  },
  {
   "cell_type": "markdown",
   "id": "853f4c56",
   "metadata": {},
   "source": [
    "1. Write a Python program that takes a string as input and prints the length of\n",
    "the string."
   ]
  },
  {
   "cell_type": "code",
   "execution_count": 18,
   "id": "065b3073",
   "metadata": {},
   "outputs": [
    {
     "name": "stdout",
     "output_type": "stream",
     "text": [
      "enter a string python\n",
      "length of string is  6\n"
     ]
    }
   ],
   "source": [
    "string=str(input('enter a string '))\n",
    "length=len(string)\n",
    "print('length of string is ',length)"
   ]
  },
  {
   "cell_type": "markdown",
   "id": "037143cb",
   "metadata": {},
   "source": [
    "2. Create a program that takes a sentence from the user and counts the number\n",
    "of vowels (a, e, i, o, u) in the string.\n"
   ]
  },
  {
   "cell_type": "code",
   "execution_count": 20,
   "id": "300bb922",
   "metadata": {},
   "outputs": [
    {
     "name": "stdout",
     "output_type": "stream",
     "text": [
      "total no of vowel is  36\n"
     ]
    }
   ],
   "source": [
    "string=''' Twinkle, twinkle, little star,\n",
    " How I wonder what you are!\n",
    "  Up above the world so high,\n",
    " Like a diamond in the sky.'''\n",
    "string=string.lower()\n",
    "vowels='a,e,i,o,u'\n",
    "count=0\n",
    "for i in string:\n",
    "    if i in vowels:\n",
    "        count+=1\n",
    "print('total no of vowel is ',count)    "
   ]
  },
  {
   "cell_type": "markdown",
   "id": "655872bd",
   "metadata": {},
   "source": [
    "3. Given a string, reverse the order of characters using string slicing and print\n",
    "the reversed string."
   ]
  },
  {
   "cell_type": "code",
   "execution_count": 23,
   "id": "194ea514",
   "metadata": {},
   "outputs": [
    {
     "name": "stdout",
     "output_type": "stream",
     "text": [
      "original string is  python\n",
      " reversed string is  nohtyp\n"
     ]
    }
   ],
   "source": [
    "string='python'\n",
    "rev_string=string[::-1]\n",
    "print(\"original string is \",string)\n",
    "print(\"reversed string is \", rev_string)"
   ]
  },
  {
   "cell_type": "markdown",
   "id": "ed2fd913",
   "metadata": {},
   "source": [
    "4. Write a program that takes a string as input and checks if it is a palindrome\n",
    "(reads the same forwards and backwards)."
   ]
  },
  {
   "cell_type": "code",
   "execution_count": 33,
   "id": "6d8d70b0",
   "metadata": {},
   "outputs": [
    {
     "name": "stdout",
     "output_type": "stream",
     "text": [
      "enter a string  ere\n",
      "string is palindrome\n"
     ]
    }
   ],
   "source": [
    "string=str(input('enter a string  '))\n",
    "\n",
    "if (string == string[::-1]):\n",
    "    print('string is palindrome')\n",
    "else:\n",
    "    print('string is not a palidrome')"
   ]
  },
  {
   "cell_type": "markdown",
   "id": "8a3b9fbb",
   "metadata": {},
   "source": [
    "5. Create a program that takes a string as input and removes all the spaces from\n",
    "it. Print the modified string without spaces."
   ]
  },
  {
   "cell_type": "code",
   "execution_count": 35,
   "id": "05340288",
   "metadata": {},
   "outputs": [
    {
     "name": "stdout",
     "output_type": "stream",
     "text": [
      "enter a string  this is my first python lecture\n",
      "modified string is  thisismyfirstpythonlecture\n"
     ]
    }
   ],
   "source": [
    "string=str(input('enter a string  '))\n",
    "mod_string=string.replace(' ','')\n",
    "print('modified string is ',mod_string)"
   ]
  }
 ],
 "metadata": {
  "kernelspec": {
   "display_name": "Python 3 (ipykernel)",
   "language": "python",
   "name": "python3"
  },
  "language_info": {
   "codemirror_mode": {
    "name": "ipython",
    "version": 3
   },
   "file_extension": ".py",
   "mimetype": "text/x-python",
   "name": "python",
   "nbconvert_exporter": "python",
   "pygments_lexer": "ipython3",
   "version": "3.9.7"
  }
 },
 "nbformat": 4,
 "nbformat_minor": 5
}
